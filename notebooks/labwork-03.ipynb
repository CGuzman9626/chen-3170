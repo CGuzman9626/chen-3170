{
 "cells": [
  {
   "cell_type": "markdown",
   "metadata": {},
   "source": [
    "ChEn-3170: Computational Methods in Chemical Engineering Fall 2021 UMass Lowell; Prof. V. F. de Almeida **29Sep21**\n",
    "\n",
    "# Laboratory Work 03 (30Sep21)\n",
    "$\n",
    "  \\newcommand{\\Amtrx}{\\boldsymbol{\\mathsf{A}}}\n",
    "  \\newcommand{\\Bmtrx}{\\boldsymbol{\\mathsf{B}}}\n",
    "  \\newcommand{\\Cmtrx}{\\boldsymbol{\\mathsf{C}}}\n",
    "  \\newcommand{\\Mmtrx}{\\boldsymbol{\\mathsf{M}}}\n",
    "  \\newcommand{\\Smtrx}{\\boldsymbol{\\mathsf{S}}}\n",
    "  \\newcommand{\\Imtrx}{\\boldsymbol{\\mathsf{I}}}\n",
    "  \\newcommand{\\Pmtrx}{\\boldsymbol{\\mathsf{P}}}\n",
    "  \\newcommand{\\Qmtrx}{\\boldsymbol{\\mathsf{Q}}}\n",
    "  \\newcommand{\\Lmtrx}{\\boldsymbol{\\mathsf{L}}}\n",
    "  \\newcommand{\\Umtrx}{\\boldsymbol{\\mathsf{U}}}\n",
    "  \\newcommand{\\xvec}{\\boldsymbol{\\mathsf{x}}}\n",
    "  \\newcommand{\\yvec}{\\boldsymbol{\\mathsf{y}}}\n",
    "  \\newcommand{\\zvec}{\\boldsymbol{\\mathsf{z}}}\n",
    "  \\newcommand{\\avec}{\\boldsymbol{\\mathsf{a}}}\n",
    "  \\newcommand{\\bvec}{\\boldsymbol{\\mathsf{b}}}\n",
    "  \\newcommand{\\cvec}{\\boldsymbol{\\mathsf{c}}}\n",
    "  \\newcommand{\\rvec}{\\boldsymbol{\\mathsf{r}}}\n",
    "  \\newcommand{\\gvec}{\\boldsymbol{\\mathsf{g}}}\n",
    "  \\newcommand{\\norm}[1]{\\bigl\\lVert{#1}\\bigr\\rVert}\n",
    "  \\DeclareMathOperator{\\rank}{rank}\n",
    "  \\DeclareMathOperator{\\abs}{abs}\n",
    "$"
   ]
  },
  {
   "cell_type": "markdown",
   "metadata": {},
   "source": [
    "### Name: `your name`"
   ]
  },
  {
   "cell_type": "markdown",
   "metadata": {},
   "source": [
    "### Rubric for each assignment: \n",
    "\n",
    "|      Context       |  Points |\n",
    "|:----------------------------|:-------:|\n",
    "| Precision of the answer     |  80%    |\n",
    "| Answer Markdown readability |  10%    |\n",
    "| Code readability            |  10%    |\n",
    "    "
   ]
  },
  {
   "cell_type": "markdown",
   "metadata": {},
   "source": [
    "### <span style=\"color:red\">Guidance:</span>\n",
    "\n",
    "+  <span style=\"color:red\"> \n",
    "    Save your work frequently to a file locally to your computer.\n",
    "   </span>\n",
    "+  <span style=\"color:red\">\n",
    "    During your work and before submitting the final version do:</span> Kernel -> Restart & Run All<span style=\"color:red\">, to verify your notebook runs correctly.\n",
    "   </span>\n",
    "+  <span style=\"color:red\">\n",
    "    Save your file again.\n",
    "   </span>\n",
    "+  <span style=\"color:red\">\n",
    "    Upload the notebook file in the Blackboard submission portal as: \n",
    "   </span> \n",
    "   \n",
    "   **lastname-firstname-labwork-xx.ipynb**"
   ]
  },
  {
   "cell_type": "markdown",
   "metadata": {},
   "source": [
    "---\n",
    "### Table of Assignments<a id=\"toa\"></a>\n",
    "* [Assignment 1 (35 pts)](#a1) Stoichiometry.\n",
    " - [1.1)](#a11)(5 pts) Assemble $\\Smtrx$.\n",
    " - [1.2)](#a12)(4 pts) Mass conservation.\n",
    " - [1.3)](#a13)(4 pts) Mole conservation.\n",
    " - [1.4)](#a14)(4 pts) Compute $\\gvec$.\n",
    " - [1.5)](#a15)(3 pts) Compute $\\yvec$.\n",
    " - [1.6)](#a16)(3 pts) Compute norm of $\\yvec$.\n",
    " - [1.7)](#a17)(3 pts) Compute $\\Amtrx$.\n",
    " - [1.8)](#a18)(3 pts) Compute $\\Bmtrx$.\n",
    " - [1.9)](#a19)(3 pts) Explain $\\Amtrx = \\Bmtrx$.\n",
    " - [1.10)](#a110)(3 pts) Compute matrix subtraction.\n",
    "* [Assignment 2 (20 pts)](#a2) Forward solver.\n",
    " - [2.1)](#a21)(5 pts) Code algorithm.\n",
    " - [2.2)](#a22)(5 pts) Demonstrate correctness.\n",
    " - [2.3)](#a23)(5 pts) Solve problem with $\\Amtrx$.\n",
    " - [2.4)](#a24)(5 pts) Solve problem with $\\Bmtrx$.\n",
    "* [Assignment 3 (40 pts)](#a3) Backward solver.\n",
    " - [3.1)](#a31)(10 pts) Code algorithm.\n",
    " - [3.2)](#a32)(10 pts) Demonstrate correctness.\n",
    " - [3.3)](#a33)(10 pts) Solve problem with $\\Amtrx$.\n",
    " - [3.4)](#a34)(10 pts) Solve problem with $\\Bmtrx$.\n",
    "* [Assignment 4 (5 pts)](#a4) Unclear points\n",
    "---"
   ]
  },
  {
   "cell_type": "markdown",
   "metadata": {},
   "source": [
    "## <span style=\"color:blue\">[Assignment 1 (35 pts)](#toa)</span><a id=\"a1\"></a>"
   ]
  },
  {
   "cell_type": "markdown",
   "metadata": {},
   "source": [
    "### <span style=\"color:blue\">[1.1)](#toa)(5 pts) Consider the following reaction mechanism: </span>\n",
    "    \n",
    "      *OH   + H2O2        <=>   HO2*  +   H2O\n",
    "    2 HO2*                <=>   H2O2  +   O2        \n",
    "      HO2*  + O2*^-       <=>   HO2^- +   O2                      \n",
    "      e^-   + H2O2        <=>   *OH   +   OH^-            \n",
    "    2 e^-   + 2 H2O       <=>   H2    + 2 OH^-      \n",
    "      e^-   + *OH         <=>   OH^-                \n",
    "    2 *H                  <=>   H2                  \n",
    "      *OH   + HO2         <=>   O2    +   H2O      \n",
    "      *OH   + O2*^-       <=>   O2    +   OH^-              \n",
    "      H2    + O*^-        <=>   OH^-  +   *H     \n",
    "      H2O2  + O^-         <=>   HO2*  +   OH^-     \n",
    "      HO2^- + *OH         <=>   HO2*  +   OH^-    \n",
    "      HO2^- + O*^-        <=>   O2*^- +   OH^-    \n",
    "      O3*^- + H2O         <=>   *OH   +   O2 + OH^-\n",
    "      H2O2                <=> 2 *OH               \n",
    "   \n",
    "### <span style=\"color:blue\"> Build the stoichiometric matrix, $\\Smtrx$, print the matrix elements, and show a plot as shown below. Print the list of species. Explain how you built your stoichiometric matrix.</span><a id=\"a11\"></a>"
   ]
  },
  {
   "cell_type": "code",
   "execution_count": 2,
   "metadata": {},
   "outputs": [
    {
     "name": "stdout",
     "output_type": "stream",
     "text": [
      "[[ 0.  0.  1. -1.  0.  0. -1.  0.  0.  0.  0.  0.  0.  1.  0.]\n",
      " [ 0.  0. -2.  0.  0.  0.  1.  0.  0.  0.  0.  0.  1.  0.  0.]\n",
      " [ 0.  0. -1.  0.  0.  0.  0.  0.  0.  0. -1.  0.  1.  0.  1.]\n",
      " [ 0.  0.  0.  1. -1.  0. -1.  0.  0.  0.  0.  1.  0.  0.  0.]\n",
      " [ 1.  0.  0.  0. -2.  0.  0.  0.  0.  0.  0.  2.  0. -2.  0.]\n",
      " [ 0.  0.  0. -1. -1.  0.  0.  0.  0.  0.  0.  1.  0.  0.  0.]\n",
      " [ 1. -2.  0.  0.  0.  0.  0.  0.  0.  0.  0.  0.  0.  0.  0.]\n",
      " [ 0.  0.  0. -1.  0. -1.  0.  0.  0.  0.  0.  0.  1.  1.  0.]\n",
      " [ 0.  0.  0. -1.  0.  0.  0.  0.  0.  0. -1.  1.  1.  0.  0.]\n",
      " [-1.  1.  0.  0.  0.  0.  0.  0.  0. -1.  0.  1.  0.  0.  0.]\n",
      " [ 0.  0.  1.  0.  0.  0. -1. -1.  0.  0.  0.  1.  0.  0.  0.]\n",
      " [ 0.  0.  1. -1.  0.  0.  0.  0.  0.  0.  0.  1.  0.  0. -1.]\n",
      " [ 0.  0.  0.  0.  0.  0.  0.  0.  0. -1.  1.  1.  0.  0. -1.]\n",
      " [ 0.  0.  0.  1.  0.  0.  0.  0. -1.  0.  0.  1.  1. -1.  0.]\n",
      " [ 0.  0.  0.  2.  0.  0. -1.  0.  0.  0.  0.  0.  0.  0.  0.]]\n",
      "matrix shape = (15, 15)\n"
     ]
    },
    {
     "data": {
      "image/png": "[encoded data removed]",
      "text/plain": [
       "<Figure size 2000x400 with 1 Axes>"
      ]
     },
     "metadata": {},
     "output_type": "display_data"
    }
   ],
   "source": [
    "'''1.1) Code'''\n"
   ]
  },
  {
   "cell_type": "markdown",
   "metadata": {},
   "source": [
    "<span style=\"color:blue\">**Explanation:**</span>"
   ]
  },
  {
   "cell_type": "markdown",
   "metadata": {},
   "source": [
    "### <span style=\"color:blue\">[1.2)](#toa)(4 pts) Using your stoichiometric matrix demonstrate that mass is conserved per reaction and also total mass is conserved. Explain your work including the formulae you used.</span><a id=\"a12\"></a>"
   ]
  },
  {
   "cell_type": "code",
   "execution_count": 4,
   "metadata": {},
   "outputs": [],
   "source": [
    "'''1.2) Code'''\n"
   ]
  },
  {
   "cell_type": "markdown",
   "metadata": {},
   "source": [
    "<span style=\"color:blue\">**Explanation:**</span>"
   ]
  },
  {
   "cell_type": "markdown",
   "metadata": {},
   "source": [
    "### <span style=\"color:blue\">[1.3)](#toa)(4 pts) Using your stoichiometric matrix investigate whether moles are conserved per reaction, and similarly whether total moles are conserved. State clearly your results. You must use a similar formula as in 1.2). Explain your work.</span><a id=\"a13\"></a>"
   ]
  },
  {
   "cell_type": "code",
   "execution_count": 5,
   "metadata": {},
   "outputs": [],
   "source": [
    "'''1.3) Code'''\n"
   ]
  },
  {
   "cell_type": "markdown",
   "metadata": {},
   "source": [
    "<span style=\"color:blue\">**Explanation:**</span>"
   ]
  },
  {
   "cell_type": "markdown",
   "metadata": {},
   "source": [
    "### <span style=\"color:blue\">[1.4)](#toa)(4 pts) Given the following net reaction rate density vector in units of mols/(s ml)\n",
    "    \n",
    "$\\rvec = \\begin{pmatrix}\n",
    "-0.0441\\\\ -0.7767\\\\ -1.6405\\\\ -2.0201\\\\ -1.7838\\\\ -1.5941\\\\  1.2277\\\\  0.4902\\\\  0.6548\\\\  0.3225\\\\ -1.54\\\\    0.0485\\\\ -0.3907\\\\\n",
    " -0.0492\\\\ -2.1677\\\\\n",
    " \\end{pmatrix}\n",
    "$.          \n",
    "   \n",
    "### <span style=\"color:blue\"> Compute the species production rate density vector, $\\gvec$, and show the results with 4 decimal places and state the units. Explain how you obtained the result and what does it mean.</span><a id=\"a14\"></a>"
   ]
  },
  {
   "cell_type": "code",
   "execution_count": 4,
   "metadata": {
    "scrolled": true
   },
   "outputs": [
    {
     "name": "stdout",
     "output_type": "stream",
     "text": [
      "g_vec [unit?] [-0.8786  0.0492  4.9952  7.1818  0.0682  1.6583 -0.4902  4.0629 -1.2983 -8.1359 -2.1329  1.54    0.595\n",
      " -1.3214 -5.96  ]\n"
     ]
    }
   ],
   "source": [
    "'''Code for computing the species production rates'''\n"
   ]
  },
  {
   "cell_type": "markdown",
   "metadata": {},
   "source": [
    "<span style=\"color:blue\">**Explanation:**</span>"
   ]
  },
  {
   "cell_type": "markdown",
   "metadata": {},
   "source": [
    "### <span style=\"color:blue\">[1.5)](#toa)(3 pts) Compute the vector $\\yvec = \\Smtrx\\,\\gvec$ and print the results with up to 4 decimal places. Why should you get the same answer no matter the order of the $\\gvec$ vector is?</span><a id=\"a15\"></a> "
   ]
  },
  {
   "cell_type": "code",
   "execution_count": 5,
   "metadata": {},
   "outputs": [
    {
     "name": "stdout",
     "output_type": "stream",
     "text": [
      "y = [  6.686    0.3572  -4.873  -26.2729 -39.6398  -9.3577   3.3872   9.1917  -4.0923  -9.4584 -13.0128   0.7807  -6.3108 -19.5294 -16.9152]\n"
     ]
    }
   ],
   "source": [
    "'''1.5) Code'''\n"
   ]
  },
  {
   "cell_type": "markdown",
   "metadata": {},
   "source": [
    "### <span style=\"color:blue\">[1.6)](#toa)(3 pts) Compute the norm $\\norm{\\yvec}$ and print the result in exponential scientific format with 4 decimal places.</span><a id=\"a16\"></a> "
   ]
  },
  {
   "cell_type": "code",
   "execution_count": 6,
   "metadata": {},
   "outputs": [
    {
     "name": "stdout",
     "output_type": "stream",
     "text": [
      "||y|| = 5.9137e+01\n"
     ]
    }
   ],
   "source": [
    "'''1.6) Code'''\n"
   ]
  },
  {
   "cell_type": "markdown",
   "metadata": {},
   "source": [
    "### <span style=\"color:blue\">[1.7)](#toa)(3 pts) Compute the matrix $\\Amtrx = \\frac{1}{3}\\,\\Smtrx\\Smtrx^\\top$, print the result with up to 4 decimals precision. Why is this matrix the same when you change the order of the species in $\\Smtrx$?</span><a id=\"a17\"></a> "
   ]
  },
  {
   "cell_type": "code",
   "execution_count": 7,
   "metadata": {},
   "outputs": [
    {
     "name": "stdout",
     "output_type": "stream",
     "text": [
      "A =\n",
      " [[ 1.3333 -1.     -0.3333  0.     -0.6667  0.3333  0.      0.6667  0.3333  0.      0.6667  0.6667  0.     -0.6667 -0.3333]\n",
      " [-1.      2.      1.     -0.3333  0.      0.      0.      0.3333  0.3333  0.     -1.     -0.6667  0.      0.3333 -0.3333]\n",
      " [-0.3333  1.      1.3333  0.      0.      0.      0.      0.3333  0.6667  0.     -0.3333 -0.6667 -0.6667  0.3333  0.    ]\n",
      " [ 0.     -0.3333  0.      1.3333  1.3333  0.3333  0.     -0.3333  0.      0.3333  0.6667  0.      0.3333  0.6667  1.    ]\n",
      " [-0.6667  0.      0.      1.3333  4.3333  1.3333  0.3333 -0.6667  0.6667  0.3333  0.6667  0.6667  0.6667  1.3333  0.    ]\n",
      " [ 0.3333  0.      0.      0.3333  1.3333  1.      0.      0.3333  0.6667  0.3333  0.3333  0.6667  0.3333  0.     -0.6667]\n",
      " [ 0.      0.      0.      0.      0.3333  0.      1.6667  0.      0.     -1.      0.      0.      0.      0.      0.    ]\n",
      " [ 0.6667  0.3333  0.3333 -0.3333 -0.6667  0.3333  0.      1.3333  0.6667  0.      0.      0.3333  0.     -0.3333 -0.6667]\n",
      " [ 0.3333  0.3333  0.6667  0.      0.6667  0.6667  0.      0.6667  1.3333  0.3333  0.3333  0.6667  0.      0.3333 -0.6667]\n",
      " [ 0.      0.      0.      0.3333  0.3333  0.3333 -1.      0.      0.3333  1.3333  0.3333  0.3333  0.6667  0.3333  0.    ]\n",
      " [ 0.6667 -1.     -0.3333  0.6667  0.6667  0.3333  0.      0.      0.3333  0.3333  1.3333  0.6667  0.3333  0.3333  0.3333]\n",
      " [ 0.6667 -0.6667 -0.6667  0.      0.6667  0.6667  0.      0.3333  0.6667  0.3333  0.6667  1.3333  0.6667  0.     -0.6667]\n",
      " [ 0.      0.     -0.6667  0.3333  0.6667  0.3333  0.      0.      0.      0.6667  0.3333  0.6667  1.3333  0.3333  0.    ]\n",
      " [-0.6667  0.3333  0.3333  0.6667  1.3333  0.      0.     -0.3333  0.3333  0.3333  0.3333  0.      0.3333  1.6667  0.6667]\n",
      " [-0.3333 -0.3333  0.      1.      0.     -0.6667  0.     -0.6667 -0.6667  0.      0.3333 -0.6667  0.      0.6667  1.6667]]\n"
     ]
    }
   ],
   "source": [
    "'''1.7) Code'''\n"
   ]
  },
  {
   "cell_type": "markdown",
   "metadata": {},
   "source": [
    "<span style=\"color:blue\">**Explanation:**</span>"
   ]
  },
  {
   "cell_type": "markdown",
   "metadata": {},
   "source": [
    "### <span style=\"color:blue\">[1.8)](#toa)(3 pts) Compute the matrix $\\Bmtrx = \\frac{1}{3}\\,\\Smtrx^\\top\\Smtrx$, print the result with up to 4 decimals precision. Why this matrix may not be the same as yours (see below)? When will it be the same as yours?</span><a id=\"a18\"></a> "
   ]
  },
  {
   "cell_type": "code",
   "execution_count": 8,
   "metadata": {},
   "outputs": [
    {
     "name": "stdout",
     "output_type": "stream",
     "text": [
      "B =\n",
      " [[ 1.      0.      0.     -0.6667  0.3333  0.      0.     -0.6667  0.      0.3333 -1.      0.      0.      0.      0.    ]\n",
      " [ 0.      0.3333  0.      0.      0.      0.      0.      0.3333  0.     -0.3333  0.      0.      0.     -0.3333 -0.3333]\n",
      " [ 0.      0.      1.6667  0.3333  0.     -1.3333  0.     -0.3333  0.     -0.6667  0.      0.3333  0.      0.3333 -0.6667]\n",
      " [-0.6667  0.      0.3333  2.      0.      0.      0.      1.3333  0.     -2.      0.      0.      0.      0.      0.    ]\n",
      " [ 0.3333  0.      0.      0.      0.6667  0.      0.      0.      0.3333 -0.6667 -0.3333  0.     -0.3333  0.      0.    ]\n",
      " [ 0.      0.     -1.3333  0.      0.      2.6667  0.      0.3333 -0.6667  0.6667  0.     -0.3333  0.3333 -1.     -0.6667]\n",
      " [ 0.      0.      0.      0.      0.      0.      0.3333 -0.3333  0.      0.      0.      0.      0.     -0.3333  0.3333]\n",
      " [-0.6667  0.3333 -0.3333  1.3333  0.      0.3333 -0.3333  2.3333  0.     -1.6667  0.      0.      0.      0.     -1.    ]\n",
      " [ 0.      0.      0.      0.      0.3333 -0.6667  0.      0.      1.     -0.6667  0.      0.     -0.6667  0.3333  0.3333]\n",
      " [ 0.3333 -0.3333 -0.6667 -2.     -0.6667  0.6667  0.     -1.6667 -0.6667  4.      0.3333 -0.3333  0.      0.6667 -0.3333]\n",
      " [-1.      0.      0.      0.     -0.3333  0.      0.      0.      0.      0.3333  1.6667  0.      0.      0.      0.    ]\n",
      " [ 0.      0.      0.3333  0.      0.     -0.3333  0.      0.      0.     -0.3333  0.      0.3333  0.      0.      0.    ]\n",
      " [ 0.      0.      0.      0.     -0.3333  0.3333  0.      0.     -0.6667  0.      0.      0.      1.     -0.6667  0.3333]\n",
      " [ 0.     -0.3333  0.3333  0.      0.     -1.     -0.3333  0.      0.3333  0.6667  0.      0.     -0.6667  1.6667 -0.3333]\n",
      " [ 0.     -0.3333 -0.6667  0.      0.     -0.6667  0.3333 -1.      0.3333 -0.3333  0.      0.      0.3333 -0.3333  3.6667]]\n",
      "shape = (15, 15)\n"
     ]
    }
   ],
   "source": [
    "'''1.8) Code'''\n"
   ]
  },
  {
   "cell_type": "markdown",
   "metadata": {},
   "source": [
    "<span style=\"color:blue\">**Explanation:**</span>"
   ]
  },
  {
   "cell_type": "markdown",
   "metadata": {},
   "source": [
    "### <span style=\"color:blue\">[1.9)](#toa)(3 pts) Is $\\Amtrx = \\Bmtrx$? Write a code for testing and printing the results. Explain.</span><a id=\"a19\"></a> "
   ]
  },
  {
   "cell_type": "code",
   "execution_count": null,
   "metadata": {},
   "outputs": [],
   "source": [
    "'''1.9) Code'''\n"
   ]
  },
  {
   "cell_type": "markdown",
   "metadata": {},
   "source": [
    "<span style=\"color:blue\">**Explanation:**</span>"
   ]
  },
  {
   "cell_type": "markdown",
   "metadata": {},
   "source": [
    "### <span style=\"color:blue\">[1.10)](#toa)(3 pts) Compute $\\Amtrx - \\Amtrx^\\top$. Explain the result.</span><a id=\"a110\"></a> "
   ]
  },
  {
   "cell_type": "code",
   "execution_count": null,
   "metadata": {},
   "outputs": [],
   "source": [
    "'''1.9) Code'''\n"
   ]
  },
  {
   "cell_type": "markdown",
   "metadata": {},
   "source": [
    "<span style=\"color:blue\">**Explanation:**</span>"
   ]
  },
  {
   "cell_type": "markdown",
   "metadata": {},
   "source": [
    "## <span style=\"color:blue\">[Assignment 2 (20 pts)](#toa)</span><a id=\"a2\"></a>"
   ]
  },
  {
   "cell_type": "markdown",
   "metadata": {},
   "source": [
    "### <span style=\"color:blue\">[2.1)](#toa)(5 pts) Program a forward solver (*i.e.* write your code) for lower triangular system $\\Lmtrx\\,\\xvec=\\bvec$. The algorithm is as follows: </span>\n",
    "\n",
    "<span style=\"color:blue\">\n",
    "\\begin{equation*}\n",
    "  x_i = \\Bigl(b_i - \\sum\\limits_{j=1}^{i-1} L_{i,j}\\,x_j \\Bigr)\\,L^{-1}_{i,i} \\ \\ \\forall \\ \\ i=1,\\ldots,m ,\n",
    "\\end{equation*}\n",
    "</span>\n",
    "\n",
    "### <span style=\"color:blue\">for $i$ and $j$ with offset 1. Recall that `NumPy` and `Python` have offset 0 for their sequence data types.</span><a id=\"a21\"></a> "
   ]
  },
  {
   "cell_type": "code",
   "execution_count": 11,
   "metadata": {},
   "outputs": [],
   "source": [
    "'''2.1) Code'''\n"
   ]
  },
  {
   "cell_type": "markdown",
   "metadata": {},
   "source": [
    "### <span style=\"color:blue\">[2.2)](#toa)(5 pts) Demonstrate your code is correct (do not compare against another solver) and provide an output example for $\\Lmtrx$, $\\bvec$, and $\\xvec$ (use at least 7 unknowns).  </span><a id=\"a22\"></a> "
   ]
  },
  {
   "cell_type": "code",
   "execution_count": null,
   "metadata": {},
   "outputs": [],
   "source": [
    "'''2.2) Test L x = b'''\n"
   ]
  },
  {
   "cell_type": "markdown",
   "metadata": {},
   "source": [
    "### <span style=\"color:blue\">[2.3)](#toa)(5 pts) Using the lower triangular portion of $\\Amtrx$ as $\\Lmtrx$, compute the solution of $\\Lmtrx\\xvec=\\rvec$.</span><a id=\"a23\"></a>"
   ]
  },
  {
   "cell_type": "code",
   "execution_count": 13,
   "metadata": {},
   "outputs": [
    {
     "name": "stdout",
     "output_type": "stream",
     "text": [
      "l_mtrx =\n",
      " [[ 1.3333  0.      0.      0.      0.      0.      0.      0.      0.      0.      0.      0.      0.      0.      0.    ]\n",
      " [-1.      2.      0.      0.      0.      0.      0.      0.      0.      0.      0.      0.      0.      0.      0.    ]\n",
      " [-0.3333  1.      1.3333  0.      0.      0.      0.      0.      0.      0.      0.      0.      0.      0.      0.    ]\n",
      " [ 0.     -0.3333  0.      1.3333  0.      0.      0.      0.      0.      0.      0.      0.      0.      0.      0.    ]\n",
      " [-0.6667  0.      0.      1.3333  4.3333  0.      0.      0.      0.      0.      0.      0.      0.      0.      0.    ]\n",
      " [ 0.3333  0.      0.      0.3333  1.3333  1.      0.      0.      0.      0.      0.      0.      0.      0.      0.    ]\n",
      " [ 0.      0.      0.      0.      0.3333  0.      1.6667  0.      0.      0.      0.      0.      0.      0.      0.    ]\n",
      " [ 0.6667  0.3333  0.3333 -0.3333 -0.6667  0.3333  0.      1.3333  0.      0.      0.      0.      0.      0.      0.    ]\n",
      " [ 0.3333  0.3333  0.6667  0.      0.6667  0.6667  0.      0.6667  1.3333  0.      0.      0.      0.      0.      0.    ]\n",
      " [ 0.      0.      0.      0.3333  0.3333  0.3333 -1.      0.      0.3333  1.3333  0.      0.      0.      0.      0.    ]\n",
      " [ 0.6667 -1.     -0.3333  0.6667  0.6667  0.3333  0.      0.      0.3333  0.3333  1.3333  0.      0.      0.      0.    ]\n",
      " [ 0.6667 -0.6667 -0.6667  0.      0.6667  0.6667  0.      0.3333  0.6667  0.3333  0.6667  1.3333  0.      0.      0.    ]\n",
      " [ 0.      0.     -0.6667  0.3333  0.6667  0.3333  0.      0.      0.      0.6667  0.3333  0.6667  1.3333  0.      0.    ]\n",
      " [-0.6667  0.3333  0.3333  0.6667  1.3333  0.      0.     -0.3333  0.3333  0.3333  0.3333  0.      0.3333  1.6667  0.    ]\n",
      " [-0.3333 -0.3333  0.      1.      0.     -0.6667  0.     -0.6667 -0.6667  0.      0.3333 -0.6667  0.      0.6667  1.6667]]\n",
      "\n",
      "x_vec = [-0.0331 -0.4049 -0.935  -1.6163  0.0806 -1.1518  0.7205  0.6433  1.282   1.1336 -1.224  -0.5547 -0.0923  0.7161 -0.3725]\n"
     ]
    }
   ],
   "source": [
    "'''2.3) Code'''\n"
   ]
  },
  {
   "cell_type": "markdown",
   "metadata": {},
   "source": [
    "### <span style=\"color:blue\">[2.4)](#toa)(5 pts) Using the lower triangular portion of $\\Bmtrx$ as $\\Lmtrx$, compute the solution of $\\Lmtrx\\xvec=\\gvec$. Do you get the same solution as below? Explain?</span><a id=\"a24\"></a>"
   ]
  },
  {
   "cell_type": "code",
   "execution_count": 14,
   "metadata": {},
   "outputs": [
    {
     "name": "stdout",
     "output_type": "stream",
     "text": [
      "l_mtrx =\n",
      " [[ 1.      0.      0.      0.      0.      0.      0.      0.      0.      0.      0.      0.      0.      0.      0.    ]\n",
      " [ 0.      0.3333  0.      0.      0.      0.      0.      0.      0.      0.      0.      0.      0.      0.      0.    ]\n",
      " [ 0.      0.      1.6667  0.      0.      0.      0.      0.      0.      0.      0.      0.      0.      0.      0.    ]\n",
      " [-0.6667  0.      0.3333  2.      0.      0.      0.      0.      0.      0.      0.      0.      0.      0.      0.    ]\n",
      " [ 0.3333  0.      0.      0.      0.6667  0.      0.      0.      0.      0.      0.      0.      0.      0.      0.    ]\n",
      " [ 0.      0.     -1.3333  0.      0.      2.6667  0.      0.      0.      0.      0.      0.      0.      0.      0.    ]\n",
      " [ 0.      0.      0.      0.      0.      0.      0.3333  0.      0.      0.      0.      0.      0.      0.      0.    ]\n",
      " [-0.6667  0.3333 -0.3333  1.3333  0.      0.3333 -0.3333  2.3333  0.      0.      0.      0.      0.      0.      0.    ]\n",
      " [ 0.      0.      0.      0.      0.3333 -0.6667  0.      0.      1.      0.      0.      0.      0.      0.      0.    ]\n",
      " [ 0.3333 -0.3333 -0.6667 -2.     -0.6667  0.6667  0.     -1.6667 -0.6667  4.      0.      0.      0.      0.      0.    ]\n",
      " [-1.      0.      0.      0.     -0.3333  0.      0.      0.      0.      0.3333  1.6667  0.      0.      0.      0.    ]\n",
      " [ 0.      0.      0.3333  0.      0.     -0.3333  0.      0.      0.     -0.3333  0.      0.3333  0.      0.      0.    ]\n",
      " [ 0.      0.      0.      0.     -0.3333  0.3333  0.      0.     -0.6667  0.      0.      0.      1.      0.      0.    ]\n",
      " [ 0.     -0.3333  0.3333  0.      0.     -1.     -0.3333  0.      0.3333  0.6667  0.      0.     -0.6667  1.6667  0.    ]\n",
      " [ 0.     -0.3333 -0.6667  0.      0.     -0.6667  0.3333 -1.      0.3333 -0.3333  0.      0.      0.3333 -0.3333  3.6667]]\n",
      "\n",
      "x_vec = [-0.8786  0.1476  2.9971  2.7985  0.5416  2.1204 -1.4706 -0.2149 -0.0652 -0.4132 -1.6159  3.3301  0.0252 -0.1962 -0.6582]\n"
     ]
    }
   ],
   "source": [
    "'''2.4) Code'''\n"
   ]
  },
  {
   "cell_type": "markdown",
   "metadata": {},
   "source": [
    "<span style=\"color:blue\">**Explanation:**</span>"
   ]
  },
  {
   "cell_type": "markdown",
   "metadata": {},
   "source": [
    "## <span style=\"color:blue\">[Assignment 3 (30 pts)](#toa)</span><a id=\"a3\"></a>"
   ]
  },
  {
   "cell_type": "markdown",
   "metadata": {},
   "source": [
    "### <span style=\"color:blue\">[3.1)](#toa)(10 pts) Program a backward solver (*i.e.* write your code) for an upper triangular system $\\Umtrx\\,\\xvec=\\bvec$. The algorithm is as follows: </span>\n",
    "\n",
    "<span style=\"color:blue\">\n",
    "\\begin{equation*}\n",
    "x_i = \\Bigl(b_i - \\sum\\limits_{j=i+1}^{m} U_{i,j}\\,x_j \\Bigr)\\,U^{-1}_{i,i} \\ \\ \\forall \\ \\ i=m,\\ldots,1 ,\n",
    "\\end{equation*}\n",
    "</span>\n",
    "\n",
    "### <span style=\"color:blue\">for $i$ and $j$ with offset 1. Recall that `NumPy` and `Python` have offset 0 for their sequence data types. </span><a id=\"a31\"></a>"
   ]
  },
  {
   "cell_type": "code",
   "execution_count": 15,
   "metadata": {},
   "outputs": [],
   "source": [
    "'''4.1) Code'''\n"
   ]
  },
  {
   "cell_type": "markdown",
   "metadata": {},
   "source": [
    "### <span style=\"color:blue\">[3.2)](#toa)(10 pts) Demonstrate your code is correct (do not compare against another solver) and provide an output example for $\\Umtrx$, $\\bvec$, and $\\xvec$ (use at least 7 unknowns). </span><a id=\"a32\"></a> "
   ]
  },
  {
   "cell_type": "code",
   "execution_count": null,
   "metadata": {},
   "outputs": [],
   "source": [
    "'''4.2) Test U x = b'''\n"
   ]
  },
  {
   "cell_type": "markdown",
   "metadata": {},
   "source": [
    "### <span style=\"color:blue\">[3.3)](#toa)(10 pts) Using the upper triangular portion of $\\Amtrx$ as $\\Umtrx$, compute the solution of $\\Umtrx\\xvec=\\rvec$.</span><a id=\"a33\"></a>"
   ]
  },
  {
   "cell_type": "code",
   "execution_count": 17,
   "metadata": {},
   "outputs": [
    {
     "name": "stdout",
     "output_type": "stream",
     "text": [
      "u_mtrx =\n",
      " [[ 1.3333 -1.     -0.3333  0.     -0.6667  0.3333  0.      0.6667  0.3333  0.      0.6667  0.6667  0.     -0.6667 -0.3333]\n",
      " [ 0.      2.      1.     -0.3333  0.      0.      0.      0.3333  0.3333  0.     -1.     -0.6667  0.      0.3333 -0.3333]\n",
      " [ 0.      0.      1.3333  0.      0.      0.      0.      0.3333  0.6667  0.     -0.3333 -0.6667 -0.6667  0.3333  0.    ]\n",
      " [ 0.      0.      0.      1.3333  1.3333  0.3333  0.     -0.3333  0.      0.3333  0.6667  0.      0.3333  0.6667  1.    ]\n",
      " [ 0.      0.      0.      0.      4.3333  1.3333  0.3333 -0.6667  0.6667  0.3333  0.6667  0.6667  0.6667  1.3333  0.    ]\n",
      " [ 0.      0.      0.      0.      0.      1.      0.      0.3333  0.6667  0.3333  0.3333  0.6667  0.3333  0.     -0.6667]\n",
      " [ 0.      0.      0.      0.      0.      0.      1.6667  0.      0.     -1.      0.      0.      0.      0.      0.    ]\n",
      " [ 0.      0.      0.      0.      0.      0.      0.      1.3333  0.6667  0.      0.      0.3333  0.     -0.3333 -0.6667]\n",
      " [ 0.      0.      0.      0.      0.      0.      0.      0.      1.3333  0.3333  0.3333  0.6667  0.      0.3333 -0.6667]\n",
      " [ 0.      0.      0.      0.      0.      0.      0.      0.      0.      1.3333  0.3333  0.3333  0.6667  0.3333  0.    ]\n",
      " [ 0.      0.      0.      0.      0.      0.      0.      0.      0.      0.      1.3333  0.6667  0.3333  0.3333  0.3333]\n",
      " [ 0.      0.      0.      0.      0.      0.      0.      0.      0.      0.      0.      1.3333  0.6667  0.     -0.6667]\n",
      " [ 0.      0.      0.      0.      0.      0.      0.      0.      0.      0.      0.      0.      1.3333  0.3333  0.    ]\n",
      " [ 0.      0.      0.      0.      0.      0.      0.      0.      0.      0.      0.      0.      0.      1.6667  0.6667]\n",
      " [ 0.      0.      0.      0.      0.      0.      0.      0.      0.      0.      0.      0.      0.      0.      1.6667]]\n",
      "\n",
      "x_vec = [ 0.3799 -0.2144 -1.8864 -0.1664  0.1495 -1.9814  1.0906 -0.026  -0.065   0.59   -0.6456 -0.4061 -0.4157  0.4907 -1.3006]\n"
     ]
    }
   ],
   "source": [
    "'''3.3) Code'''\n"
   ]
  },
  {
   "cell_type": "markdown",
   "metadata": {},
   "source": [
    "### <span style=\"color:blue\">[3.4)](#toa)(10 pts) Using the upper triangular portion of $\\Bmtrx$ as $\\Umtrx$, compute the solution of $\\Umtrx\\xvec=\\gvec$. Do you get the same solution as below? Explain.</span><a id=\"a34\"></a>"
   ]
  },
  {
   "cell_type": "code",
   "execution_count": 18,
   "metadata": {},
   "outputs": [
    {
     "name": "stdout",
     "output_type": "stream",
     "text": [
      "u_mtrx =\n",
      " [[ 1.      0.      0.     -0.6667  0.3333  0.      0.     -0.6667  0.      0.3333 -1.      0.      0.      0.      0.    ]\n",
      " [ 0.      0.3333  0.      0.      0.      0.      0.      0.3333  0.     -0.3333  0.      0.      0.     -0.3333 -0.3333]\n",
      " [ 0.      0.      1.6667  0.3333  0.     -1.3333  0.     -0.3333  0.     -0.6667  0.      0.3333  0.      0.3333 -0.6667]\n",
      " [ 0.      0.      0.      2.      0.      0.      0.      1.3333  0.     -2.      0.      0.      0.      0.      0.    ]\n",
      " [ 0.      0.      0.      0.      0.6667  0.      0.      0.      0.3333 -0.6667 -0.3333  0.     -0.3333  0.      0.    ]\n",
      " [ 0.      0.      0.      0.      0.      2.6667  0.      0.3333 -0.6667  0.6667  0.     -0.3333  0.3333 -1.     -0.6667]\n",
      " [ 0.      0.      0.      0.      0.      0.      0.3333 -0.3333  0.      0.      0.      0.      0.     -0.3333  0.3333]\n",
      " [ 0.      0.      0.      0.      0.      0.      0.      2.3333  0.     -1.6667  0.      0.      0.      0.     -1.    ]\n",
      " [ 0.      0.      0.      0.      0.      0.      0.      0.      1.     -0.6667  0.      0.     -0.6667  0.3333  0.3333]\n",
      " [ 0.      0.      0.      0.      0.      0.      0.      0.      0.      4.      0.3333 -0.3333  0.      0.6667 -0.3333]\n",
      " [ 0.      0.      0.      0.      0.      0.      0.      0.      0.      0.      1.6667  0.      0.      0.      0.    ]\n",
      " [ 0.      0.      0.      0.      0.      0.      0.      0.      0.      0.      0.      0.3333  0.      0.      0.    ]\n",
      " [ 0.      0.      0.      0.      0.      0.      0.      0.      0.      0.      0.      0.      1.     -0.6667  0.3333]\n",
      " [ 0.      0.      0.      0.      0.      0.      0.      0.      0.      0.      0.      0.      0.      1.6667 -0.3333]\n",
      " [ 0.      0.      0.      0.      0.      0.      0.      0.      0.      0.      0.      0.      0.      0.      3.6667]]\n",
      "\n",
      "x_vec = [ 0.1587 -4.0665  0.96    2.1132 -1.2747  0.421  -0.9838 -0.0207 -1.1171 -1.4915 -1.2797  4.62    0.3915 -1.1179 -1.6255]\n"
     ]
    }
   ],
   "source": [
    "'''3.4) Code'''\n"
   ]
  },
  {
   "cell_type": "markdown",
   "metadata": {},
   "source": [
    "<span style=\"color:blue\">**Explanation:**</span>"
   ]
  },
  {
   "cell_type": "markdown",
   "metadata": {},
   "source": [
    "## <span style=\"color:blue\">[Assignment 4 (5 pts)](#toa)</span><a id=\"a4\"></a>"
   ]
  },
  {
   "cell_type": "markdown",
   "metadata": {},
   "source": [
    "### <span style=\"color:blue\">Describe the most unclear point in the content presented so far. Then, make an effort to clarify the point on your own.</span>"
   ]
  },
  {
   "cell_type": "code",
   "execution_count": null,
   "metadata": {},
   "outputs": [],
   "source": []
  }
 ],
 "metadata": {
  "kernelspec": {
   "display_name": "Python 3",
   "language": "python",
   "name": "python3"
  },
  "language_info": {
   "codemirror_mode": {
    "name": "ipython",
    "version": 3
   },
   "file_extension": ".py",
   "mimetype": "text/x-python",
   "name": "python",
   "nbconvert_exporter": "python",
   "pygments_lexer": "ipython3",
   "version": "3.9.6"
  },
  "latex_envs": {
   "LaTeX_envs_menu_present": true,
   "autoclose": false,
   "autocomplete": true,
   "bibliofile": "biblio.bib",
   "cite_by": "apalike",
   "current_citInitial": 1,
   "eqLabelWithNumbers": true,
   "eqNumInitial": 1,
   "hotkeys": {
    "equation": "Ctrl-E",
    "itemize": "Ctrl-I"
   },
   "labels_anchors": false,
   "latex_user_defs": false,
   "report_style_numbering": false,
   "user_envs_cfg": false
  }
 },
 "nbformat": 4,
 "nbformat_minor": 2
}
