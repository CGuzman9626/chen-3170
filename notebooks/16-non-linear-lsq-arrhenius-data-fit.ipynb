{
 "cells": [
  {
   "cell_type": "markdown",
   "metadata": {},
   "source": [
    "ChEn-3170: Computational Methods in Chemical Engineering Fall 2020 UMass Lowell; Prof. V. F. de Almeida **22Nov20**\n",
    "\n",
    "# 16. Non-Linear Least-Squares Arrhenius Rate Constant Data Fitting\n",
    "$  \n",
    "  \\newcommand{\\Amtrx}{\\boldsymbol{\\mathsf{A}}}\n",
    "  \\newcommand{\\Bmtrx}{\\boldsymbol{\\mathsf{B}}}\n",
    "  \\newcommand{\\Mmtrx}{\\boldsymbol{\\mathsf{M}}}\n",
    "  \\newcommand{\\Imtrx}{\\boldsymbol{\\mathsf{I}}}\n",
    "  \\newcommand{\\Jmtrx}{\\boldsymbol{\\mathsf{J}}}\n",
    "  \\newcommand{\\Pmtrx}{\\boldsymbol{\\mathsf{P}}}\n",
    "  \\newcommand{\\Lmtrx}{\\boldsymbol{\\mathsf{L}}}\n",
    "  \\newcommand{\\Umtrx}{\\boldsymbol{\\mathsf{U}}}\n",
    "  \\newcommand{\\Smtrx}{\\boldsymbol{\\mathsf{S}}}\n",
    "  \\newcommand{\\xvec}{\\boldsymbol{\\mathsf{x}}}\n",
    "  \\newcommand{\\avec}{\\boldsymbol{\\mathsf{a}}}\n",
    "  \\newcommand{\\bvec}{\\boldsymbol{\\mathsf{b}}}\n",
    "  \\newcommand{\\cvec}{\\boldsymbol{\\mathsf{c}}}\n",
    "  \\newcommand{\\rvec}{\\boldsymbol{\\mathsf{r}}}\n",
    "  \\newcommand{\\mvec}{\\boldsymbol{\\mathsf{m}}}\n",
    "  \\newcommand{\\gvec}{\\boldsymbol{\\mathsf{g}}}\n",
    "  \\newcommand{\\fvec}{\\boldsymbol{\\mathsf{f}}}\n",
    "  \\newcommand{\\kvec}{\\boldsymbol{\\mathsf{k}}}\n",
    "  \\newcommand{\\alphabf}{\\boldsymbol{\\alpha}}\n",
    "  \\newcommand{\\betabf}{\\boldsymbol{\\beta}}\n",
    "  \\newcommand{\\zerovec}{\\boldsymbol{\\mathsf{0}}}\n",
    "  \\newcommand{\\norm}[1]{\\bigl\\lVert{#1}\\bigr\\rVert}\n",
    "  \\newcommand{\\transpose}[1]{{#1}^\\top}\n",
    "  \\DeclareMathOperator{\\rank}{rank}\n",
    "$"
   ]
  },
  {
   "cell_type": "markdown",
   "metadata": {},
   "source": [
    "---\n",
    "## Table of Contents<a id=\"toc\"></a>\n",
    "* [Introduction](#intro)\n",
    "* [Non-Linear Arrhenius Data Fitting](#adf)\n",
    "* [Experimental Data (10 points)](#ed10)\n",
    " * [Non-Linear System](#nls10)\n",
    " * [NLLS Newton's Method Data Fitting](#nlls10)\n",
    " * [Goodness of Fit](#gof10)\n",
    " * [Objective Function](#of10)\n",
    "* [Experimental Data (20 points)](#ed20)\n",
    " * [Non-Linear System](#nls20)\n",
    " * [NLLS Newton's Method Data Fitting](#nlls20)\n",
    " * [Goodness of Fit](#gof20)\n",
    " * [Objective Function](#of20)\n",
    "* [Experimental Data (80 points)](#ed80)\n",
    " * [Non-Linear System](#nls80)\n",
    " * [NLLS Newton's Method Data Fitting](#nlls80)\n",
    " * [Objective Function](#of80)\n",
    "* [Results Comparison](#res)\n",
    "---"
   ]
  },
  {
   "cell_type": "markdown",
   "metadata": {},
   "source": [
    "## [Introduction](#toc)<a id=\"intro\"></a>\n",
    "The non-linear least-squares method is an extension of the linear least-squares method, covered earlier in this course, to treat non-linear objective functions. Therefore Newton's method, also covered earlier, will be needed to solve an iterative version of the normal equations similarly obtained in the linear case. The theoretical notes we will need for this topic can be found in the course notes OneNote [ChEn-3170-nllsq](https://studentuml-my.sharepoint.com/:o:/g/personal/valmor_dealmeida_uml_edu/EpCvarQjfDZFnkQVnuc7Q6wB_GoMnjgiCkIaL04_5STOvQ?e=VH3v7W). "
   ]
  },
  {
   "cell_type": "markdown",
   "metadata": {},
   "source": [
    "### [Non-linear Arrhenius Data Fitting](#toc)<a id=\"adf\"></a>\n",
    "\n",
    "This notebook will apply the previous developments in the course to fit experimental data to a non-linear model directly. Here the example is the Arrhenius function for the dependency of the reaction rate constant on temperature, namely\n",
    "\n",
    "\\begin{equation*}\n",
    "k(\\beta) = k_0 \\, e^{-\\beta\\,E_\\text{a}}.\n",
    "\\end{equation*}\n",
    "\n",
    "Therefore the methods and results here are to be compared to its linear counterpart in Notebook 10.\n",
    "\n",
    "The pre-exponential factor (frequency parameter), $k_0$, and the energy of activation, $E_\\text{a}$, are the sought parameters in this expression. These parameters will be computed by direct minimization of the non-linear residual of the differences between the values measured for $k_i$ and the predicted values of the Arrhenius function for all values of $\\beta_i$. To that end, evaluate the residuals, $r_i$, of the Arrhenius formula at each experimental point $(\\beta_i,k_i)$\n",
    "\n",
    "\\begin{equation*}\n",
    "r_i = k_i - k(\\beta_i) = k_i - k_0\\,e^{-\\beta_i\\,E_a}.\n",
    "\\end{equation*}\n",
    "\n",
    "If the residual vector is denoted\n",
    "\n",
    "$\\rvec = \\begin{pmatrix}\n",
    " r_1 \\\\ \n",
    " r_2 \\\\ \n",
    " \\vdots  \\\\ \n",
    " r_m \\\\ \n",
    "\\end{pmatrix}$, and the vector of parameters $\\alphabf = \\begin{pmatrix}\n",
    " k_0 \\\\ \n",
    " E_a \n",
    "\\end{pmatrix}$, then find the optimum vector of parameters $\\alphabf^*$ such that it minimizes the\n",
    "objective function\n",
    "\n",
    "\\begin{equation*}\n",
    " \\phi(\\alpha^*) = \\min\\limits_{\\alphabf} \\norm{\\rvec(\\alpha)}^2 \\quad\\  \\forall \\quad\\ \\alphabf.\n",
    "\\end{equation*}\n",
    "\n",
    "Note that $\\rvec$ is a vector-valued function of $\\alphabf$.\n",
    "Find the optimal value $\\alphabf^*$ using Newton's method iterations on\n",
    "the vector function leading to the minimum point of the objective function, that is, starting with an initial guess $\\alphabf^{(0)}$ compute the \n",
    "sequence $\\alphabf^{(k)}, k = 1\\ldots N_\\text{max}$ solving the Jacobian normal equations\n",
    "\n",
    "\\begin{equation*}\n",
    "{\\Jmtrx^{(k-1)}}^\\top\\Jmtrx^{(k-1)}\\,\\delta\\alphabf = -\\Jmtrx^\\top\\rvec^{(k-1)} ,\n",
    "\\end{equation*}\n",
    "\n",
    "where $\\Jmtrx^{(k-1)} := \\partial_\\alphabf\\rvec^{(k-1)} = \\begin{pmatrix}\n",
    "  -e^{-\\beta_1 E_a^{(k-1)}} & k_0^{(k-1)}\\, \\beta_1 e^{-\\beta_1 E_a^{(k-1)}}   \\\\\n",
    "  -e^{-\\beta_2 E_a^{(k-1)}} & k_0^{(k-1)}\\, \\beta_2 e^{-\\beta_2 E_a^{(k-1)}} \\\\\n",
    "  \\vdots  & \\vdots \\\\\n",
    "  -e^{-\\beta_m E_a^{(k-1)}} & k_0^{(k-1)}\\, \\beta_m e^{-\\beta_m E_a^{(k-1)}}\n",
    " \\end{pmatrix}$, and \n",
    " $\\alphabf^{(k)} = \\alphabf^{(k-1)} + \\delta\\alphabf$,\n",
    " \n",
    " until $\\norm{\\delta\\alphabf^{(k)}}$ is less than a small value."
   ]
  },
  {
   "cell_type": "markdown",
   "metadata": {},
   "source": [
    "## [Experimental Data (10 points)](#toc)<a id=\"ed10\"></a>\n",
    "Data will be provided for exercises as ASCII files in the `data/` directory of the course [repository](https://github.com/dpploy/chen-3170/tree/master/notebooks/data). The data is organized in two columns of $T$ versus $k$. For example `data/k_x_T_10pts.dat`:\n",
    "```\n",
    "#(T,k) [K x 1/s]\n",
    "r_cte = 8.314 [J/(mol.K)]\n",
    "n_pts = 10\n",
    "3.00000e+02 6.79538e-01\n",
    "3.22222e+02 7.08972e-01\n",
    "3.44444e+02 6.34251e-01\n",
    "3.66667e+02 7.25196e-01\n",
    "3.88889e+02 6.59508e-01\n",
    "4.11111e+02 7.42922e-01\n",
    "4.33333e+02 6.65461e-01\n",
    "4.55556e+02 7.01082e-01\n",
    "4.77778e+02 6.74563e-01\n",
    "5.00000e+02 7.98533e-01\n",
    "```"
   ]
  },
  {
   "cell_type": "code",
   "execution_count": 1,
   "metadata": {
    "ExecuteTime": {
     "end_time": "2021-12-06T19:46:55.582302Z",
     "start_time": "2021-12-06T19:46:55.573624Z"
    },
    "code_folding": [
     2
    ]
   },
   "outputs": [],
   "source": [
    "'''Function: read experimental data'''\n",
    "\n",
    "def read_experimental_data(filename):\n",
    "    import io                     # import io module\n",
    "    finput = open(filename, 'rt') # create file object\n",
    "\n",
    "    import numpy as np\n",
    "\n",
    "    for line in finput:\n",
    "    \n",
    "        line = line.strip() # original line\n",
    "    \n",
    "        if line[0] == '#': # skip comments in the file\n",
    "            continue\n",
    "        \n",
    "        var_line = line.split(' = ') # variable line\n",
    "    \n",
    "        if var_line[0] == 'r_cte':\n",
    "            r_cte = float(var_line[1].split(' ')[0])\n",
    "            r_cte_units = var_line[1].split(' ')[1]\n",
    "        elif var_line[0] == 'n_pts':\n",
    "            n_pts = int(var_line[1])\n",
    "            temp  = np.zeros(n_pts) # reserve space\n",
    "            k_cte = np.zeros(n_pts) # reserve space\n",
    "            idx   = 0 # counter\n",
    "        else:\n",
    "            data = line.split(' ') # original line\n",
    "            temp[idx]  = float(data[0])\n",
    "            k_cte[idx] = float(data[1])\n",
    "            idx += 1\n",
    "            \n",
    "    return (r_cte, r_cte_units, n_pts, temp, k_cte)"
   ]
  },
  {
   "cell_type": "code",
   "execution_count": 2,
   "metadata": {
    "ExecuteTime": {
     "end_time": "2021-12-06T19:46:56.050531Z",
     "start_time": "2021-12-06T19:46:55.585307Z"
    }
   },
   "outputs": [
    {
     "name": "stdout",
     "output_type": "stream",
     "text": [
      "R = 8.314 [J/(mol.K)]\n",
      "m =  10\n",
      "T = [300.   322.22 344.44 366.67 388.89 411.11 433.33 455.56 477.78 500.  ]\n",
      "k = [0.64 0.65 0.67 0.67 0.71 0.7  0.69 0.7  0.75 0.76]\n"
     ]
    }
   ],
   "source": [
    "'''Read experimental data'''\n",
    "\n",
    "import numpy as np\n",
    "(r_cte, r_cte_units, n_pts, temp_vec, k_cte_vec) = read_experimental_data('data/k_x_T_10pts.dat')\n",
    "        \n",
    "print('R = %4.3f %s'%(r_cte,r_cte_units))\n",
    "print('m = ',n_pts)\n",
    "np.set_printoptions(precision=2)\n",
    "print('T =',temp_vec)\n",
    "print('k =', k_cte_vec)"
   ]
  },
  {
   "cell_type": "code",
   "execution_count": 3,
   "metadata": {
    "ExecuteTime": {
     "end_time": "2021-12-06T19:46:56.057392Z",
     "start_time": "2021-12-06T19:46:56.052627Z"
    },
    "code_folding": [
     2
    ]
   },
   "outputs": [],
   "source": [
    "'''Function: plot experimental data'''\n",
    "\n",
    "def plot_experimental_data(temp, k_cte):\n",
    "    \n",
    "    import matplotlib.pyplot as plt\n",
    "\n",
    "    plt.figure(1, figsize=(7, 7))\n",
    "\n",
    "    plt.plot(temp, k_cte,'r*',label='experimental')\n",
    "    \n",
    "    plt.xlabel(r'$T$ [K]',fontsize=14)\n",
    "    plt.ylabel(r'$k$ [s$^{-1}$]',fontsize=14)\n",
    "    plt.title('Arrhenius Rxn Rate Constant Data',fontsize=20)\n",
    "    plt.legend(loc='best',fontsize=12)\n",
    "    plt.grid(True)\n",
    "    plt.show()\n",
    "    \n",
    "    return"
   ]
  },
  {
   "cell_type": "code",
   "execution_count": 4,
   "metadata": {
    "ExecuteTime": {
     "end_time": "2021-12-06T19:46:56.807598Z",
     "start_time": "2021-12-06T19:46:56.061410Z"
    }
   },
   "outputs": [
    {
     "data": {
      "image/png": "[encoded data removed]",
      "text/plain": [
       "<Figure size 504x504 with 1 Axes>"
      ]
     },
     "metadata": {
      "needs_background": "light"
     },
     "output_type": "display_data"
    }
   ],
   "source": [
    "'''Plot experimental data'''\n",
    "\n",
    "plot_experimental_data(temp_vec, k_cte_vec)"
   ]
  },
  {
   "cell_type": "markdown",
   "metadata": {},
   "source": [
    "### [Non-linear System](#toc)<a id=\"nls10\"></a>\n",
    "\n",
    "Evaluate the residuals, $r_i, i =1,\\ldots m$, of the Arrhenius fit function at each experimental point\n",
    "\n",
    "\\begin{equation*}\n",
    "r_i = k_i - f(\\alphabf;\\beta_i),\n",
    "\\end{equation*}\n",
    "\n",
    "and form the residual vector $\\rvec = \\begin{pmatrix}\n",
    " r_1 \\\\ \n",
    " r_2 \\\\ \n",
    " \\vdots  \\\\ \n",
    " r_m \\\\ \n",
    "\\end{pmatrix} $.\n",
    "\n",
    "This should be done in elementary steps, first define the fit function\n",
    "\n",
    "\\begin{equation*}\n",
    "f(\\alphabf;\\beta_i) =  k_0\\,e^{-\\beta\\,E_a}.\n",
    "\\end{equation*}"
   ]
  },
  {
   "cell_type": "markdown",
   "metadata": {},
   "source": [
    "Then evaluate the fit function at the $\\beta_i$ data points to form the fit vector function\n",
    "\n",
    "\\begin{equation*}\n",
    "f_i(\\alphabf) = f(\\alphabf;\\beta_i)\n",
    "\\end{equation*}\n",
    "\n",
    "$\\fvec = \\begin{pmatrix}\n",
    " f_1 \\\\ \n",
    " f_2 \\\\ \n",
    " \\vdots  \\\\ \n",
    " f_m \\\\ \n",
    "\\end{pmatrix} $.\n",
    "\n",
    "This should be done in one implementation as shown in the `arrhenius_func`. This allows a simple assembly of the residual vector using the $k_i$ values in a vector operation\n",
    "\n",
    "\\begin{equation*}\n",
    "\\rvec = \\kvec - \\fvec .\n",
    "\\end{equation*}"
   ]
  },
  {
   "cell_type": "code",
   "execution_count": 5,
   "metadata": {
    "ExecuteTime": {
     "end_time": "2021-12-06T19:46:56.814109Z",
     "start_time": "2021-12-06T19:46:56.809648Z"
    },
    "code_folding": []
   },
   "outputs": [],
   "source": [
    "'''Function: Arrhenius fit function'''\n",
    "\n",
    "def arrhenius_func(beta_vec, param_vec):\n",
    "    \n",
    "    import numpy as np\n",
    "    \n",
    "    k0 = param_vec[0]\n",
    "    ea = param_vec[1]\n",
    "    \n",
    "    k = k0 * np.exp(-beta_vec*ea)\n",
    "    \n",
    "    return k"
   ]
  },
  {
   "cell_type": "markdown",
   "metadata": {},
   "source": [
    "Next, build the elements needed to allow for the construction of the Jacobian matrix\n",
    "\n",
    "$\\Jmtrx = \\partial_\\alphabf\\rvec =  - \\partial_\\alphabf\\fvec = - \\partial_\\alphabf f(\\alphabf;\\betabf)$. \n",
    "<span style=\"color:red\">Assemble the Jacobian column by column as follows</span>. \n",
    "\n",
    "   + First column: $\\Jmtrx_{\\bullet,1} = -\\partial_{\\alpha_1}\\fvec = - \\partial_{\\alpha_1}f(\\alphabf;\\betabf)$\n",
    "   + Second column: $\\Jmtrx_{\\bullet,2} = -\\partial_{\\alpha_2}\\fvec = - \\partial_{\\alpha_2}f(\\alphabf;\\betabf)$\n",
    "\n",
    "To compute the gradient of the fit **vector** function, $\\fvec$,\n",
    "first implement the gradient of the **scalar** fit function, $f$, evaluated at the $\\betabf$ vector\n",
    "\n",
    "$ \\begin{pmatrix}\n",
    "  \\partial_{\\alpha_1}f(\\alphabf;\\betabf) \\\\ \n",
    "  \\partial_{\\alpha_2}f(\\alphabf;\\betabf)  \n",
    "\\end{pmatrix} \n",
    "=\n",
    "\\begin{pmatrix}\n",
    "  \\partial_{k_0}f(\\alphabf;\\betabf) \\\\ \n",
    "  \\partial_{E_a}f(\\alphabf;\\betabf)  \n",
    "\\end{pmatrix}\n",
    "=\n",
    "\\begin{pmatrix}\n",
    "  e^{-\\beta_1\\,E_a}, \\ldots, e^{-\\beta_m\\,E_a} \\\\ \n",
    "  -k_0\\,\\beta_1\\,e^{-\\beta_1\\,E_a}, \\ldots, -k_0\\,\\beta_m\\,e^{-\\beta_m\\,E_a}\n",
    "\\end{pmatrix}\n",
    "$.\n",
    "\n",
    "This is effectively the transpose of $\\Jmtrx$."
   ]
  },
  {
   "cell_type": "code",
   "execution_count": 6,
   "metadata": {
    "ExecuteTime": {
     "end_time": "2021-12-06T19:46:56.821992Z",
     "start_time": "2021-12-06T19:46:56.816764Z"
    },
    "code_folding": []
   },
   "outputs": [],
   "source": [
    "'''Function: Arrhenius parameter gradient'''\n",
    "\n",
    "def partial_p_arrhenius_func(beta_vec, param_vec):\n",
    "    \n",
    "    import numpy as np\n",
    "    \n",
    "    k0 = param_vec[0]  # parameter 0: p0\n",
    "    ea = param_vec[1]  # parameter 1: p1\n",
    "    \n",
    "    partial_p0_f =  np.exp(-beta_vec*ea)             # evaluated at all beta values\n",
    "    partial_p1_f = -k0*beta_vec*np.exp(-beta_vec*ea) # evaluated at all beta values\n",
    "    \n",
    "    # Columns of the Jacobian matrix (column 0, column 1)\n",
    "    return (partial_p0_f, partial_p1_f)"
   ]
  },
  {
   "cell_type": "markdown",
   "metadata": {},
   "source": [
    "The Jacobian matrix can be assembled simply from the gradient of the fit function, `partial_p_arrhenius_func`, directly\n",
    "\n",
    "$\\Jmtrx = \\partial_\\alphabf\\rvec =  - \\partial_\\alphabf\\fvec = - \\begin{pmatrix}\n",
    "  \\partial_{\\alpha_1}f(\\alphabf;\\beta_1) & \\partial_{\\alpha_2}f(\\alphabf;\\beta_1)   \\\\\n",
    "  \\partial_{\\alpha_1}f(\\alphabf;\\beta_2) & \\partial_{\\alpha_2}f(\\alphabf;\\beta_2) \\\\\n",
    "  \\vdots  & \\vdots \\\\\n",
    "  \\partial_{\\alpha_1}f(\\alphabf;\\beta_m) & \\partial_{\\alpha_2}f(\\alphabf;\\beta_m)\n",
    " \\end{pmatrix}$.\n",
    " \n",
    "This is easier than programming the construction of the Jacobian matrix directly as\n",
    " \n",
    "$\\Jmtrx = \\partial_\\alphabf\\rvec =  - \\partial_\\alphabf\\fvec = - \\begin{pmatrix}\n",
    "  e^{-\\beta_1 E_a} & -k_0\\, \\beta_1 e^{-\\beta_1 E_a}   \\\\\n",
    "  e^{-\\beta_2 E_a} & -k_0\\, \\beta_2 e^{-\\beta_2 E_a} \\\\\n",
    "  \\vdots  & \\vdots \\\\\n",
    "  e^{-\\beta_m E_a} & -k_0\\, \\beta_m e^{-\\beta_m E_a}\n",
    " \\end{pmatrix}$."
   ]
  },
  {
   "cell_type": "markdown",
   "metadata": {},
   "source": [
    "### [Non-Linear Least-Squares Newton's Method Data Fitting](#toc)<a id=\"nlls10\"></a>\n",
    "\n",
    "Find the optimal value $\\alphabf^*$ using Newton's method iterations on\n",
    "the linearized residual vector, that is, starting with an initial guess $\\alphabf^{(0)}$ compute the \n",
    "sequence $\\alphabf^{(k)}, k = 1\\ldots N_\\text{max}$ solving the normal equations\n",
    "\n",
    "\\begin{equation*}\n",
    "{\\Jmtrx^{(k-1)}}^\\top\\Jmtrx^{(k-1)}\\,\\delta\\alphabf = -\\Jmtrx^\\top\\rvec^{(k-1)} ,\n",
    "\\end{equation*}\n",
    "\n",
    "where $\\Jmtrx^{(k-1)} =  \\begin{pmatrix}\n",
    "  -e^{-\\beta_1 E_a^{(k-1)}} & k_0^{(k-1)}\\, \\beta_1 e^{-\\beta_1 E_a^{(k-1)}}   \\\\\n",
    "  -e^{-\\beta_2 E_a^{(k-1)}} & k_0^{(k-1)}\\, \\beta_2 e^{-\\beta_2 E_a^{(k-1)}} \\\\\n",
    "  \\vdots  & \\vdots \\\\\n",
    "  -e^{-\\beta_m E_a^{(k-1)}} & k_0^{(k-1)}\\, \\beta_m e^{-\\beta_m E_a^{(k-1)}}\n",
    " \\end{pmatrix}$, and \n",
    " $\\alphabf^{(k)} = \\alphabf^{(k-1)} + \\delta\\alphabf$,\n",
    " \n",
    " until $\\norm{\\delta\\alphabf^{(k)}}$ and $\\norm{\\Jmtrx^\\top\\rvec^{(k)}}$ are less than a small value."
   ]
  },
  {
   "cell_type": "code",
   "execution_count": 7,
   "metadata": {
    "ExecuteTime": {
     "end_time": "2021-12-06T19:46:56.844149Z",
     "start_time": "2021-12-06T19:46:56.826558Z"
    },
    "code_folding": []
   },
   "outputs": [],
   "source": [
    "def newton_solve(x_vec, y_vec, \n",
    "                 fit_func, partial_p_fit_func,\n",
    "                 param_vec_0,\n",
    "                 k_max=10, tolerance=1.0e-8, verbose=True):\n",
    "\n",
    "    assert x_vec.size == y_vec.size\n",
    "    \n",
    "    import numpy as np\n",
    "    import numpy.linalg\n",
    "    \n",
    "    try:    \n",
    "        from chen_3170.toolkit import solve   \n",
    "    except ModuleNotFoundError:\n",
    "        assert False, 'You need to provide your own solve function here. Bailing out.'\n",
    "    \n",
    "    # Other initialization\n",
    "    delta_vec_k = np.ones(param_vec_0.size, dtype=np.float64)*1e10\n",
    "    r_vec_k     = np.ones(x_vec.size, dtype=np.float64)*1e10\n",
    "    j_mtrx_k    = np.ones((x_vec.size, param_vec_0.size),dtype=np.float64)*1e10\n",
    "    param_vec   = np.copy(param_vec_0)\n",
    "    \n",
    "    if verbose is True:\n",
    "        print('\\n')\n",
    "        print('**************************************************************************')\n",
    "        print(\"                      Newton's Method Iterations                          \")\n",
    "        print('**************************************************************************')\n",
    "        print('k  ||r(p_k)||  ||J(p_k)||  ||J^T r(p_k)||  ||del p_k||   ||p_k||  |convg| ')\n",
    "        print('--------------------------------------------------------------------------')\n",
    "        #         1234567890 12345678901 123456789012345 123456789012 123456789 12345678\n",
    "        \n",
    "    import math\n",
    "    assert k_max >= 1\n",
    "    k = 1\n",
    "    \n",
    "    while (np.linalg.norm(delta_vec_k) > tolerance or np.linalg.norm(j_mtrx_k.transpose()@r_vec_k) > tolerance) and k <= k_max:\n",
    "        \n",
    "        # Build the residual vector\n",
    "        r_vec_k = y_vec - fit_func(x_vec, param_vec)\n",
    "        \n",
    "        # Build the columns of the Jacobian matrix\n",
    "        partial_p_f = partial_p_fit_func(x_vec, param_vec)\n",
    "        \n",
    "        # Assemble the Jacobian matrix\n",
    "        j_mtrx_k = np.zeros((x_vec.size, param_vec.size), dtype=np.float64) # allocate space\n",
    "        \n",
    "        for (i, partial_p_f_i) in enumerate(partial_p_f):\n",
    "            j_mtrx_k[:, i] = - partial_p_f_i\n",
    "        \n",
    "        delta_vec_k_old = delta_vec_k\n",
    "        \n",
    "        #delta_vec_k = solve( j_mtrx_k.transpose()@j_mtrx_k, -j_mtrx_k.transpose()@r_vec_k )\n",
    "        delta_vec_k = numpy.linalg.solve( j_mtrx_k.transpose()@j_mtrx_k, -j_mtrx_k.transpose()@r_vec_k )\n",
    "        \n",
    "        r_vec_k_old = r_vec_k\n",
    "        step_size = 1.0\n",
    "        r_vec_k = y_vec - fit_func(x_vec, param_vec+delta_vec_k)\n",
    "        \n",
    "        n_steps_max = 5\n",
    "        n_steps = 0\n",
    "        while (np.linalg.norm(r_vec_k) > np.linalg.norm(r_vec_k_old)) and n_steps <= n_steps_max:\n",
    "            step_size *= 0.5\n",
    "            #print('step reduced')\n",
    "            r_vec_k = y_vec - fit_func( x_vec, param_vec + step_size*delta_vec_k)\n",
    "            n_steps += 1\n",
    "        \n",
    "        param_vec += step_size * delta_vec_k\n",
    "        \n",
    "        if k > 0:\n",
    "            if np.linalg.norm(delta_vec_k) != 0.0 and np.linalg.norm(delta_vec_k_old) != 0.0:\n",
    "                convergence_factor = math.log(np.linalg.norm(delta_vec_k),10) / math.log(np.linalg.norm(delta_vec_k_old),10)\n",
    "            else:\n",
    "                convergence_factor = 0.0  \n",
    "        else:\n",
    "            convergence_factor = 0.0\n",
    "            \n",
    "        if verbose is True:\n",
    "            print('%2i %+10.2e %+11.2e %+15.2e %+12.2e %+9.2e %8.2f'%\\\n",
    "                  (k,np.linalg.norm(r_vec_k),np.linalg.norm(j_mtrx_k), np.linalg.norm(j_mtrx_k.transpose()@r_vec_k),\n",
    "                   np.linalg.norm(delta_vec_k), np.linalg.norm(param_vec), convergence_factor) )\n",
    "            \n",
    "        k = k + 1\n",
    "        \n",
    "    if verbose is True:\n",
    "        print('******************************************************') \n",
    "        print('Root = ',param_vec)\n",
    "    \n",
    "    return param_vec"
   ]
  },
  {
   "cell_type": "code",
   "execution_count": 8,
   "metadata": {
    "ExecuteTime": {
     "end_time": "2021-12-06T19:46:56.864701Z",
     "start_time": "2021-12-06T19:46:56.846683Z"
    }
   },
   "outputs": [
    {
     "name": "stdout",
     "output_type": "stream",
     "text": [
      "\n",
      "\n",
      "**************************************************************************\n",
      "                      Newton's Method Iterations                          \n",
      "**************************************************************************\n",
      "k  ||r(p_k)||  ||J(p_k)||  ||J^T r(p_k)||  ||del p_k||   ||p_k||  |convg| \n",
      "--------------------------------------------------------------------------\n",
      " 1  +1.36e-01   +3.16e+00       +3.90e-01    +6.78e+02 +6.78e+02     0.28\n",
      " 2  +4.86e-02   +2.57e+00       +4.88e-03    +2.95e+02 +9.72e+02     0.87\n",
      " 3  +4.85e-02   +2.35e+00       +6.25e-05    +1.96e+01 +9.92e+02     0.52\n",
      " 4  +4.85e-02   +2.33e+00       +8.97e-09    +1.60e-01 +9.92e+02    -0.62\n",
      " 5  +4.85e-02   +2.33e+00       +3.02e-13    +1.14e-03 +9.92e+02     3.70\n",
      " 6  +4.85e-02   +2.33e+00       +3.13e-13    +8.10e-06 +9.92e+02     1.73\n",
      " 7  +4.85e-02   +2.33e+00       +1.05e-16    +7.97e-06 +9.92e+02     1.00\n",
      " 8  +4.85e-02   +2.33e+00       +7.44e-16    +5.67e-08 +9.92e+02     1.42\n",
      "******************************************************\n",
      "Root =  [9.43e-01 9.92e+02]\n",
      "k_0 = 9.42649e-01 [1/s]  \n",
      "E_a = 9.91923e+02 [J/mol]\n"
     ]
    }
   ],
   "source": [
    "k_0      = 1.0\n",
    "energy_a = 0.0\n",
    "\n",
    "beta_vec = 1./r_cte/temp_vec\n",
    "\n",
    "param_vec_0 = np.array([k_0, energy_a])\n",
    "\n",
    "k_max = 8\n",
    "tolerance = 1.0e-6\n",
    "\n",
    "param_vec = newton_solve(beta_vec, k_cte_vec, \n",
    "                         arrhenius_func, partial_p_arrhenius_func,\n",
    "                         param_vec_0, k_max, tolerance)\n",
    "\n",
    "k_0      = param_vec[0]\n",
    "energy_a = param_vec[1]\n",
    "\n",
    "print('k_0 = %8.5e [1/s]  '%k_0)\n",
    "print('E_a = %8.5e [J/mol]'%energy_a)"
   ]
  },
  {
   "cell_type": "code",
   "execution_count": 9,
   "metadata": {
    "ExecuteTime": {
     "end_time": "2021-12-06T19:46:56.876584Z",
     "start_time": "2021-12-06T19:46:56.867072Z"
    },
    "code_folding": [
     2
    ]
   },
   "outputs": [],
   "source": [
    "'''Function: plot the fit in the Cartesian plane'''\n",
    "\n",
    "def plot_fit(r_cte, temp,k_cte, k_0, energy_a):\n",
    "    \n",
    "    import matplotlib.pyplot as plt\n",
    "    \n",
    "    plt.figure(2, figsize=(6, 6))\n",
    "\n",
    "    # plot experimental data\n",
    "    plt.plot(temp, k_cte,'r*',label='experimental')\n",
    "\n",
    "    # plot Arrhenius expression\n",
    "    n_plot_pts = 100\n",
    "    temp_plot = np.linspace( temp[0], temp[-1], n_plot_pts)\n",
    "    k_plot    = k_0 * np.exp(-energy_a/temp_plot/r_cte) # Arrhenius expression\n",
    "    \n",
    "    plt.plot(temp_plot,k_plot,'b-',label='LS fitting' )\n",
    "\n",
    "    plt.xlabel(r'$T$ [K]',fontsize=16)\n",
    "    plt.ylabel(r'$k$ [s$^{-1}$]',fontsize=16)\n",
    "    plt.title('Arrhenius Rxn Rate Constant Data',fontsize=20)\n",
    "\n",
    "    (x_min,x_max) = plt.xlim()\n",
    "    dx = abs(x_max-x_min)\n",
    "    x_text = x_min + dx*0.07\n",
    "    \n",
    "    (y_min,y_max) = plt.ylim()\n",
    "    dy = abs(y_max-y_min)\n",
    "    y_text = y_min + dy*0.05\n",
    "    plt.text(x_text, y_text, r'$k_0=$%8.2e [1/s],   $E_a$=%8.2e [J/mol]'%(k_0,energy_a),fontsize=16)\n",
    "    \n",
    "    plt.xticks(fontsize=14)\n",
    "    plt.yticks(fontsize=14)\n",
    "    plt.legend(loc='best',fontsize=12)\n",
    "    plt.grid(True)\n",
    "    plt.show()\n",
    "\n",
    "    return"
   ]
  },
  {
   "cell_type": "code",
   "execution_count": 10,
   "metadata": {
    "ExecuteTime": {
     "end_time": "2021-12-06T19:46:57.084530Z",
     "start_time": "2021-12-06T19:46:56.884520Z"
    }
   },
   "outputs": [
    {
     "data": {
      "image/png": "[encoded data removed]",
      "text/plain": [
       "<Figure size 432x432 with 1 Axes>"
      ]
     },
     "metadata": {
      "needs_background": "light"
     },
     "output_type": "display_data"
    }
   ],
   "source": [
    "'''Plot the fit in the Cartesian plane'''\n",
    "\n",
    "plot_fit(r_cte, temp_vec, k_cte_vec, k_0, energy_a)"
   ]
  },
  {
   "cell_type": "markdown",
   "metadata": {},
   "source": [
    "### [Goodness of Fit](#toc)<a id=\"gof10\"></a>\n",
    "\n",
    "There are different ways to evaluate the goodness of fit. Below is the most direct and relevant error evaluation.\n",
    "That is, the error on fitting the data as given."
   ]
  },
  {
   "cell_type": "code",
   "execution_count": 11,
   "metadata": {
    "ExecuteTime": {
     "end_time": "2021-12-06T19:46:57.091391Z",
     "start_time": "2021-12-06T19:46:57.086387Z"
    }
   },
   "outputs": [
    {
     "name": "stdout",
     "output_type": "stream",
     "text": [
      "Relative Error:\n",
      "mean [%] = 1.89\n",
      "std  [%] = 1.05\n",
      "max, min  [%] = 3.81, 0.77\n"
     ]
    }
   ],
   "source": [
    "'''Relative error on reaction rate constant values'''\n",
    "\n",
    "print('Relative Error:')\n",
    "\n",
    "error = np.abs(k_cte_vec - arrhenius_func(beta_vec, param_vec))/k_cte_vec*100\n",
    "\n",
    "mean = np.mean(error)\n",
    "std  = np.std(error)\n",
    "emax = np.max(error)\n",
    "emin = np.min(error)\n",
    "print('mean [%%] = %1.2f'%(mean))\n",
    "print('std  [%%] = %1.2f'%(std))\n",
    "print('max, min  [%%] = %1.2f, %1.2f'%(emax,emin))"
   ]
  },
  {
   "cell_type": "markdown",
   "metadata": {},
   "source": [
    "**Note**: An ideal fit should have an equal distribution of residual signs. That is the same number of experimental points above and below the fit. Verify this on your own."
   ]
  },
  {
   "cell_type": "markdown",
   "metadata": {},
   "source": [
    "### [Objective Function](#toc)<a id=\"of10\"></a>\n",
    "\n",
    "Let's show graphically that \n",
    "\n",
    "\\begin{equation*}\n",
    "\\phi(\\alphabf^*) = \\min\\limits_{\\alphabf} \\norm{\\rvec}^2 ,\n",
    "\\end{equation*}\n",
    "\n",
    "that is, the minimum sits at the bottom of the objective function surface.\n",
    "\n",
    "Information on `matplotlib` plots in 3D is found [here](https://matplotlib.org/tutorials/toolkits/mplot3d.html#sphx-glr-tutorials-toolkits-mplot3d-py)."
   ]
  },
  {
   "cell_type": "code",
   "execution_count": 12,
   "metadata": {
    "ExecuteTime": {
     "end_time": "2021-12-06T19:46:57.110448Z",
     "start_time": "2021-12-06T19:46:57.093330Z"
    }
   },
   "outputs": [
    {
     "name": "stdout",
     "output_type": "stream",
     "text": [
      "phi(x_LS)       = 2.35459e-03\n",
      "sqrt(phi(x_LS)) = 4.85241e-02\n",
      "Mean(r_vec)     = 5.97872e-06\n",
      "STD(r_vec)      = 1.53447e-02\n",
      "Goodness of fit = 1.53447e-02\n"
     ]
    }
   ],
   "source": [
    "'''Examining the residual'''\n",
    "\n",
    "r_vec = k_cte_vec - arrhenius_func( beta_vec, param_vec )\n",
    "phi = np.linalg.norm(r_vec)**2\n",
    "# phi_ls = np.dot(r_vec,r_vec) # alternative dot product\n",
    "\n",
    "import math\n",
    "print('phi(x_LS)       = %8.5e'%phi)\n",
    "print('sqrt(phi(x_LS)) = %8.5e'%math.sqrt(phi))  # norm of the residual vector\n",
    "print('Mean(r_vec)     = %8.5e'%np.mean(r_vec))\n",
    "print('STD(r_vec)      = %8.5e'%np.std(r_vec))\n",
    "print('Goodness of fit = %8.5e'%math.sqrt(phi/n_pts))"
   ]
  },
  {
   "cell_type": "code",
   "execution_count": 13,
   "metadata": {
    "ExecuteTime": {
     "end_time": "2021-12-06T19:46:57.118076Z",
     "start_time": "2021-12-06T19:46:57.112584Z"
    },
    "code_folding": []
   },
   "outputs": [],
   "source": [
    "'''Function: objective function around the minimum'''\n",
    "\n",
    "def get_objective_function_data(n_plot_pts, arrhenius_func, beta_vec, k_cte_vec, params_vec):\n",
    "    \n",
    "    import numpy as np\n",
    "    \n",
    "    # create the objective function array\n",
    "    k_0_pts    = np.linspace( 0.95*params_vec[0], params_vec[0]*1.05, n_plot_pts )\n",
    "    energy_pts = np.linspace( 0.95*params_vec[1], params_vec[1]*1.05, n_plot_pts )\n",
    "    \n",
    "    phi = np.zeros((n_plot_pts,n_plot_pts))\n",
    "    \n",
    "    i = -1\n",
    "    for k_0 in k_0_pts:\n",
    "        i += 1\n",
    "        j = -1\n",
    "        for e_a in energy_pts:\n",
    "            j += 1\n",
    "            res = k_cte_vec - arrhenius_func( beta_vec, np.array( [k_0,e_a] ) )\n",
    "            phi[i,j] = np.dot(res,res)\n",
    "            \n",
    "    return (k_0_pts, energy_pts, phi)"
   ]
  },
  {
   "cell_type": "code",
   "execution_count": 14,
   "metadata": {
    "ExecuteTime": {
     "end_time": "2021-12-06T19:46:57.126736Z",
     "start_time": "2021-12-06T19:46:57.120331Z"
    },
    "code_folding": []
   },
   "outputs": [],
   "source": [
    "'''Function: plot the objective function around the minimum'''\n",
    "\n",
    "def plot_objective_function( objective_function_data, param_vec, delta_factor=1.0 ):\n",
    "    \n",
    "    (k_0_pts, energy_pts, phi) = objective_function_data # unpack the data\n",
    "            \n",
    "    # 3D-plot the surface of the objective function\n",
    "    import numpy as np\n",
    "    import matplotlib.pyplot as plt\n",
    "    from matplotlib import cm\n",
    "    from mpl_toolkits.mplot3d import Axes3D\n",
    "\n",
    "    #fig = plt.figure(3,figsize=(6, 6))\n",
    "    \n",
    "    #ax = Axes3D(fig)\n",
    "    \n",
    "    #ax.plot_surface( k_0_pts, energy_pts, phi, rstride=1, cstride=1, cmap=cm.viridis )\n",
    "    #ax.plot_surface( k_0_pts, energy_pts, phi, cmap=cm.viridis )\n",
    "    \n",
    "    #ax.view_init(azim=10)\n",
    "\n",
    "    #ax.set_xlabel(r'$\\ln k_0$ [ ]',fontsize=16)\n",
    "    #ax.set_ylabel(r'$E_a$ [J/mol]',fontsize=16)\n",
    "    #ax.set_zlabel(r'$\\phi$',fontsize=16)\n",
    "\n",
    "    #plt.show()\n",
    "    \n",
    "    # plot the contour curves of the objective function\n",
    "    from matplotlib import ticker, cm\n",
    "    fig, ax = plt.subplots(figsize=(6, 6))\n",
    "    \n",
    "    delta = np.min(np.min(phi))/100.0 * delta_factor # % variation near the minimum\n",
    "    \n",
    "    cv = np.linspace( np.min(np.min(phi))+delta, np.max(np.max(phi)), 10 );\n",
    "    \n",
    "    cs = ax.contour(k_0_pts, energy_pts, phi, cv)\n",
    "    \n",
    "    xpos = param_vec[0]\n",
    "    ypos = param_vec[1]\n",
    "    \n",
    "    plt.text(xpos,ypos,r'* ($k_0$=%5.2e, $E_a$=%5.2e)'%(param_vec[0],param_vec[1]),color='r',fontsize=12);\n",
    "    \n",
    "    plt.xlabel(r'$k_0$ []',fontsize=14)\n",
    "    plt.ylabel(r'$E_a$ [J/mol]',fontsize=14)\n",
    "\n",
    "    plt.show()\n",
    "    return"
   ]
  },
  {
   "cell_type": "code",
   "execution_count": 15,
   "metadata": {
    "ExecuteTime": {
     "end_time": "2021-12-06T19:46:57.773402Z",
     "start_time": "2021-12-06T19:46:57.130488Z"
    }
   },
   "outputs": [
    {
     "data": {
      "image/png": "[encoded data removed]",
      "text/plain": [
       "<Figure size 432x432 with 1 Axes>"
      ]
     },
     "metadata": {
      "needs_background": "light"
     },
     "output_type": "display_data"
    }
   ],
   "source": [
    "'''Plot the objective function surface around the minimum'''\n",
    "\n",
    "n_plot_pts = 150\n",
    "\n",
    "objective_function_data = get_objective_function_data(n_plot_pts, arrhenius_func, beta_vec, k_cte_vec, param_vec)\n",
    "\n",
    "plot_objective_function( objective_function_data, param_vec )"
   ]
  },
  {
   "cell_type": "code",
   "execution_count": 16,
   "metadata": {
    "ExecuteTime": {
     "end_time": "2021-12-06T19:46:57.919660Z",
     "start_time": "2021-12-06T19:46:57.775568Z"
    }
   },
   "outputs": [
    {
     "ename": "ModuleNotFoundError",
     "evalue": "No module named 'plotly'",
     "output_type": "error",
     "traceback": [
      "\u001b[0;31m---------------------------------------------------------------------------\u001b[0m",
      "\u001b[0;31mModuleNotFoundError\u001b[0m                       Traceback (most recent call last)",
      "\u001b[0;32m/var/folders/qv/wk67wrtn2gg54g85zd7cnr70zgk8rz/T/ipykernel_23955/793136476.py\u001b[0m in \u001b[0;36m<module>\u001b[0;34m\u001b[0m\n\u001b[1;32m      4\u001b[0m \u001b[0;34m(\u001b[0m\u001b[0mx_vec\u001b[0m\u001b[0;34m,\u001b[0m \u001b[0my_vec\u001b[0m\u001b[0;34m,\u001b[0m \u001b[0mz_mtrx\u001b[0m\u001b[0;34m)\u001b[0m \u001b[0;34m=\u001b[0m \u001b[0mobjective_function_data\u001b[0m\u001b[0;34m\u001b[0m\u001b[0;34m\u001b[0m\u001b[0m\n\u001b[1;32m      5\u001b[0m \u001b[0;34m\u001b[0m\u001b[0m\n\u001b[0;32m----> 6\u001b[0;31m \u001b[0;32mimport\u001b[0m \u001b[0mplotly\u001b[0m\u001b[0;34m\u001b[0m\u001b[0;34m\u001b[0m\u001b[0m\n\u001b[0m\u001b[1;32m      7\u001b[0m \u001b[0;32mimport\u001b[0m \u001b[0mplotly\u001b[0m\u001b[0;34m.\u001b[0m\u001b[0mgraph_objs\u001b[0m \u001b[0;32mas\u001b[0m \u001b[0mgo\u001b[0m\u001b[0;34m\u001b[0m\u001b[0;34m\u001b[0m\u001b[0m\n\u001b[1;32m      8\u001b[0m \u001b[0;34m\u001b[0m\u001b[0m\n",
      "\u001b[0;31mModuleNotFoundError\u001b[0m: No module named 'plotly'"
     ]
    }
   ],
   "source": [
    "'''Plot the objective function around the minimum'''\n",
    "#!pip install plotly\n",
    "\n",
    "(x_vec, y_vec, z_mtrx) = objective_function_data\n",
    "\n",
    "import plotly\n",
    "import plotly.graph_objs as go\n",
    "\n",
    "plotly.offline.init_notebook_mode(connected=True)\n",
    "\n",
    "data = [ go.Surface(z=z_mtrx) ]\n",
    "layout = go.Layout(\n",
    "        title='Objective Function Surface',\n",
    "        autosize=False,\n",
    "        width=500,\n",
    "        height=500,\n",
    "        margin=dict(\n",
    "            l=65,\n",
    "            r=50,\n",
    "            b=65,\n",
    "            t=90\n",
    "        )\n",
    "    )\n",
    "\n",
    "plotly.offline.iplot({\n",
    "    \"data\": data,\n",
    "    \"layout\": layout\n",
    "})"
   ]
  },
  {
   "cell_type": "markdown",
   "metadata": {},
   "source": [
    "## [Experimental Data (20 points)](#toc)<a id=\"ed20\"></a>\n",
    "Data will be provided for exercises as ASCII files in the `data/` directory of the course [repository](https://github.com/dpploy/chen-3170/data). The data is organized in two columns of $T$ versus $k$. For example `data/k_x_T_20pts.dat`:\n",
    "```\n",
    "#(T,k) [K x 1/s]\n",
    "r_cte = 8.314 [J/(mol.K)]\n",
    "n_pts = 20\n",
    "3.00000e+02 6.46842e-01\n",
    "3.10526e+02 6.51310e-01\n",
    "3.21053e+02 6.30482e-01\n",
    "3.31579e+02 6.07467e-01\n",
    "3.42105e+02 6.85455e-01\n",
    "3.52632e+02 7.00184e-01\n",
    "3.63158e+02 7.39440e-01\n",
    "3.73684e+02 6.89361e-01\n",
    "3.84211e+02 7.06639e-01\n",
    "3.94737e+02 6.56265e-01\n",
    "4.05263e+02 6.97063e-01\n",
    "4.15789e+02 7.27683e-01\n",
    "4.26316e+02 6.89620e-01\n",
    "4.36842e+02 7.26620e-01\n",
    "4.47368e+02 6.98762e-01\n",
    "4.57895e+02 7.24678e-01\n",
    "4.68421e+02 7.63007e-01\n",
    "4.78947e+02 8.17275e-01\n",
    "4.89474e+02 7.30909e-01\n",
    "5.00000e+02 7.32861e-01\n",
    "```"
   ]
  },
  {
   "cell_type": "code",
   "execution_count": null,
   "metadata": {
    "ExecuteTime": {
     "end_time": "2021-12-06T19:46:57.921559Z",
     "start_time": "2021-12-06T19:46:57.921546Z"
    }
   },
   "outputs": [],
   "source": [
    "'''Read experimental data'''\n",
    "\n",
    "(r_cte, r_cte_units, n_pts, temp_vec, k_cte_vec) = read_experimental_data('data/k_x_T_20pts.dat')\n",
    "        \n",
    "print('R = %4.3f %s'%(r_cte,r_cte_units))\n",
    "print('m = ',n_pts)\n",
    "np.set_printoptions(precision=2)\n",
    "print('T =',temp_vec)\n",
    "print('k =', k_cte_vec)"
   ]
  },
  {
   "cell_type": "code",
   "execution_count": null,
   "metadata": {
    "ExecuteTime": {
     "end_time": "2021-12-06T19:46:57.922642Z",
     "start_time": "2021-12-06T19:46:57.922630Z"
    }
   },
   "outputs": [],
   "source": [
    "'''Plot experimental data'''\n",
    "\n",
    "plot_experimental_data(temp_vec, k_cte_vec)"
   ]
  },
  {
   "cell_type": "markdown",
   "metadata": {},
   "source": [
    "### [Non-Linear System](#toc)<a id=\"nls20\"></a>\n",
    "\n",
    "Similar as [before](#nls10) with 10 points."
   ]
  },
  {
   "cell_type": "markdown",
   "metadata": {},
   "source": [
    "### [Non-Linear Least-Squares Newton's Method Data Fitting](#toc)<a id=\"nlls20\"></a>\n",
    "\n",
    "Similar as [before](#nlls10) with 10 points."
   ]
  },
  {
   "cell_type": "code",
   "execution_count": null,
   "metadata": {
    "ExecuteTime": {
     "end_time": "2021-12-06T19:46:57.924045Z",
     "start_time": "2021-12-06T19:46:57.924028Z"
    },
    "scrolled": true
   },
   "outputs": [],
   "source": [
    "k_0      = 1.0\n",
    "energy_a = 0.0\n",
    "\n",
    "beta_vec = 1./r_cte/temp_vec\n",
    "param_vec_0 = np.array([k_0,energy_a])\n",
    "\n",
    "k_max = 8\n",
    "tolerance = 1.0e-6\n",
    "\n",
    "param_vec = newton_solve(beta_vec, k_cte_vec, \n",
    "                         arrhenius_func, partial_p_arrhenius_func,\n",
    "                         param_vec_0, k_max, tolerance)\n",
    "\n",
    "k_0      = param_vec[0]\n",
    "energy_a = param_vec[1]\n",
    "\n",
    "print('k_0 = %8.5e [1/s]'%k_0)\n",
    "print('E_a = %8.5e [J/mol]'%energy_a)"
   ]
  },
  {
   "cell_type": "code",
   "execution_count": null,
   "metadata": {
    "ExecuteTime": {
     "end_time": "2021-12-06T19:46:57.925781Z",
     "start_time": "2021-12-06T19:46:57.925768Z"
    }
   },
   "outputs": [],
   "source": [
    "'''Plot the fit in the Cartesian plane'''\n",
    "\n",
    "plot_fit(r_cte, temp_vec, k_cte_vec, k_0, energy_a)"
   ]
  },
  {
   "cell_type": "markdown",
   "metadata": {},
   "source": [
    "### [Goodness of Fit](#toc)<a id=\"gof20\"></a>\n",
    "\n",
    "There are different ways to evaluate the goodness of fit. Below is the most direct and relevant error evaluation.\n",
    "That is, the error on fitting the data as given."
   ]
  },
  {
   "cell_type": "code",
   "execution_count": null,
   "metadata": {
    "ExecuteTime": {
     "end_time": "2021-12-06T19:46:57.926935Z",
     "start_time": "2021-12-06T19:46:57.926914Z"
    }
   },
   "outputs": [],
   "source": [
    "'''Relative error on reaction rate constant values'''\n",
    "\n",
    "print('Relative Error:')\n",
    "error = np.abs(k_cte_vec - arrhenius_func( beta_vec, param_vec ))/k_cte_vec*100\n",
    "mean = np.mean(error)\n",
    "std  = np.std(error)\n",
    "emax = np.max(error)\n",
    "emin = np.min(error)\n",
    "print('mean [%%] = %1.2f'%(mean))\n",
    "print('std  [%%] = %1.2f'%(std))\n",
    "print('max, min  [%%] = %1.2f, %1.2f'%(emax,emin))"
   ]
  },
  {
   "cell_type": "markdown",
   "metadata": {},
   "source": [
    "### [Objective Function](#toc)<a id=\"of20\"></a>\n",
    "\n",
    "Let's show graphically that \n",
    "\n",
    "\\begin{equation*}\n",
    "\\phi(\\alphabf^*) = \\min\\limits_{\\alphabf} \\norm{\\rvec}^2 ,\n",
    "\\end{equation*}\n",
    "\n",
    "that is, the minimum sits at the bottom of the objective function surface.\n",
    "\n",
    "Information on `matplotlib` plots in 3D is found [here](https://matplotlib.org/tutorials/toolkits/mplot3d.html#sphx-glr-tutorials-toolkits-mplot3d-py)."
   ]
  },
  {
   "cell_type": "code",
   "execution_count": null,
   "metadata": {
    "ExecuteTime": {
     "end_time": "2021-12-06T19:46:57.928545Z",
     "start_time": "2021-12-06T19:46:57.928525Z"
    }
   },
   "outputs": [],
   "source": [
    "'''Examining the residual'''\n",
    "\n",
    "r_vec = k_cte_vec - arrhenius_func( beta_vec, param_vec )\n",
    "phi = np.linalg.norm(r_vec)**2\n",
    "# phi_ls = np.dot(r_vec,r_vec) # alternative dot product\n",
    "\n",
    "import math\n",
    "print('phi(x_LS)       = %8.5e'%phi)\n",
    "print('sqrt(phi(x_LS)) = %8.5e'%math.sqrt(phi))  # norm of the residual vector\n",
    "print('Mean(r_vec)     = %8.5e'%np.mean(r_vec))\n",
    "print('STD(r_vec)      = %8.5e'%np.std(r_vec))\n",
    "print('Goodness of fit = %8.5e'%math.sqrt(phi/n_pts))"
   ]
  },
  {
   "cell_type": "code",
   "execution_count": null,
   "metadata": {
    "ExecuteTime": {
     "end_time": "2021-12-06T19:46:57.929755Z",
     "start_time": "2021-12-06T19:46:57.929725Z"
    }
   },
   "outputs": [],
   "source": [
    "'''Plot the objective function surface around the minimum'''\n",
    "\n",
    "n_plot_pts = 150\n",
    "\n",
    "objective_function_data = get_objective_function_data(n_plot_pts, arrhenius_func, beta_vec, k_cte_vec, param_vec)\n",
    "\n",
    "plot_objective_function( objective_function_data, param_vec, delta_factor = 0.4 )"
   ]
  },
  {
   "cell_type": "code",
   "execution_count": null,
   "metadata": {
    "ExecuteTime": {
     "end_time": "2021-12-06T19:46:57.931439Z",
     "start_time": "2021-12-06T19:46:57.931423Z"
    }
   },
   "outputs": [],
   "source": [
    "'''Plot the objective function around the minimum'''\n",
    "#!pip install plotly\n",
    "\n",
    "(x_vec, y_vec, z_mtrx) = objective_function_data\n",
    "\n",
    "import plotly\n",
    "import plotly.graph_objs as go\n",
    "\n",
    "plotly.offline.init_notebook_mode(connected=True)\n",
    "\n",
    "data = [ go.Surface(z=z_mtrx) ]\n",
    "layout = go.Layout(\n",
    "        title='Objective Function Surface',\n",
    "        autosize=False,\n",
    "        width=500,\n",
    "        height=500,\n",
    "        margin=dict(\n",
    "            l=65,\n",
    "            r=50,\n",
    "            b=65,\n",
    "            t=90\n",
    "        )\n",
    "    )\n",
    "\n",
    "plotly.offline.iplot({\n",
    "    \"data\": data,\n",
    "    \"layout\": layout\n",
    "})"
   ]
  },
  {
   "cell_type": "markdown",
   "metadata": {},
   "source": [
    "## [Experimental Data (80 points)](#toc)<a id=\"ed80\"></a>\n",
    "Data will be provided for exercises as ASCII files in the `data/` directory of the course [repository](https://github.com/dpploy/chen-3170/data). The data is organized in two columns of $T$ versus $k$. For example `data/k_x_T_80pts.dat`."
   ]
  },
  {
   "cell_type": "code",
   "execution_count": null,
   "metadata": {
    "ExecuteTime": {
     "end_time": "2021-12-06T19:46:57.932632Z",
     "start_time": "2021-12-06T19:46:57.932617Z"
    }
   },
   "outputs": [],
   "source": [
    "'''Read experimental data'''\n",
    "\n",
    "import numpy as np\n",
    "\n",
    "(r_cte, r_cte_units, n_pts, temp_vec, k_cte_vec) = read_experimental_data('data/k_x_T_80pts.dat')\n",
    "        \n",
    "print('R = %4.3f %s'%(r_cte,r_cte_units))\n",
    "print('m = ',n_pts)\n",
    "np.set_printoptions(precision=2)\n",
    "print('T =',temp_vec)\n",
    "print('k =', k_cte_vec)"
   ]
  },
  {
   "cell_type": "code",
   "execution_count": null,
   "metadata": {
    "ExecuteTime": {
     "end_time": "2021-12-06T19:46:57.933900Z",
     "start_time": "2021-12-06T19:46:57.933884Z"
    }
   },
   "outputs": [],
   "source": [
    "'''Plot experimental data'''\n",
    "\n",
    "plot_experimental_data(temp_vec, k_cte_vec)"
   ]
  },
  {
   "cell_type": "markdown",
   "metadata": {},
   "source": [
    "### [Non-Linear System](#toc)<a id=\"nls80\"></a>\n",
    "\n",
    "Similar as [before](#nls10) with 10 points."
   ]
  },
  {
   "cell_type": "markdown",
   "metadata": {},
   "source": [
    "### [Non-Linear Least-Squares Newton's Method Data Fitting](#toc)<a id=\"nlls80\"></a>\n",
    "\n",
    "Similar as [before](#nlls10) with 10 points."
   ]
  },
  {
   "cell_type": "code",
   "execution_count": null,
   "metadata": {
    "ExecuteTime": {
     "end_time": "2021-12-06T19:46:57.935290Z",
     "start_time": "2021-12-06T19:46:57.935274Z"
    }
   },
   "outputs": [],
   "source": [
    "k_0      = 1.0\n",
    "energy_a = 0.0\n",
    "\n",
    "beta_vec = 1./r_cte/temp_vec\n",
    "param_vec_0 = np.array([k_0,energy_a])\n",
    "\n",
    "k_max = 8\n",
    "tolerance = 1.0e-6\n",
    "\n",
    "param_vec = newton_solve(beta_vec, k_cte_vec, \n",
    "                         arrhenius_func, partial_p_arrhenius_func,\n",
    "                         param_vec_0, k_max, tolerance)\n",
    "\n",
    "k_0      = param_vec[0]\n",
    "energy_a = param_vec[1]\n",
    "\n",
    "print('k_0 = %8.5e [1/s]'%k_0)\n",
    "print('E_a = %8.5e [J/mol]'%energy_a)"
   ]
  },
  {
   "cell_type": "code",
   "execution_count": null,
   "metadata": {
    "ExecuteTime": {
     "end_time": "2021-12-06T19:46:57.936349Z",
     "start_time": "2021-12-06T19:46:57.936334Z"
    }
   },
   "outputs": [],
   "source": [
    "'''Plot the fit in the Cartesian plane'''\n",
    "\n",
    "plot_fit(r_cte, temp_vec, k_cte_vec, k_0, energy_a)"
   ]
  },
  {
   "cell_type": "markdown",
   "metadata": {},
   "source": [
    "### [Goodness of Fit](#toc)<a id=\"gof80\"></a>\n",
    "\n",
    "There are different ways to evaluate the goodness of fit. Below is the most direct and relevant error evaluation.\n",
    "That is, the error on fitting the data as given."
   ]
  },
  {
   "cell_type": "code",
   "execution_count": null,
   "metadata": {
    "ExecuteTime": {
     "end_time": "2021-12-06T19:46:57.937432Z",
     "start_time": "2021-12-06T19:46:57.937417Z"
    }
   },
   "outputs": [],
   "source": [
    "'''Relative error on reaction rate constant values'''\n",
    "\n",
    "print('Relative Error:')\n",
    "error = np.abs(k_cte_vec - arrhenius_func(beta_vec, param_vec))/k_cte_vec*100\n",
    "mean = np.mean(error)\n",
    "std  = np.std(error)\n",
    "emax = np.max(error)\n",
    "emin = np.min(error)\n",
    "print('mean [%%] = %1.2f'%(mean))\n",
    "print('std  [%%] = %1.2f'%(std))\n",
    "print('max, min  [%%] = %1.2f, %1.2f'%(emax,emin))"
   ]
  },
  {
   "cell_type": "markdown",
   "metadata": {},
   "source": [
    "### [Objective Function](#toc)<a id=\"of80\"></a>\n",
    "\n",
    "Let's show graphically that \n",
    "\n",
    "\\begin{equation*}\n",
    "\\phi(\\alphabf^*) = \\min\\limits_{\\alphabf} \\norm{\\rvec}^2 ,\n",
    "\\end{equation*}\n",
    "\n",
    "that is, the minimum sits at the bottom of the objective function surface.\n",
    "\n",
    "Information on `matplotlib` plots in 3D is found [here](https://matplotlib.org/tutorials/toolkits/mplot3d.html#sphx-glr-tutorials-toolkits-mplot3d-py)."
   ]
  },
  {
   "cell_type": "code",
   "execution_count": null,
   "metadata": {
    "ExecuteTime": {
     "end_time": "2021-12-06T19:46:57.938712Z",
     "start_time": "2021-12-06T19:46:57.938694Z"
    }
   },
   "outputs": [],
   "source": [
    "'''Examining the residual'''\n",
    "\n",
    "r_vec = k_cte_vec - arrhenius_func(beta_vec, param_vec)\n",
    "phi = np.linalg.norm(r_vec)**2\n",
    "# phi_ls = np.dot(r_vec,r_vec) # alternative dot product\n",
    "\n",
    "import math\n",
    "print('phi(x_LS)       = %8.5e'%phi)\n",
    "print('sqrt(phi(x_LS)) = %8.5e'%math.sqrt(phi))  # norm of the residual vector\n",
    "print('Mean(r_vec)     = %8.5e'%np.mean(r_vec))\n",
    "print('STD(r_vec)      = %8.5e'%np.std(r_vec))\n",
    "print('Goodness of fit = %8.5e'%math.sqrt(phi/n_pts))"
   ]
  },
  {
   "cell_type": "code",
   "execution_count": null,
   "metadata": {
    "ExecuteTime": {
     "end_time": "2021-12-06T19:46:57.939661Z",
     "start_time": "2021-12-06T19:46:57.939642Z"
    }
   },
   "outputs": [],
   "source": [
    "'''Plot the objective function surface around the minimum'''\n",
    "\n",
    "n_plot_pts = 150\n",
    "\n",
    "objective_function_data = get_objective_function_data(n_plot_pts, arrhenius_func, beta_vec, k_cte_vec, param_vec)\n",
    "\n",
    "plot_objective_function(objective_function_data, param_vec, delta_factor = 0.4)"
   ]
  },
  {
   "cell_type": "code",
   "execution_count": null,
   "metadata": {
    "ExecuteTime": {
     "end_time": "2021-12-06T19:46:57.940849Z",
     "start_time": "2021-12-06T19:46:57.940829Z"
    },
    "scrolled": false
   },
   "outputs": [],
   "source": [
    "'''Plot the objective function around the minimum'''\n",
    "#!pip install plotly\n",
    "\n",
    "(x_vec, y_vec, z_mtrx) = objective_function_data\n",
    "\n",
    "import plotly\n",
    "import plotly.graph_objs as go\n",
    "\n",
    "plotly.offline.init_notebook_mode(connected=True)\n",
    "\n",
    "data = [ go.Surface(z=z_mtrx) ]\n",
    "layout = go.Layout(\n",
    "        title='Objective Function Surface',\n",
    "        autosize=False,\n",
    "        width=500,\n",
    "        height=500,\n",
    "        margin=dict(\n",
    "            l=65,\n",
    "            r=50,\n",
    "            b=65,\n",
    "            t=90\n",
    "        )\n",
    "    )\n",
    "\n",
    "plotly.offline.iplot({\n",
    "    \"data\": data,\n",
    "    \"layout\": layout\n",
    "})"
   ]
  },
  {
   "cell_type": "markdown",
   "metadata": {},
   "source": [
    "## [Results Comparison NLLSq Method](#toc)<a id=\"res\"></a>\n",
    "\n",
    "|            Parameters                 |  10 pts  |  20 pts  | 80 pts   |\n",
    "| ------------------------------------- | -------- | -------  | -------- |\n",
    "| Pre-exponential factor, $k_0$, 1/s    | 9.42e-01 | 8.65e-01 | 9.03e-01 |\n",
    "| Energy of activation, $E_a$, J/mol    | 9.92e+02 | 6.89e+02 | 8.13e+02 |\n",
    "| Relative error mean [%]               | 1.89     | 2.07     | 1.30     |\n",
    "| Relative error std  [%]               | 1.05     | 1.40     | 0.97     |\n",
    "| Max. relative error [%]               | 3.81     | 5.41     | 3.64     |"
   ]
  },
  {
   "cell_type": "markdown",
   "metadata": {},
   "source": [
    "## [Results Comparison LLSq Method Notebook 11](#toc)<a id=\"res\"></a>\n",
    "\n",
    "|            Parameters                 |  10 pts  |  20 pts  | 80 pts   |\n",
    "| ------------------------------------- | -------- | -------  | -------- |\n",
    "| Pre-exponential factor, $k_0$, 1/s    | 9.38e-01 | 8.64e-01 | 9.02e-01 |\n",
    "| Energy of activation, $E_a$, J/mol    | 9.76e+02 | 6.88e+02 | 8.09e+02 |\n",
    "| Relative error mean [%]               | 1.89     | 2.08     | 1.29     |\n",
    "| Relative error std [%]                | 1.05     | 1.40     | 0.97     |\n",
    "| Max. relative error [%]               | 3.74     | 5.38     | 3.65     |"
   ]
  }
 ],
 "metadata": {
  "kernelspec": {
   "display_name": "Python 3 (ipykernel)",
   "language": "python",
   "name": "python3"
  },
  "language_info": {
   "codemirror_mode": {
    "name": "ipython",
    "version": 3
   },
   "file_extension": ".py",
   "mimetype": "text/x-python",
   "name": "python",
   "nbconvert_exporter": "python",
   "pygments_lexer": "ipython3",
   "version": "3.8.11"
  },
  "latex_envs": {
   "LaTeX_envs_menu_present": true,
   "autoclose": false,
   "autocomplete": true,
   "bibliofile": "biblio.bib",
   "cite_by": "apalike",
   "current_citInitial": 1,
   "eqLabelWithNumbers": true,
   "eqNumInitial": 1,
   "hotkeys": {
    "equation": "Ctrl-E",
    "itemize": "Ctrl-I"
   },
   "labels_anchors": false,
   "latex_user_defs": false,
   "report_style_numbering": false,
   "user_envs_cfg": false
  }
 },
 "nbformat": 4,
 "nbformat_minor": 2
}
