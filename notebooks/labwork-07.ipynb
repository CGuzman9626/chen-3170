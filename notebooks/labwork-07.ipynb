{
 "cells": [
  {
   "cell_type": "markdown",
   "metadata": {},
   "source": [
    "ChEn-3170: Computational Methods in Chemical Engineering Spring 2021 UMass Lowell; Prof. V. F. de Almeida **27Apr21**\n",
    "\n",
    "# Laboratory Work 07 (28Apr21)\n",
    "$\n",
    "  \\newcommand{\\Amtrx}{\\boldsymbol{\\mathsf{A}}}\n",
    "  \\newcommand{\\Bmtrx}{\\boldsymbol{\\mathsf{B}}}\n",
    "  \\newcommand{\\Mmtrx}{\\boldsymbol{\\mathsf{M}}}\n",
    "  \\newcommand{\\Imtrx}{\\boldsymbol{\\mathsf{I}}}\n",
    "  \\newcommand{\\Pmtrx}{\\boldsymbol{\\mathsf{P}}}\n",
    "  \\newcommand{\\Lmtrx}{\\boldsymbol{\\mathsf{L}}}\n",
    "  \\newcommand{\\Umtrx}{\\boldsymbol{\\mathsf{U}}}\n",
    "  \\newcommand{\\Jmtrx}{\\boldsymbol{\\mathsf{J}}}\n",
    "  \\newcommand{\\Smtrx}{\\boldsymbol{\\mathsf{S}}}\n",
    "  \\newcommand{\\Xmtrx}{\\boldsymbol{\\mathsf{X}}}\n",
    "  \\newcommand{\\Kmtrx}{\\boldsymbol{\\mathsf{K}}}\n",
    "  \\newcommand{\\xvec}{\\boldsymbol{x}}\n",
    "  \\newcommand{\\avec}{\\boldsymbol{\\mathsf{a}}}\n",
    "  \\newcommand{\\bvec}{\\boldsymbol{\\mathsf{b}}}\n",
    "  \\newcommand{\\cvec}{\\boldsymbol{\\mathsf{c}}}\n",
    "  \\newcommand{\\rvec}{\\boldsymbol{\\mathsf{r}}}\n",
    "  \\newcommand{\\mvec}{\\boldsymbol{\\mathsf{m}}}\n",
    "  \\newcommand{\\gvec}{\\boldsymbol{\\mathsf{g}}}\n",
    "  \\newcommand{\\zerovec}{\\boldsymbol{\\mathsf{0}}}\n",
    "  \\newcommand{\\norm}[1]{\\bigl\\lVert{#1}\\bigr\\rVert}\n",
    "  \\newcommand{\\abs}[1]{\\left\\lvert{#1}\\right\\rvert}\n",
    "  \\newcommand{\\transpose}[1]{{#1}^\\top}\n",
    "  \\DeclareMathOperator{\\rank}{rank}\n",
    "  \\DeclareMathOperator{\\gradx}{\\nabla\\!_{\\xvec}}\n",
    "  \\DeclareMathOperator{\\partialx}{\\partial_\\xvec}\n",
    "  \\newcommand{\\Kcal}{\\mathcal{K}}\n",
    "  \\newcommand{\\Kcalvec}{\\boldsymbol{\\mathcal{K}}}\n",
    "  \\newcommand{\\epsvec}{\\boldsymbol{\\varepsilon}}\n",
    "$"
   ]
  },
  {
   "cell_type": "markdown",
   "metadata": {},
   "source": [
    "### Name: `your name`"
   ]
  },
  {
   "cell_type": "markdown",
   "metadata": {
    "cell_style": "split"
   },
   "source": [
    "### Rubric for each assignment: \n",
    "\n",
    "|      Context       |  Points |\n",
    "|:----------------------------|:-------:|\n",
    "| Precision of the answer     |  80%    |\n",
    "| Answer Markdown readability |  10%    |\n",
    "| Code readability            |  10%    |"
   ]
  },
  {
   "cell_type": "markdown",
   "metadata": {
    "cell_style": "split"
   },
   "source": [
    "### <span style=\"color:red\">Guidance:</span>\n",
    "\n",
    "+  <span style=\"color:red\"> \n",
    "    Save your work frequently to a file locally to your computer.\n",
    "   </span>\n",
    "+  <span style=\"color:red\">\n",
    "    During your work and before submitting the final version do:</span> Kernel -> Restart & Run All<span style=\"color:red\">, to verify your notebook runs correctly.\n",
    "   </span>\n",
    "+  <span style=\"color:red\">\n",
    "    Save your file again.\n",
    "   </span>\n",
    "+  <span style=\"color:red\">\n",
    "    Upload the notebook file in the Blackboard submission portal as: \n",
    "   </span> \n",
    "   \n",
    "   **lastname-firstname-labwork-xx.ipynb**"
   ]
  },
  {
   "cell_type": "markdown",
   "metadata": {},
   "source": [
    "---\n",
    "### Table of Assignments<a id=\"toa\"></a>\n",
    "* [Assignment 1 (45 pts)](#a1) Water-gas shift reaction\n",
    " - [1.1)](#a11) Import reaction.\n",
    " - [1.2)](#a12) Produce stoichiometric data.\n",
    " - [1.3)](#a13) Compute rank.\n",
    " - [1.4)](#a14) Compute equilibrium.\n",
    " - [1.5)](#a15) Summary of computational method for computing equilibrium.\n",
    " - [1.6)](#a16) Compare matrices.\n",
    "* [Assignment 2 (50 pts)](#a2) CSTR\n",
    " - [2.1)](#a21) Model of CSTR\n",
    " - [2.2)](#a22) Steady-state concentration\n",
    " - [2.3)](#a23) Steady-state heating power.\n",
    " - [2.4)](#a24) Cost of heating.\n",
    " - [2.5)](#a25) Transient simulation for new inflow conditions\n",
    " - [2.6)](#a26) Results analysis\n",
    "* [Assignment 3 (5 pts)](#a5) Unclear points.\n",
    "---"
   ]
  },
  {
   "cell_type": "markdown",
   "metadata": {},
   "source": [
    "## <span style=\"color:blue\">[Assignment 1 (45 pts)](#toa)</span><a id=\"a1\"></a>"
   ]
  },
  {
   "cell_type": "markdown",
   "metadata": {},
   "source": [
    "### <span style=\"color:blue\">Compute the equilibrium molar fraction for a model of the water-gas shift reaction (an important means of production of hydrogen) in a closed reactor vessel: see file `data/water-gas-shift-rxn.txt`:</span>\n",
    "\n",
    " Water Gas Shift            |         $K_x$        |\n",
    "--------------------------------|----------------------|\n",
    "H2O + CO <-> CO2 + H2    | 113.13        |\n",
    "H2O + H  <-> H2  + OH   | 22.182353        |\n",
    " OH  + CO <-> CO2 + H   | 5.1        |\n",
    " \n",
    "### <span style=\"color:blue\"> where $K_x$ is the reaction equilibrium constant based on molar fraction. At some point in time, the charge to the reactor vessel was given:\n",
    "</span>\n",
    "\n",
    "| Species | Empirical Formula | Mole Fraction | Value [%] |\n",
    "|-------------|-----------------|--------------|-------|\n",
    "|Carbon monoxide    | CO      | $x_\\text{CO}$  | 46  |\n",
    "|Water              | H2O     | $x_\\text{H2O}$ | 52  |\n",
    "|Molecular hydrogen | H2      | $x_\\text{H2}$  | 0   |\n",
    "|Carbon dioxide     | CO2     | $x_\\text{CO2}$ | 0   |\n",
    "|Hydrogen           | H       | $x_\\text{H}$   | 1   |\n",
    "|Hydroxide          | OH      | $x_\\text{OH}$  | 1   |\n",
    "\n",
    "<a id=\"a11\"></a>"
   ]
  },
  {
   "cell_type": "markdown",
   "metadata": {},
   "source": [
    "### <span style=\"color:blue\">[1.1)](#toa) Import the reaction mechanism.\n",
    "</span><a id=\"a11\"></a>"
   ]
  },
  {
   "cell_type": "code",
   "execution_count": 1,
   "metadata": {
    "cell_style": "center"
   },
   "outputs": [],
   "source": [
    "'''1.1) Import reaction mechanism'''\n"
   ]
  },
  {
   "cell_type": "markdown",
   "metadata": {},
   "source": [
    "### <span style=\"color:blue\">[1.2)](#toa) Make an organized output of the species and stoichiometric data.\n",
    "</span><a id=\"a12\"></a>"
   ]
  },
  {
   "cell_type": "code",
   "execution_count": 2,
   "metadata": {},
   "outputs": [
    {
     "name": "stdout",
     "output_type": "stream",
     "text": [
      "species= ['CO', 'OH', 'CO2', 'H2', 'H', 'H2O']\n",
      "\n",
      "r0 :  H2O + CO <-> CO2 + H2\n",
      "r1 :  H2O + H  <-> H2  + OH\n",
      "r2 :  OH  + CO <-> CO2 + H\n",
      "n_reactions = 3\n",
      "\n",
      "K_x eq =  [113.13   22.182   5.1  ]\n",
      "\n",
      "\n",
      "stoic_mtrx=\n",
      " [[-1.  0.  1.  1.  0. -1.]\n",
      " [ 0.  1.  0.  1. -1. -1.]\n",
      " [-1. -1.  1.  0.  1.  0.]]\n"
     ]
    }
   ],
   "source": [
    "'''1.2) Info on the data'''\n"
   ]
  },
  {
   "cell_type": "markdown",
   "metadata": {},
   "source": [
    "### <span style=\"color:blue\">[1.3)](#toa) Compute the rank of the stoichiometric matrix using your own algorithm. Is it full rank? Why? </span><a id=\"a13\"></a>"
   ]
  },
  {
   "cell_type": "code",
   "execution_count": 3,
   "metadata": {},
   "outputs": [
    {
     "name": "stdout",
     "output_type": "stream",
     "text": [
      "stoic_mtrx rank = 2\n"
     ]
    }
   ],
   "source": [
    "'''1.3) Check the rank of the stoichiometric matrix'''\n"
   ]
  },
  {
   "cell_type": "markdown",
   "metadata": {},
   "source": [
    "<span style=\"color:blue\">**Explanation:**</span>"
   ]
  },
  {
   "cell_type": "markdown",
   "metadata": {},
   "source": [
    "### <span style=\"color:blue\">[1.4)](#toa) Compute (use your own algorithms) and report the equilibrium mole fractions for all species as follows (values are for your reference) and complete the plots below:</span><a id=\"a14\"></a>\n",
    "    \n",
    "      formula      species name    \n",
    "       xxxx          name              4.376e-01 (43.8%)\n",
    "       xxxx          name              7.655e-02 ( 7.7%)\n",
    "       xxxx          name              2.241e-02 ( 2.2%)\n",
    "       xxxx          name              1.586e-02 ( 1.6%)\n",
    "       xxxx          name              4.435e-01 (44.3%)\n",
    "       xxxx          name              4.142e-03 ( 0.4%)"
   ]
  },
  {
   "cell_type": "code",
   "execution_count": 13,
   "metadata": {},
   "outputs": [
    {
     "name": "stdout",
     "output_type": "stream",
     "text": [
      "\n",
      "\n",
      "**********************************************************\n",
      "               Newton's Method Iterations                 \n",
      "**********************************************************\n",
      "k | |K(e_k)|  | |K'(e_k)| | |del e_k| |   |e_k|   | convg|\n",
      "----------------------------------------------------------\n",
      " 1  +1.127e+02  +6.952e+03  +4.937e-02  +2.726e-01 0.00\n",
      " 2  +1.077e+02  +7.311e+03  +4.642e-02  +3.144e-01 1.02\n",
      " 3  +9.353e+01  +8.485e+03  +3.699e-02  +3.486e-01 1.07\n",
      " 4  +5.886e+01  +1.032e+04  +2.341e-02  +3.705e-01 1.14\n",
      " 5  +1.418e+01  +1.204e+04  +9.874e-03  +3.798e-01 1.23\n",
      " 6  +4.558e-01  +1.320e+04  +1.751e-03  +3.814e-01 1.37\n",
      " 7  +3.971e-04  +1.350e+04  +5.200e-05  +3.815e-01 1.55\n",
      " 8  +1.317e-08  +1.351e+04  +4.492e-08  +3.815e-01 1.72\n"
     ]
    }
   ],
   "source": [
    "'''1.4) Equilibrium calculation'''\n"
   ]
  },
  {
   "cell_type": "code",
   "execution_count": 15,
   "metadata": {},
   "outputs": [
    {
     "data": {
      "image/png": "[encoded data removed]",
      "text/plain": [
       "<Figure size 576x1080 with 1 Axes>"
      ]
     },
     "metadata": {
      "needs_background": "light"
     },
     "output_type": "display_data"
    },
    {
     "name": "stdout",
     "output_type": "stream",
     "text": [
      "\n"
     ]
    },
    {
     "data": {
      "image/png": "[encoded data removed]",
      "text/plain": [
       "<Figure size 576x1080 with 1 Axes>"
      ]
     },
     "metadata": {
      "needs_background": "light"
     },
     "output_type": "display_data"
    },
    {
     "name": "stdout",
     "output_type": "stream",
     "text": [
      "\n"
     ]
    },
    {
     "data": {
      "image/png": "[encoded data removed]",
      "text/plain": [
       "<Figure size 576x1080 with 1 Axes>"
      ]
     },
     "metadata": {
      "needs_background": "light"
     },
     "output_type": "display_data"
    },
    {
     "name": "stdout",
     "output_type": "stream",
     "text": [
      "\n"
     ]
    }
   ],
   "source": [
    "'''1.4) Plot equilibrium vector function and roots'''\n"
   ]
  },
  {
   "cell_type": "markdown",
   "metadata": {},
   "source": [
    "### <span style=\"color:blue\">[1.5)](#toa) Provide a summary of key computational steps needed to solve the problem.</span><a id=\"a15\"></a>"
   ]
  },
  {
   "cell_type": "markdown",
   "metadata": {},
   "source": [
    "#### Key algorithm steps:"
   ]
  },
  {
   "cell_type": "markdown",
   "metadata": {},
   "source": [
    "### <span style=\"color:blue\">[1.6)](#toa) Compute the matrix obtained from the partial derivative </span>\n",
    "    \n",
    "\\begin{equation*}\n",
    "\\partial_{\\widehat{\\epsvec}}\\xvec\n",
    "\\end{equation*}\n",
    "\n",
    "### <span style=\"color:blue\"> and compare to $\\Smtrx^\\top$. Explain the result.</span><a id=\"a16\"></a>"
   ]
  },
  {
   "cell_type": "code",
   "execution_count": null,
   "metadata": {},
   "outputs": [],
   "source": [
    "'''1.6) Compute molar fraction partial derivative with respect to normalized extent of reaction'''"
   ]
  },
  {
   "cell_type": "markdown",
   "metadata": {},
   "source": [
    "<span style=\"color:blue\">**Explanation:**</span>"
   ]
  },
  {
   "cell_type": "markdown",
   "metadata": {},
   "source": [
    "## <span style=\"color:blue\">[Assignment 2 (50 pts)](#toa)</span><a id=\"a2\"></a>"
   ]
  },
  {
   "cell_type": "markdown",
   "metadata": {},
   "source": [
    "### <span style=\"color:blue\"> Irreversible first-order endothermic/exothermic reactions</span>\n",
    "\n",
    "<span style=\"color:blue\">\n",
    "\\begin{equation*}\n",
    "\\text{A} \\overset{k_1}{\\longrightarrow} 2\\,\\text{B}, \\\\\n",
    "0.3 \\,\\text{B} \\overset{k_2}{\\longrightarrow} \\text{A} \n",
    "\\end{equation*}\n",
    "</span>\n",
    "\n",
    "### <span style=\"color:blue\"> are performed in a continuous-stirred-tank reactor (CSTR; sketch below). A feed stream containing reactant A enters the constant volume CSTR at a mass flow rate $w$, temperature $T_\\text{in}$ and molar concentration $c_\\text{Ain}$. The product stream leaves the reactor at a mass flow rate $w$, temperature $T$, and molar concentration $c_\\text{A}$ for the reactant and $c_\\text{B}$ for the product. The heating power addition rate to the CSTR is $\\dot{Q}$, the experimental reaction rates density for the reactions are\n",
    "</span>\n",
    "\n",
    "<span style=\"color:blue\">\n",
    "\\begin{align*}\n",
    "r_1 &= k_1\\,c^\\alpha_\\text{A}  , \\\\\n",
    "r_2 &= k_2 \\,c^\\beta_\\text{B}   \n",
    "\\end{align*}\n",
    "</span>\n",
    "\n",
    "### <span style=\"color:blue\"> where the rate constants are equal to the Arrhenius equations: $k_i = k_{0_i}\\,\\exp(\\frac{-E}{R\\,T})$. Additional parameters for the system are listed below.\n",
    "</span>\n",
    " \n",
    " ![](images/cstr.png)\n",
    "<a id=\"a2\"></a>"
   ]
  },
  {
   "cell_type": "markdown",
   "metadata": {},
   "source": [
    "## <span style=\"color:blue\"> Input Data</span><a id=\"data\"></a>\n",
    "\n",
    "|Name                      | Parameter          | Value                | Unit              |\n",
    "|:-------------------------|:------------------:|:--------------------:|:-----------------:| \n",
    "|mass flow rate            | $w$                | 10                   | kg/s              | \n",
    "|inflow concentration of A | $c_\\text{Ain}$     | 1.2                  | kgmol/$\\text{m}^3$| \n",
    "|inflow concentration of B | $c_\\text{Bin}$     | 0.0                  | kgmol/$\\text{m}^3$| \n",
    "|inflow temperature        | $T_\\text{in}$      | 425                  | K                 | \n",
    "|holdup volume             | $V$                | 0.2                  | $\\text{m}^3$      | \n",
    "|mass density              | $\\rho$             | 1000                 | kg/$\\text{m}^3$   |\n",
    "|heat capacity             | $C$                | 4184                 | J/(kg K)          |\n",
    "|heat of reaction          | $\\Delta H_{\\text{R}_1}$| $6.69 \\times 10^8$   | J/kgmol           |\n",
    "|heat of reaction          | $\\Delta H_{\\text{R}_2}$| $-6.69 \\times 10^7$   | J/kgmol           |\n",
    "|Arrhenius frequency       | $k_{0_1}$          | $1.97\\times 10^{24}$ | $\\text{s}^{-1}$   |\n",
    "|Arrhenius frequency       | $k_{0_2}$          | $1.97\\times 10^{23}$ | $\\text{s}^{-1}$   |\n",
    "|activation temperature    | $E/R$              | 20000                | K                 |\n",
    "|reaction order            | $\\alpha$           | 1.13                 |                   |\n",
    "|reverse reaction order    | $\\beta$            | 0.28                 |                   |\n",
    "|S.S. reactor temperature  | $T_\\text{ss}$      | 350                  | K                 |"
   ]
  },
  {
   "cell_type": "code",
   "execution_count": 17,
   "metadata": {},
   "outputs": [],
   "source": [
    "'''Parameters'''\n",
    "\n",
    "w_flow          =   10.0      # kg/s\n",
    "c_a_in          =   1.2       # kgmol/m^3\n",
    "c_b_in          =   0.0       # kgmol/m^3\n",
    "temp_in         =   425.0     # K\n",
    "volume          =   0.2       # m^3\n",
    "rho             =   1000.0    # kg/m^3\n",
    "heat_capacity   =   4184.0    # J/kg/K\n",
    "enthalpy_rxn_1  =   6.69e8    # J/kgmol\n",
    "enthalpy_rxn_2  =  -6.69e7    # J/kgmol\n",
    "k_0_1           =   1.97e24   # 1/s\n",
    "k_0_2           =   1.97e23   # 1/s\n",
    "energy_a_over_r =   20000.0   # K\n",
    "alpha           =   1.13      #\n",
    "beta            =   0.28      #\n",
    "temp_ss         =   350.0     # K"
   ]
  },
  {
   "cell_type": "code",
   "execution_count": 18,
   "metadata": {},
   "outputs": [],
   "source": [
    "'''Parameters dictionary'''\n",
    "\n",
    "params = dict()\n",
    "\n",
    "params['w_flow']          =   w_flow\n",
    "params['c_a_in']          =   c_a_in\n",
    "params['c_b_in']          =   c_b_in\n",
    "params['temp_in']         =   temp_in\n",
    "params['volume']          =   volume\n",
    "params['rho']             =   rho\n",
    "params['heat_capacity']   =   heat_capacity\n",
    "params['enthalpy_rxn_1']  =   enthalpy_rxn_1\n",
    "params['enthalpy_rxn_2']  =   enthalpy_rxn_2\n",
    "params['k_0_1']           =   k_0_1\n",
    "params['k_0_2']           =   k_0_2\n",
    "params['energy_a_over_r'] =   energy_a_over_r\n",
    "params['alpha']           =   alpha\n",
    "params['beta']            =   beta\n",
    "params['temp_ss']         =   temp_ss\n",
    "\n",
    "q_flow = w_flow/rho\n",
    "params['q_flow'] = q_flow\n",
    "params['tau'] = volume/q_flow"
   ]
  },
  {
   "cell_type": "markdown",
   "metadata": {},
   "source": [
    "### <span style=\"color:blue\">[2.1)](#toa) Derive a dynamic model for the CSTR to determine the concentrations of reactant A and product B, and the CSTR temperature as a function of time.</span><a id=\"a21\"></a>\n",
    "</span>  "
   ]
  },
  {
   "cell_type": "markdown",
   "metadata": {},
   "source": [
    "### Species Mole Balance<a id=\"smb\"></a>"
   ]
  },
  {
   "cell_type": "markdown",
   "metadata": {},
   "source": [
    "### Energy balance<a id=\"eb\"></a>\n"
   ]
  },
  {
   "cell_type": "code",
   "execution_count": 19,
   "metadata": {
    "code_folding": []
   },
   "outputs": [
    {
     "name": "stdout",
     "output_type": "stream",
     "text": [
      "stoic_mtrx m x n = (2, 2)\n",
      "stoic_mtrx rank = 2\n"
     ]
    }
   ],
   "source": [
    "'''Stoichiometry'''\n"
   ]
  },
  {
   "cell_type": "markdown",
   "metadata": {},
   "source": [
    "### <span style=\"color:blue\">[2.2)](#toa) Determine the steady-state effluent concentrations for reactant A and product B (use your own algorithms).</span><a id=\"a22\"></a>"
   ]
  },
  {
   "cell_type": "code",
   "execution_count": 27,
   "metadata": {},
   "outputs": [
    {
     "name": "stdout",
     "output_type": "stream",
     "text": [
      "\n",
      "c_a_ss = 0.32743 kgmol/m^3\n",
      "c_b_ss = 3.15375 kgmol/m^3\n"
     ]
    }
   ],
   "source": [
    "'''2.2) Steady state concentration'''\n"
   ]
  },
  {
   "cell_type": "markdown",
   "metadata": {},
   "source": [
    "### <span style=\"color:blue\">[2.3)](#toa) Calculate the required external heating rate in MW for the above conditions. Calculate the chemical heating rate in MW and compare to the external heating rate; explain the difference.</span><a id=\"a23\"></a>"
   ]
  },
  {
   "cell_type": "code",
   "execution_count": 28,
   "metadata": {},
   "outputs": [
    {
     "name": "stdout",
     "output_type": "stream",
     "text": [
      "Q(S.S.) = 7.68847 [MW]\n"
     ]
    }
   ],
   "source": [
    "'''2.3) Steady-state heating power'''\n"
   ]
  },
  {
   "cell_type": "code",
   "execution_count": 29,
   "metadata": {},
   "outputs": [
    {
     "name": "stdout",
     "output_type": "stream",
     "text": [
      "Chemical heating rate = -10.82647 [MW]\n"
     ]
    }
   ],
   "source": [
    "'''2.3) Steady state chemical heating rate'''\n"
   ]
  },
  {
   "cell_type": "markdown",
   "metadata": {},
   "source": [
    "<span style=\"color:blue\">**Explanation:**</span>"
   ]
  },
  {
   "cell_type": "markdown",
   "metadata": {},
   "source": [
    "### <span style=\"color:blue\">[2.4)](#toa) If the cost of 1 kWh of electricity in Massachusetts is 22.57 cents, calculate the cost of running the reactor (if heated by electricity) for 1 hour. Is 1 hour a reasonable time to run the reactor?</span><a id=\"a24\"></a>"
   ]
  },
  {
   "cell_type": "code",
   "execution_count": 30,
   "metadata": {},
   "outputs": [
    {
     "name": "stdout",
     "output_type": "stream",
     "text": [
      "Electricity cost to run reactor for 1 hour = $1735.29\n"
     ]
    }
   ],
   "source": [
    "'''2.4) Cost of running the reactor for 1 hour'''\n"
   ]
  },
  {
   "cell_type": "markdown",
   "metadata": {},
   "source": [
    "<span style=\"color:blue\">**Explanation:**</span>"
   ]
  },
  {
   "cell_type": "markdown",
   "metadata": {},
   "source": [
    "### <span style=\"color:blue\">[2.5)](#toa) Using the above steady state condition as an initial condition of the reactor, and keeping the same external heating power, compute the history of the state of the reactor when a change in the inflow stream is made as follows: $c_A = 1.0$ kgmol/cc (lower concentration) $T_\\text{in} = 455$ K (higher temperature). Provide a tabular result and a plot as below up to a time when a new steady state has been reached. Explain the transient behavior of the system. What is the probable engineering intention of the new inflow condition?</span><a id=\"a25\"></a>"
   ]
  },
  {
   "cell_type": "code",
   "execution_count": 32,
   "metadata": {},
   "outputs": [
    {
     "name": "stdout",
     "output_type": "stream",
     "text": [
      "       Time [s]    c_A [kgmol/m^3]  c_B [kgmol/m^3]     T [K]\n",
      "      0.000e+00       3.274e-01       3.154e+00       3.500e+02\n",
      "      5.025e+00       2.852e-01       3.213e+00       3.516e+02\n",
      "      1.005e+01       2.723e-01       3.268e+00       3.520e+02\n",
      "      1.508e+01       2.695e-01       3.312e+00       3.521e+02\n",
      "      2.010e+01       2.692e-01       3.346e+00       3.521e+02\n",
      "      2.513e+01       2.695e-01       3.373e+00       3.521e+02\n",
      "      3.015e+01       2.698e-01       3.394e+00       3.521e+02\n",
      "      3.518e+01       2.701e-01       3.411e+00       3.521e+02\n",
      "      4.020e+01       2.704e-01       3.424e+00       3.521e+02\n",
      "      4.523e+01       2.706e-01       3.433e+00       3.520e+02\n",
      "      5.025e+01       2.707e-01       3.441e+00       3.520e+02\n",
      "      5.528e+01       2.708e-01       3.447e+00       3.520e+02\n",
      "      6.030e+01       2.709e-01       3.452e+00       3.520e+02\n",
      "      6.533e+01       2.710e-01       3.455e+00       3.520e+02\n",
      "      7.035e+01       2.711e-01       3.458e+00       3.520e+02\n",
      "      7.538e+01       2.711e-01       3.461e+00       3.520e+02\n",
      "      8.040e+01       2.711e-01       3.462e+00       3.520e+02\n",
      "      8.543e+01       2.712e-01       3.464e+00       3.520e+02\n",
      "      9.045e+01       2.712e-01       3.465e+00       3.520e+02\n",
      "      9.548e+01       2.712e-01       3.465e+00       3.520e+02\n",
      "      1.005e+02       2.712e-01       3.466e+00       3.520e+02\n",
      "      1.055e+02       2.712e-01       3.467e+00       3.520e+02\n",
      "      1.106e+02       2.712e-01       3.467e+00       3.520e+02\n",
      "      1.156e+02       2.712e-01       3.467e+00       3.520e+02\n",
      "      1.206e+02       2.712e-01       3.467e+00       3.520e+02\n",
      "      1.256e+02       2.712e-01       3.468e+00       3.520e+02\n",
      "      1.307e+02       2.712e-01       3.468e+00       3.520e+02\n",
      "      1.357e+02       2.712e-01       3.468e+00       3.520e+02\n",
      "      1.407e+02       2.712e-01       3.468e+00       3.520e+02\n",
      "      1.457e+02       2.712e-01       3.468e+00       3.520e+02\n",
      "      1.508e+02       2.712e-01       3.468e+00       3.520e+02\n",
      "      1.558e+02       2.712e-01       3.468e+00       3.520e+02\n",
      "      1.608e+02       2.712e-01       3.468e+00       3.520e+02\n",
      "      1.658e+02       2.712e-01       3.468e+00       3.520e+02\n",
      "      1.709e+02       2.712e-01       3.468e+00       3.520e+02\n",
      "      1.759e+02       2.712e-01       3.468e+00       3.520e+02\n",
      "      1.809e+02       2.712e-01       3.468e+00       3.520e+02\n",
      "      1.859e+02       2.712e-01       3.468e+00       3.520e+02\n",
      "      1.910e+02       2.712e-01       3.468e+00       3.520e+02\n",
      "      1.960e+02       2.712e-01       3.468e+00       3.520e+02\n"
     ]
    }
   ],
   "source": [
    "'''2.5) Transient CSTR behavior'''\n"
   ]
  },
  {
   "cell_type": "code",
   "execution_count": 33,
   "metadata": {},
   "outputs": [
    {
     "data": {
      "image/png": "[encoded data removed]",
      "text/plain": [
       "<Figure size 720x360 with 3 Axes>"
      ]
     },
     "metadata": {
      "needs_background": "light"
     },
     "output_type": "display_data"
    },
    {
     "name": "stdout",
     "output_type": "stream",
     "text": [
      "\n"
     ]
    }
   ],
   "source": [
    "'''1.3 Transient plots'''\n"
   ]
  },
  {
   "cell_type": "markdown",
   "metadata": {},
   "source": [
    "<span style=\"color:blue\">**Explanation:**</span>"
   ]
  },
  {
   "cell_type": "markdown",
   "metadata": {},
   "source": [
    "### <span style=\"color:blue\">[2.6)](#toa) Make a tabular comparison of the two steady states previously computed and analyze the results.</span><a id=\"a26\"></a>"
   ]
  },
  {
   "cell_type": "markdown",
   "metadata": {},
   "source": [
    "#### **Steady-state results analysis:**\n"
   ]
  },
  {
   "cell_type": "markdown",
   "metadata": {},
   "source": [
    "## <span style=\"color:blue\">[Assignment 3 (5 pts)](#toa)</span><a id=\"a5\"></a>"
   ]
  },
  {
   "cell_type": "markdown",
   "metadata": {},
   "source": [
    "### <span style=\"color:blue\">Describe the most unclear point in the content presented so far. Then, make an effort to clarify the point on your own.</span>"
   ]
  },
  {
   "cell_type": "code",
   "execution_count": null,
   "metadata": {},
   "outputs": [],
   "source": []
  }
 ],
 "metadata": {
  "kernelspec": {
   "display_name": "Python 3",
   "language": "python",
   "name": "python3"
  },
  "language_info": {
   "codemirror_mode": {
    "name": "ipython",
    "version": 3
   },
   "file_extension": ".py",
   "mimetype": "text/x-python",
   "name": "python",
   "nbconvert_exporter": "python",
   "pygments_lexer": "ipython3",
   "version": "3.9.2"
  },
  "latex_envs": {
   "LaTeX_envs_menu_present": true,
   "autoclose": false,
   "autocomplete": true,
   "bibliofile": "biblio.bib",
   "cite_by": "apalike",
   "current_citInitial": 1,
   "eqLabelWithNumbers": true,
   "eqNumInitial": 1,
   "hotkeys": {
    "equation": "Ctrl-E",
    "itemize": "Ctrl-I"
   },
   "labels_anchors": false,
   "latex_user_defs": false,
   "report_style_numbering": false,
   "user_envs_cfg": false
  }
 },
 "nbformat": 4,
 "nbformat_minor": 2
}
