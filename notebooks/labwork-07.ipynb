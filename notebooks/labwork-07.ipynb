{
 "cells": [
  {
   "cell_type": "markdown",
   "metadata": {},
   "source": [
    "ChEn-3170: Computational Methods in Chemical Engineering Fall 2021 UMass Lowell; Prof. V. F. de Almeida **02Dec21**\n",
    "\n",
    "# Laboratory Work 07 (03Dec21)\n",
    "$\n",
    "  \\newcommand{\\Amtrx}{\\boldsymbol{\\mathsf{A}}}\n",
    "  \\newcommand{\\Bmtrx}{\\boldsymbol{\\mathsf{B}}}\n",
    "  \\newcommand{\\Cmtrx}{\\boldsymbol{\\mathsf{C}}}\n",
    "  \\newcommand{\\Mmtrx}{\\boldsymbol{\\mathsf{M}}}\n",
    "  \\newcommand{\\Smtrx}{\\boldsymbol{\\mathsf{S}}}\n",
    "  \\newcommand{\\Imtrx}{\\boldsymbol{\\mathsf{I}}}\n",
    "  \\newcommand{\\Pmtrx}{\\boldsymbol{\\mathsf{P}}}\n",
    "  \\newcommand{\\Qmtrx}{\\boldsymbol{\\mathsf{Q}}}\n",
    "  \\newcommand{\\Lmtrx}{\\boldsymbol{\\mathsf{L}}}\n",
    "  \\newcommand{\\Umtrx}{\\boldsymbol{\\mathsf{U}}}\n",
    "  \\newcommand{\\xvec}{\\boldsymbol{\\mathsf{x}}}\n",
    "  \\newcommand{\\yvec}{\\boldsymbol{\\mathsf{y}}}\n",
    "  \\newcommand{\\zvec}{\\boldsymbol{\\mathsf{z}}}\n",
    "  \\newcommand{\\avec}{\\boldsymbol{\\mathsf{a}}}\n",
    "  \\newcommand{\\bvec}{\\boldsymbol{\\mathsf{b}}}\n",
    "  \\newcommand{\\cvec}{\\boldsymbol{\\mathsf{c}}}\n",
    "  \\newcommand{\\rvec}{\\boldsymbol{\\mathsf{r}}}\n",
    "  \\newcommand{\\gvec}{\\boldsymbol{\\mathsf{g}}}\n",
    "  \\newcommand{\\norm}[1]{\\bigl\\lVert{#1}\\bigr\\rVert}\n",
    "  \\DeclareMathOperator{\\rank}{rank}\n",
    "  \\DeclareMathOperator{\\abs}{abs}\n",
    "$"
   ]
  },
  {
   "cell_type": "markdown",
   "metadata": {},
   "source": [
    "### Name: `your name`"
   ]
  },
  {
   "cell_type": "markdown",
   "metadata": {
    "cell_style": "split"
   },
   "source": [
    "### Rubric for each assignment: \n",
    "\n",
    "|      Context       |  Points |\n",
    "|:----------------------------|:-------:|\n",
    "| Precision of the answer     |  80%    |\n",
    "| Answer Markdown readability |  10%    |\n",
    "| Code readability            |  10%    |\n",
    "    "
   ]
  },
  {
   "cell_type": "markdown",
   "metadata": {
    "cell_style": "split"
   },
   "source": [
    "### <span style=\"color:red\">Guidance:</span>\n",
    "\n",
    "+  <span style=\"color:red\"> \n",
    "    Save your work frequently to a file locally to your computer.\n",
    "   </span>\n",
    "+  <span style=\"color:red\">\n",
    "    During your work and before submitting the final version do:</span> Kernel -> Restart & Run All<span style=\"color:red\">, to verify your notebook runs correctly.\n",
    "   </span>\n",
    "+  <span style=\"color:red\">\n",
    "    Save your file again.\n",
    "   </span>\n",
    "+  <span style=\"color:red\">\n",
    "    Upload the notebook file in the Blackboard submission portal as: \n",
    "   </span> \n",
    "   \n",
    "   **lastname-firstname-labwork-xx.ipynb**"
   ]
  },
  {
   "cell_type": "markdown",
   "metadata": {},
   "source": [
    "---\n",
    "### Table of Assignments<a id=\"toa\"></a>\n",
    "* [Assignment 1 (45 pts)](#a1) Reactor data fitting\n",
    " - [1.1)](#a11)(5 pts) Plot data.\n",
    " - [1.2)](#a12)(10 pts) Fit data.\n",
    " - [1.3)](#a13)(10 pts) Analyze fit.\n",
    " - [1.4)](#a14)(10 pts) Maximum growth rate\n",
    " - [1.5)](#a15)(10 pts) Maximum rate of growth rate.\n",
    "* [Assignment 2 (50 pts)](#a2) CSTR.\n",
    " - [2.1)](#a21)(5 pts) Governing equations.\n",
    " - [2.2)](#a22)(10 pts) Steady state.\n",
    " - [2.3)](#a23)(10 pts) Heating rates.\n",
    " - [2.4)](#a24)(10 pts) Heating cost.\n",
    " - [2.5)](#a25)(10 pts) Transient and new steady state.\n",
    " - [2.6)](#a26)(5 pts) Comparison of SS and analysis.\n",
    "* [Assignment 3 (5 pts)](#a3) Unclear points.\n",
    "---"
   ]
  },
  {
   "cell_type": "markdown",
   "metadata": {},
   "source": [
    "## <span style=\"color:blue\">[Assignment 1 (45 pts)](#toa)</span><a id=\"a1\"></a>"
   ]
  },
  {
   "cell_type": "markdown",
   "metadata": {},
   "source": [
    "### <span style=\"color:blue\"> The variation of the product-to-reactant concentration ratio with time in a CSTR is given below. The data fits a sigmoid curve of the type: \n",
    "</span>\n",
    "\n",
    "\\begin{equation*}\n",
    "\\boxed{ f(t) = \\frac{\\alpha_0}{1 + \\alpha_1\\, e^{\\alpha_2\\,t} } }.\n",
    "\\end{equation*}\n",
    "\n",
    "### <span style=\"color:blue\"> for parameters $\\alpha_1,\\alpha_2$, and $\\alpha_3$. Please see assignments below.\n",
    "</span>"
   ]
  },
  {
   "cell_type": "code",
   "execution_count": null,
   "metadata": {},
   "outputs": [],
   "source": [
    "time_stamps = [0.000e+00, 5.025e+00, 1.005e+01, 1.508e+01, 2.010e+01, 2.513e+01, 3.015e+01, 3.518e+01, \n",
    "               4.020e+01, 4.523e+01, 5.025e+01, 5.528e+01, 6.030e+01, 6.533e+01, 7.035e+01, 7.538e+01, \n",
    "               8.040e+01, 8.543e+01, 9.045e+01, 9.548e+01, 1.005e+02, 1.055e+02, 1.106e+02, 1.156e+02, \n",
    "               1.206e+02, 1.256e+02, 1.307e+02, 1.357e+02, 1.407e+02, 1.457e+02, 1.508e+02, 1.558e+02, \n",
    "               1.608e+02, 1.658e+02, 1.709e+02, 1.759e+02, 1.809e+02, 1.859e+02, 1.910e+02, 1.960e+02]"
   ]
  },
  {
   "cell_type": "code",
   "execution_count": null,
   "metadata": {},
   "outputs": [],
   "source": [
    "prod_ratio = [12.008,  17.178,  24.859,  35.78 ,  50.625,  69.473,  91.577, 115.7, 140.138, 163.718, \n",
    "                 185.346, 204.464, 220.837, 234.727, 246.237, 255.575, 263.074, 269.127, 273.916, \n",
    "                 277.716, 280.632, 283.07 , 284.936, 286.311, 287.471, 288.347, 289.06 , 289.608,\n",
    "                 290.073, 290.37 , 290.667, 290.837, 290.861, 290.989, 291.074,\n",
    "                 291.16 , 291.202, 291.245, 291.288, 291.33 ]"
   ]
  },
  {
   "cell_type": "markdown",
   "metadata": {},
   "source": [
    "### <span style=\"color:blue\">[1.1)](#toa)(5 pts) Plot the data as below.</span><a id=\"a11\"></a>"
   ]
  },
  {
   "cell_type": "code",
   "execution_count": 3,
   "metadata": {
    "ExecuteTime": {
     "end_time": "2021-12-05T21:59:14.535780Z",
     "start_time": "2021-12-05T21:59:13.870375Z"
    }
   },
   "outputs": [
    {
     "data": {
      "image/png": "[encoded data removed]",
      "text/plain": [
       "<Figure size 1080x360 with 1 Axes>"
      ]
     },
     "metadata": {
      "needs_background": "light"
     },
     "output_type": "display_data"
    }
   ],
   "source": [
    "'''Plot data'''\n"
   ]
  },
  {
   "cell_type": "markdown",
   "metadata": {},
   "source": [
    "### <span style=\"color:blue\">[1.2)](#toa)(10 pts) Compute optimal coefficients, $\\alpha_1,\\alpha_2$, and $\\alpha_3$ that fit the data, and explain mathematically why they are optimal.</span><a id=\"a12\"></a>"
   ]
  },
  {
   "cell_type": "code",
   "execution_count": 4,
   "metadata": {
    "ExecuteTime": {
     "end_time": "2021-12-05T21:59:14.552291Z",
     "start_time": "2021-12-05T21:59:14.537835Z"
    }
   },
   "outputs": [
    {
     "name": "stdout",
     "output_type": "stream",
     "text": [
      "\n",
      "\n",
      "**************************************************************************\n",
      "                      Newton's Method Iterations                          \n",
      "**************************************************************************\n",
      "k  ||r(p_k)||  ||J(p_k)||  ||J^T r(p_k)||  ||del p_k||   ||p_k||  |convg| \n",
      "--------------------------------------------------------------------------\n",
      "Step_size =  0.25  n_steps =  2  n_steps_max =  10\n",
      " 1  +3.92e+02   +1.98e+03       +5.39e+05    +6.70e+01 +2.84e+02     0.18\n",
      "Step_size =  0.5  n_steps =  1  n_steps_max =  10\n",
      " 2  +1.41e+02   +2.63e+03       +3.07e+05    +1.37e+01 +2.78e+02     0.62\n",
      " 3  +6.95e+01   +8.57e+03       +4.86e+05    +1.31e+01 +2.90e+02     0.98\n",
      " 4  +2.62e+01   +8.90e+03       +1.39e+05    +4.66e+00 +2.90e+02     0.60\n",
      " 5  +1.96e+01   +9.16e+03       +1.06e+04    +1.69e+00 +2.90e+02     0.34\n",
      " 6  +1.96e+01   +9.31e+03       +2.24e+01    +4.11e-02 +2.90e+02    -6.08\n",
      " 7  +1.96e+01   +9.34e+03       +4.36e-01    +1.59e-02 +2.90e+02     1.30\n",
      " 8  +1.96e+01   +9.34e+03       +3.79e-04    +7.26e-04 +2.90e+02     1.75\n",
      "******************************************************\n",
      "Root =  [ 2.89193423e+02  1.62978137e+01 -6.60676746e-02]\n",
      "R2   =  0.9989177233948592\n"
     ]
    }
   ],
   "source": [
    "'''Fit data to sigmoid function'''\n"
   ]
  },
  {
   "cell_type": "markdown",
   "metadata": {},
   "source": [
    "<span style=\"color:blue\">**Explanation:**</span>"
   ]
  },
  {
   "cell_type": "markdown",
   "metadata": {},
   "source": [
    "### <span style=\"color:blue\">[1.3)](#toa)(10 pts) Plot the fit as below and analyze errors. Is this a good fit? Explain.</span><a id=\"a13\"></a>"
   ]
  },
  {
   "cell_type": "code",
   "execution_count": 5,
   "metadata": {
    "ExecuteTime": {
     "end_time": "2021-12-05T21:59:15.368577Z",
     "start_time": "2021-12-05T21:59:14.556503Z"
    }
   },
   "outputs": [
    {
     "data": {
      "image/png": "[encoded data removed]",
      "text/plain": [
       "<Figure size 1080x360 with 1 Axes>"
      ]
     },
     "metadata": {
      "needs_background": "light"
     },
     "output_type": "display_data"
    }
   ],
   "source": [
    "'''Plot the fit'''\n"
   ]
  },
  {
   "cell_type": "markdown",
   "metadata": {},
   "source": [
    "<span style=\"color:blue\">**Explanation:**</span>"
   ]
  },
  {
   "cell_type": "markdown",
   "metadata": {},
   "source": [
    "### <span style=\"color:blue\">[1.4)](#toa)(10 pts) Compute the maximum growth rate and the time it occurs.</span><a id=\"a14\"></a>"
   ]
  },
  {
   "cell_type": "code",
   "execution_count": 8,
   "metadata": {
    "ExecuteTime": {
     "end_time": "2021-12-05T21:59:15.388363Z",
     "start_time": "2021-12-05T21:59:15.383863Z"
    }
   },
   "outputs": [
    {
     "name": "stdout",
     "output_type": "stream",
     "text": [
      "Time at maximum growth rate                = 42.25 [s] \n",
      "Maximum product/reactant ratio growth rate = 4.78e+00 [1/s]\n"
     ]
    }
   ],
   "source": [
    "'''Calculate the time for maximum growth rate and the maximum growth rate'''\n"
   ]
  },
  {
   "cell_type": "markdown",
   "metadata": {},
   "source": [
    "### <span style=\"color:blue\">[1.5)](#toa)(10 pts) Compute the time when the maximum rate of growth rate occurs.</span><a id=\"a15\"></a>"
   ]
  },
  {
   "cell_type": "code",
   "execution_count": 10,
   "metadata": {
    "ExecuteTime": {
     "end_time": "2021-12-05T21:59:15.399286Z",
     "start_time": "2021-12-05T21:59:15.396008Z"
    }
   },
   "outputs": [
    {
     "name": "stdout",
     "output_type": "stream",
     "text": [
      "Time at maximum rate of growth rate = 22.31 [s] \n"
     ]
    }
   ],
   "source": [
    "'''Calculate the time for maximum rate of the growth rate'''\n"
   ]
  },
  {
   "cell_type": "markdown",
   "metadata": {},
   "source": [
    "## <span style=\"color:blue\">[Assignment 2 (50 pts)](#toa)</span><a id=\"a2\"></a>"
   ]
  },
  {
   "cell_type": "markdown",
   "metadata": {},
   "source": [
    "### <span style=\"color:blue\"> Irreversible first-order endothermic reactions</span>\n",
    "\n",
    "<span style=\"color:blue\">\n",
    "\\begin{equation*}\n",
    "\\text{A} \\overset{k_1}{\\longrightarrow} 2\\,\\text{B}, \\\\\n",
    "0.3 \\,\\text{B} \\overset{k_2}{\\longrightarrow} \\text{A} \n",
    "\\end{equation*}\n",
    "</span>\n",
    "\n",
    "### <span style=\"color:blue\"> are performed in a continuous-stirred-tank reactor (CSTR; sketch below). A feed stream containing reactant A enters the constant volume CSTR at a mass flow rate $w$, temperature $T_\\text{in}$ and molar concentration $c_\\text{Ain}$. The product stream leaves the reactor at a mass flow rate $w$, temperature $T$, and molar concentration $c_\\text{A}$ for the reactant and $c_\\text{B}$ for the product. The heating power addition rate to the CSTR is $\\dot{Q}$, the experimental reaction rates density for the reactions are\n",
    "</span>\n",
    "\n",
    "<span style=\"color:blue\">\n",
    "\\begin{align*}\n",
    "r_1 &= k_1\\,c^\\alpha_\\text{A}  , \\\\\n",
    "r_2 &= k_2 \\,c^\\beta_\\text{B}   \n",
    "\\end{align*}\n",
    "</span>\n",
    "\n",
    "### <span style=\"color:blue\"> where the rate constants are equal to the Arrhenius equations: $k_i = k_{0_i}\\,\\exp(\\frac{-E}{R\\,T})$. Additional parameters for the system are listed below.\n",
    "</span>\n",
    " \n",
    " ![](images/cstr.png)\n",
    "<a id=\"a2\"></a>"
   ]
  },
  {
   "cell_type": "markdown",
   "metadata": {},
   "source": [
    "## <span style=\"color:blue\"> Input Data</span><a id=\"data\"></a>\n",
    "\n",
    "|Name                      | Parameter          | Value                | Unit              |\n",
    "|:-------------------------|:------------------:|:--------------------:|:-----------------:| \n",
    "|mass flow rate            | $w$                | 10                   | kg/s              | \n",
    "|inflow concentration of A | $c_\\text{Ain}$     | 1.2                  | kgmol/$\\text{m}^3$| \n",
    "|inflow concentration of B | $c_\\text{Bin}$     | 0.0                  | kgmol/$\\text{m}^3$| \n",
    "|inflow temperature        | $T_\\text{in}$      | 425                  | K                 | \n",
    "|holdup volume             | $V$                | 0.2                  | $\\text{m}^3$      | \n",
    "|mass density              | $\\rho$             | 1000                 | kg/$\\text{m}^3$   |\n",
    "|heat capacity             | $C$                | 4184                 | J/(kg K)          |\n",
    "|heat of reaction          | $\\Delta H_{\\text{R}_1}$| $6.69 \\times 10^8$   | J/kgmol           |\n",
    "|heat of reaction          | $\\Delta H_{\\text{R}_2}$| $-6.69 \\times 10^7$   | J/kgmol           |\n",
    "|Arrhenius frequency       | $k_{0_1}$          | $1.97\\times 10^{24}$ | $\\text{s}^{-1}$   |\n",
    "|Arrhenius frequency       | $k_{0_2}$          | $1.97\\times 10^{23}$ | $\\text{s}^{-1}$   |\n",
    "|activation temperature    | $E/R$              | 20000                | K                 |\n",
    "|reaction order            | $\\alpha$           | 1.13                 |                   |\n",
    "|reverse reaction order    | $\\beta$            | 0.28                 |                   |\n",
    "|S.S. reactor temperature  | $T_\\text{ss}$      | 350                  | K                 |"
   ]
  },
  {
   "cell_type": "code",
   "execution_count": 12,
   "metadata": {
    "ExecuteTime": {
     "end_time": "2021-12-05T21:59:15.410539Z",
     "start_time": "2021-12-05T21:59:15.406313Z"
    }
   },
   "outputs": [],
   "source": [
    "'''Parameters'''\n",
    "\n",
    "w_flow          =   10.0      # kg/s\n",
    "c_a_in          =   1.2       # kgmol/m^3\n",
    "c_b_in          =   0.0       # kgmol/m^3\n",
    "temp_in         =   425.0     # K\n",
    "volume          =   0.2       # m^3\n",
    "rho             =   1000.0    # kg/m^3\n",
    "heat_capacity   =   4184.0    # J/kg/K\n",
    "enthalpy_rxn_1  =   6.69e8    # J/kgmol\n",
    "enthalpy_rxn_2  =  -6.69e7    # J/kgmol\n",
    "k_0_1           =   1.97e24   # 1/s\n",
    "k_0_2           =   1.97e23   # 1/s\n",
    "energy_a_over_r =   20000.0   # K\n",
    "alpha           =   1.13      #\n",
    "beta            =   0.28      #\n",
    "temp_ss         =   350.0     # K"
   ]
  },
  {
   "cell_type": "code",
   "execution_count": 13,
   "metadata": {
    "ExecuteTime": {
     "end_time": "2021-12-05T21:59:15.422737Z",
     "start_time": "2021-12-05T21:59:15.411866Z"
    }
   },
   "outputs": [],
   "source": [
    "'''Parameters dictionary'''\n",
    "\n",
    "params = dict()\n",
    "\n",
    "params['w_flow']          =   w_flow\n",
    "params['c_a_in']          =   c_a_in\n",
    "params['c_b_in']          =   c_b_in\n",
    "params['temp_in']         =   temp_in\n",
    "params['volume']          =   volume\n",
    "params['rho']             =   rho\n",
    "params['heat_capacity']   =   heat_capacity\n",
    "params['enthalpy_rxn_1']  =   enthalpy_rxn_1\n",
    "params['enthalpy_rxn_2']  =   enthalpy_rxn_2\n",
    "params['k_0_1']           =   k_0_1\n",
    "params['k_0_2']           =   k_0_2\n",
    "params['energy_a_over_r'] =   energy_a_over_r\n",
    "params['alpha']           =   alpha\n",
    "params['beta']            =   beta\n",
    "params['temp_ss']         =   temp_ss\n",
    "\n",
    "q_flow = w_flow/rho\n",
    "params['q_flow'] = q_flow\n",
    "params['tau'] = volume/q_flow"
   ]
  },
  {
   "cell_type": "markdown",
   "metadata": {},
   "source": [
    "### <span style=\"color:blue\">[2.1)](#toa)(5 pts) Derive a dynamic model for the CSTR to determine the concentrations of reactant A and product B, and the CSTR temperature as a function of time.</span><a id=\"a21\"></a>"
   ]
  },
  {
   "cell_type": "markdown",
   "metadata": {},
   "source": [
    "### Species Mole Balance<a id=\"smb\"></a>"
   ]
  },
  {
   "cell_type": "markdown",
   "metadata": {},
   "source": [
    "### Energy balance<a id=\"eb\"></a>"
   ]
  },
  {
   "cell_type": "markdown",
   "metadata": {},
   "source": [
    "### <span style=\"color:blue\">[2.2)](#toa)(10 pts) Determine the steady-state effluent concentrations for reactant A and product B.</span><a id=\"a22\"></a>"
   ]
  },
  {
   "cell_type": "code",
   "execution_count": 21,
   "metadata": {
    "ExecuteTime": {
     "end_time": "2021-12-05T21:59:15.487686Z",
     "start_time": "2021-12-05T21:59:15.478385Z"
    }
   },
   "outputs": [
    {
     "name": "stdout",
     "output_type": "stream",
     "text": [
      "\n",
      "c_a_ss = 0.32743 kgmol/m^3\n",
      "c_b_ss = 3.15375 kgmol/m^3\n"
     ]
    }
   ],
   "source": [
    "'''Steady state concentration'''\n"
   ]
  },
  {
   "cell_type": "markdown",
   "metadata": {},
   "source": [
    "### <span style=\"color:blue\">[2.3)](#toa)(10 pts) Calculate the required external heating rate in MW for the above conditions. Calculate the chemical heating rate in MW and compare to the external heating rate; explain the difference.</span><a id=\"a23\"></a>"
   ]
  },
  {
   "cell_type": "code",
   "execution_count": 22,
   "metadata": {
    "ExecuteTime": {
     "end_time": "2021-12-05T21:59:15.494589Z",
     "start_time": "2021-12-05T21:59:15.489553Z"
    }
   },
   "outputs": [
    {
     "name": "stdout",
     "output_type": "stream",
     "text": [
      "Q(S.S.) = 7.68847 [MW]\n"
     ]
    }
   ],
   "source": [
    "'''Steady-state heating power'''\n"
   ]
  },
  {
   "cell_type": "code",
   "execution_count": 23,
   "metadata": {
    "ExecuteTime": {
     "end_time": "2021-12-05T21:59:15.500244Z",
     "start_time": "2021-12-05T21:59:15.496477Z"
    }
   },
   "outputs": [
    {
     "name": "stdout",
     "output_type": "stream",
     "text": [
      "Chemical heating rate = -10.82647 [MW]\n"
     ]
    }
   ],
   "source": [
    "'''Steady state chemical heating power'''\n"
   ]
  },
  {
   "cell_type": "markdown",
   "metadata": {},
   "source": [
    "<span style=\"color:blue\">**Explanation:**</span>"
   ]
  },
  {
   "cell_type": "markdown",
   "metadata": {},
   "source": [
    "### <span style=\"color:blue\">[2.4)](#toa)(10 pts) If the cost of 1 kWh of electricity in Massachusetts is 22.57 cents, calculate the cost of running the reactor (if heated by electricity) for 1 hour. Is 1 hour a reasonable time to run the reactor?</span><a id=\"a24\"></a>"
   ]
  },
  {
   "cell_type": "code",
   "execution_count": null,
   "metadata": {},
   "outputs": [],
   "source": [
    "'''Cost'''"
   ]
  },
  {
   "cell_type": "markdown",
   "metadata": {},
   "source": [
    "<span style=\"color:blue\">**Explanation:**</span>"
   ]
  },
  {
   "cell_type": "markdown",
   "metadata": {},
   "source": [
    "### <span style=\"color:blue\">[2.5)](#toa)(10 pts) Using the above steady state condition as an initial condition of the reactor, and keeping the same external heating power, compute the history of the state of the reactor when a change in the inflow stream is made as follows: $c_A = 1.0$ kgmol/cc (lower concentration) $T_\\text{in} = 455$ K (higher inflow temperature). Provide a tabular result and a plot as below up to a time when a new steady state has been reached. Explain the transient behavior of the system. What is the probable engineering intention of the new inflow condition?</span><a id=\"a25\"></a>"
   ]
  },
  {
   "cell_type": "code",
   "execution_count": 27,
   "metadata": {
    "ExecuteTime": {
     "end_time": "2021-12-05T21:59:15.628033Z",
     "start_time": "2021-12-05T21:59:15.523559Z"
    }
   },
   "outputs": [
    {
     "name": "stdout",
     "output_type": "stream",
     "text": [
      "       Time [s]    c_A [kgmol/m^3]  c_B [kgmol/m^3]     T [K]\n",
      "      0.000e+00       3.274e-01       3.154e+00       3.500e+02\n",
      "      3.015e+00       2.971e-01       3.189e+00       3.513e+02\n",
      "      6.030e+00       2.811e-01       3.225e+00       3.517e+02\n",
      "      9.045e+00       2.737e-01       3.258e+00       3.519e+02\n",
      "      1.206e+01       2.706e-01       3.286e+00       3.520e+02\n",
      "      1.508e+01       2.695e-01       3.312e+00       3.521e+02\n",
      "      1.809e+01       2.692e-01       3.333e+00       3.521e+02\n",
      "      2.111e+01       2.692e-01       3.352e+00       3.521e+02\n",
      "      2.412e+01       2.694e-01       3.368e+00       3.521e+02\n",
      "      2.714e+01       2.696e-01       3.382e+00       3.521e+02\n",
      "      3.015e+01       2.698e-01       3.394e+00       3.521e+02\n",
      "      3.317e+01       2.700e-01       3.405e+00       3.521e+02\n",
      "      3.618e+01       2.702e-01       3.414e+00       3.521e+02\n",
      "      3.920e+01       2.703e-01       3.421e+00       3.521e+02\n",
      "      4.221e+01       2.705e-01       3.428e+00       3.520e+02\n",
      "      4.523e+01       2.706e-01       3.433e+00       3.520e+02\n",
      "      4.824e+01       2.707e-01       3.438e+00       3.520e+02\n",
      "      5.126e+01       2.708e-01       3.443e+00       3.520e+02\n",
      "      5.427e+01       2.708e-01       3.446e+00       3.520e+02\n",
      "      5.729e+01       2.709e-01       3.449e+00       3.520e+02\n",
      "      6.030e+01       2.709e-01       3.452e+00       3.520e+02\n",
      "      6.332e+01       2.710e-01       3.454e+00       3.520e+02\n",
      "      6.633e+01       2.710e-01       3.456e+00       3.520e+02\n",
      "      6.935e+01       2.710e-01       3.458e+00       3.520e+02\n",
      "      7.236e+01       2.711e-01       3.459e+00       3.520e+02\n",
      "      7.538e+01       2.711e-01       3.461e+00       3.520e+02\n",
      "      7.839e+01       2.711e-01       3.462e+00       3.520e+02\n",
      "      8.141e+01       2.711e-01       3.463e+00       3.520e+02\n",
      "      8.442e+01       2.712e-01       3.463e+00       3.520e+02\n",
      "      8.744e+01       2.712e-01       3.464e+00       3.520e+02\n",
      "      9.045e+01       2.712e-01       3.465e+00       3.520e+02\n",
      "      9.347e+01       2.712e-01       3.465e+00       3.520e+02\n",
      "      9.648e+01       2.712e-01       3.466e+00       3.520e+02\n",
      "      9.950e+01       2.712e-01       3.466e+00       3.520e+02\n",
      "      1.025e+02       2.712e-01       3.466e+00       3.520e+02\n",
      "      1.055e+02       2.712e-01       3.467e+00       3.520e+02\n",
      "      1.085e+02       2.712e-01       3.467e+00       3.520e+02\n",
      "      1.116e+02       2.712e-01       3.467e+00       3.520e+02\n",
      "      1.146e+02       2.712e-01       3.467e+00       3.520e+02\n",
      "      1.176e+02       2.712e-01       3.467e+00       3.520e+02\n"
     ]
    }
   ],
   "source": [
    "'''Evolve the CSTR'''"
   ]
  },
  {
   "cell_type": "code",
   "execution_count": 28,
   "metadata": {
    "ExecuteTime": {
     "end_time": "2021-12-05T21:59:16.067539Z",
     "start_time": "2021-12-05T21:59:15.629833Z"
    }
   },
   "outputs": [
    {
     "data": {
      "image/png": "[encoded data removed]",
      "text/plain": [
       "<Figure size 864x432 with 3 Axes>"
      ]
     },
     "metadata": {
      "needs_background": "light"
     },
     "output_type": "display_data"
    },
    {
     "name": "stdout",
     "output_type": "stream",
     "text": [
      "\n"
     ]
    }
   ],
   "source": [
    "'''1.3 Plot Concentration versus Time'''\n"
   ]
  },
  {
   "cell_type": "markdown",
   "metadata": {},
   "source": [
    "<span style=\"color:blue\">**Explanation:**</span>"
   ]
  },
  {
   "cell_type": "markdown",
   "metadata": {},
   "source": [
    "### <span style=\"color:blue\">[2.6)](#toa)(5 pts) Make a tabular comparison of the two steady states previously computed and analyze the results.</span><a id=\"a26\"></a>"
   ]
  },
  {
   "cell_type": "markdown",
   "metadata": {},
   "source": [
    "#### **Steady-state results analysis:**"
   ]
  },
  {
   "cell_type": "markdown",
   "metadata": {},
   "source": [
    "## <span style=\"color:blue\">[Assignment 3 (5 pts)](#toa)</span><a id=\"a3\"></a>"
   ]
  },
  {
   "cell_type": "markdown",
   "metadata": {},
   "source": [
    "### <span style=\"color:blue\">Describe the most unclear point in the content presented so far. Then, make an effort to clarify the point on your own.</span>"
   ]
  },
  {
   "cell_type": "code",
   "execution_count": null,
   "metadata": {},
   "outputs": [],
   "source": []
  }
 ],
 "metadata": {
  "kernelspec": {
   "display_name": "Python 3",
   "language": "python",
   "name": "python3"
  },
  "language_info": {
   "codemirror_mode": {
    "name": "ipython",
    "version": 3
   },
   "file_extension": ".py",
   "mimetype": "text/x-python",
   "name": "python",
   "nbconvert_exporter": "python",
   "pygments_lexer": "ipython3",
   "version": "3.9.7"
  },
  "latex_envs": {
   "LaTeX_envs_menu_present": true,
   "autoclose": false,
   "autocomplete": true,
   "bibliofile": "biblio.bib",
   "cite_by": "apalike",
   "current_citInitial": 1,
   "eqLabelWithNumbers": true,
   "eqNumInitial": 1,
   "hotkeys": {
    "equation": "Ctrl-E",
    "itemize": "Ctrl-I"
   },
   "labels_anchors": false,
   "latex_user_defs": false,
   "report_style_numbering": false,
   "user_envs_cfg": false
  }
 },
 "nbformat": 4,
 "nbformat_minor": 2
}
