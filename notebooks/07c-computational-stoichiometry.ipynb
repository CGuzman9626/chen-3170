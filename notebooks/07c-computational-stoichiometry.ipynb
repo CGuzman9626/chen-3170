{
 "cells": [
  {
   "cell_type": "markdown",
   "metadata": {},
   "source": [
    "ChEn-3170: Computational Methods in Chemical Engineering Spring 2020 UMass Lowell; Prof. V. F. de Almeida **26Jan2020**\n",
    "\n",
    "# 07c. Computational Stoichiometry\n",
    "$  \n",
    "  \\newcommand{\\Amtrx}{\\boldsymbol{\\mathsf{A}}}\n",
    "  \\newcommand{\\Bmtrx}{\\boldsymbol{\\mathsf{B}}}\n",
    "  \\newcommand{\\Mmtrx}{\\boldsymbol{\\mathsf{M}}}\n",
    "  \\newcommand{\\Imtrx}{\\boldsymbol{\\mathsf{I}}}\n",
    "  \\newcommand{\\Pmtrx}{\\boldsymbol{\\mathsf{P}}}\n",
    "  \\newcommand{\\Lmtrx}{\\boldsymbol{\\mathsf{L}}}\n",
    "  \\newcommand{\\Umtrx}{\\boldsymbol{\\mathsf{U}}}\n",
    "  \\newcommand{\\Smtrx}{\\boldsymbol{\\mathsf{S}}}\n",
    "  \\newcommand{\\xvec}{\\boldsymbol{\\mathsf{x}}}\n",
    "  \\newcommand{\\avec}{\\boldsymbol{\\mathsf{a}}}\n",
    "  \\newcommand{\\bvec}{\\boldsymbol{\\mathsf{b}}}\n",
    "  \\newcommand{\\cvec}{\\boldsymbol{\\mathsf{c}}}\n",
    "  \\newcommand{\\rvec}{\\boldsymbol{\\mathsf{r}}}\n",
    "  \\newcommand{\\mvec}{\\boldsymbol{\\mathsf{m}}}\n",
    "  \\newcommand{\\gvec}{\\boldsymbol{\\mathsf{g}}}\n",
    "  \\newcommand{\\zerovec}{\\boldsymbol{\\mathsf{0}}}\n",
    "  \\newcommand{\\norm}[1]{\\bigl\\lVert{#1}\\bigr\\rVert}\n",
    "  \\DeclareMathOperator{\\rank}{rank}\n",
    "$"
   ]
  },
  {
   "cell_type": "markdown",
   "metadata": {},
   "source": [
    "---\n",
    "## Table of Contents<a id=\"toc\">\n",
    "* [Introduction](#intro)\n",
    "* [Reaction Mechanism Data](#stoicmtrx)\n",
    "* [Principal Reaction Sub-Mechanisms](#subreact)\n",
    "---"
   ]
  },
  {
   "cell_type": "markdown",
   "metadata": {},
   "source": [
    "## [Introduction](#toc)<a id=\"intro\"></a>\n",
    "Refer to Notebook 7."
   ]
  },
  {
   "cell_type": "markdown",
   "metadata": {},
   "source": [
    "## [Reaction Mechanism Data](#toc)<a id=\"stoicmtrx\"></a>\n",
    "Read reaction mechanism and derive necessary data for analysis."
   ]
  },
  {
   "cell_type": "code",
   "execution_count": 1,
   "metadata": {},
   "outputs": [],
   "source": [
    "'''Read and process a  methane oxidation reaction mechanism'''\n",
    "\n",
    "try:\n",
    "    from chen_3170.toolkit import reaction_mechanism\n",
    "except ModuleNotFoundError:\n",
    "    assert False, 'You need to provide your own reaction_mechanism function here. Bailing out.'\n",
    "\n",
    "(species, reactions, s_mtrx, _, _) = reaction_mechanism('data/methane-rxn.txt')"
   ]
  },
  {
   "cell_type": "code",
   "execution_count": 2,
   "metadata": {
    "code_folding": [
     3,
     8
    ]
   },
   "outputs": [
    {
     "name": "stdout",
     "output_type": "stream",
     "text": [
      "r0 :  CO  + 0.5 O2 <=> CO2\n",
      "r1 :  H2  + 0.5 O2 <=> H2O\n",
      "r2 :  CH4 + 2 O2   <=> CO2 + 2 H2O\n",
      "r3 :  CH4 + 1.5 O2 <=> CO  + 2 H2O\n",
      "n_reactions = 4\n",
      "['O2', 'CH4', 'CO', 'H2', 'H2O', 'CO2']\n",
      "# species = 6\n",
      "\n",
      "s_mtrx =\n",
      " [[-0.5  0.  -1.   0.   0.   1. ]\n",
      " [-0.5  0.   0.  -1.   1.   0. ]\n",
      " [-2.  -1.   0.   0.   2.   1. ]\n",
      " [-1.5 -1.   1.   0.   2.   0. ]]\n",
      "m x n = (4, 6)\n",
      "matrix shape = (4, 6)\n"
     ]
    },
    {
     "data": {
      "image/png": "[encoded data removed]",
      "text/plain": [
       "<Figure size 1440x288 with 1 Axes>"
      ]
     },
     "metadata": {
      "needs_background": "light"
     },
     "output_type": "display_data"
    }
   ],
   "source": [
    "'''Summary'''\n",
    "\n",
    "from chen_3170.help import print_reactions\n",
    "\n",
    "print_reactions(reactions)\n",
    "\n",
    "print(species)  \n",
    "print('# species =',len(species))\n",
    "print('')\n",
    "print('s_mtrx =\\n',s_mtrx)\n",
    "print('m x n =',s_mtrx.shape)\n",
    "\n",
    "from chen_3170.help import plot_matrix\n",
    "\n",
    "import numpy as np\n",
    "np.set_printoptions(precision=3, threshold=300, edgeitems=8, linewidth=100)\n",
    "\n",
    "plot_matrix(s_mtrx, title='Stoichiometric Matrix')"
   ]
  },
  {
   "cell_type": "markdown",
   "metadata": {},
   "source": [
    "## [Principal Reaction Sub-Mechanisms](#toc)<a id=\"subreact\"></a>\n",
    "Principal reaction mechanism(s) analysis."
   ]
  },
  {
   "cell_type": "code",
   "execution_count": 3,
   "metadata": {},
   "outputs": [
    {
     "name": "stdout",
     "output_type": "stream",
     "text": [
      "# reactions =  4\n",
      "# species   =  6\n",
      "rank of S =  3\n",
      "# of all possible sub_mechanisms = 4\n",
      "# of full-rank sub_mechanisms = 3\n"
     ]
    },
    {
     "data": {
      "image/png": "[encoded data removed]",
      "text/plain": [
       "<Figure size 1440x432 with 1 Axes>"
      ]
     },
     "metadata": {
      "needs_background": "light"
     },
     "output_type": "display_data"
    },
    {
     "name": "stdout",
     "output_type": "stream",
     "text": [
      "r0 :  CO  + 0.5 O2 <=> CO2\n",
      "r1 :  H2  + 0.5 O2 <=> H2O\n",
      "r2 :  CH4 + 2 O2   <=> CO2 + 2 H2O\n",
      "r3 :  CH4 + 1.5 O2 <=> CO  + 2 H2O\n",
      "n_reactions = 4\n",
      "\n",
      "Reaction Sub Mechanism: 0 (score 10.00)\n",
      "r0 CO  + 0.5 O2 <=> CO2\n",
      "r1 H2  + 0.5 O2 <=> H2O\n",
      "r2 CH4 + 2 O2   <=> CO2 + 2 H2O\n",
      "Reaction Sub Mechanism: 1 (score 10.00)\n",
      "r0 CO  + 0.5 O2 <=> CO2\n",
      "r1 H2  + 0.5 O2 <=> H2O\n",
      "r3 CH4 + 1.5 O2 <=> CO  + 2 H2O\n",
      "Reaction Sub Mechanism: 2 (score 10.00)\n",
      "r1 H2  + 0.5 O2 <=> H2O\n",
      "r2 CH4 + 2 O2   <=> CO2 + 2 H2O\n",
      "r3 CH4 + 1.5 O2 <=> CO  + 2 H2O\n"
     ]
    }
   ],
   "source": [
    "'''2.4 Most relevant reaction sub-mechanisms'''\n",
    "try:\n",
    "    from chen_3170.toolkit import sub_mechanisms\n",
    "    from chen_3170.toolkit import plot_reaction_sub_mechanisms\n",
    "except ModuleNotFoundError:\n",
    "    assert False, 'You need to provide your own reaction_mechanism function here. Bailing out.'\n",
    "\n",
    "sub_mech = sub_mechanisms(species, reactions, s_mtrx)\n",
    "\n",
    "plot_reaction_sub_mechanisms(sub_mech, mode='all')\n",
    "\n",
    "print_reactions(reactions)\n",
    "print('')\n",
    "\n",
    "from chen_3170.help import print_reaction_sub_mechanisms\n",
    "\n",
    "print_reaction_sub_mechanisms(sub_mech, mode='all')"
   ]
  },
  {
   "cell_type": "code",
   "execution_count": null,
   "metadata": {},
   "outputs": [],
   "source": []
  }
 ],
 "metadata": {
  "kernelspec": {
   "display_name": "Python 3",
   "language": "python",
   "name": "python3"
  },
  "language_info": {
   "codemirror_mode": {
    "name": "ipython",
    "version": 3
   },
   "file_extension": ".py",
   "mimetype": "text/x-python",
   "name": "python",
   "nbconvert_exporter": "python",
   "pygments_lexer": "ipython3",
   "version": "3.8.8"
  },
  "latex_envs": {
   "LaTeX_envs_menu_present": true,
   "autoclose": false,
   "autocomplete": true,
   "bibliofile": "biblio.bib",
   "cite_by": "apalike",
   "current_citInitial": 1,
   "eqLabelWithNumbers": true,
   "eqNumInitial": 1,
   "hotkeys": {
    "equation": "Ctrl-E",
    "itemize": "Ctrl-I"
   },
   "labels_anchors": false,
   "latex_user_defs": false,
   "report_style_numbering": false,
   "user_envs_cfg": false
  }
 },
 "nbformat": 4,
 "nbformat_minor": 2
}
