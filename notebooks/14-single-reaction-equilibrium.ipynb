{
 "cells": [
  {
   "cell_type": "markdown",
   "metadata": {},
   "source": [
    "ChEn-3170: Computational Methods in Chemical Engineering Fall 2020 UMass Lowell; Prof. V. F. de Almeida **10Nov20**\n",
    "\n",
    "# 14. Single Reaction at Equilibrium\n",
    "$  \n",
    "  \\newcommand{\\Amtrx}{\\boldsymbol{\\mathsf{A}}}\n",
    "  \\newcommand{\\Bmtrx}{\\boldsymbol{\\mathsf{B}}}\n",
    "  \\newcommand{\\Mmtrx}{\\boldsymbol{\\mathsf{M}}}\n",
    "  \\newcommand{\\Imtrx}{\\boldsymbol{\\mathsf{I}}}\n",
    "  \\newcommand{\\Pmtrx}{\\boldsymbol{\\mathsf{P}}}\n",
    "  \\newcommand{\\Lmtrx}{\\boldsymbol{\\mathsf{L}}}\n",
    "  \\newcommand{\\Umtrx}{\\boldsymbol{\\mathsf{U}}}\n",
    "  \\newcommand{\\Smtrx}{\\boldsymbol{\\mathsf{S}}}\n",
    "  \\newcommand{\\xvec}{\\boldsymbol{x}}\n",
    "  \\newcommand{\\avec}{\\boldsymbol{\\mathsf{a}}}\n",
    "  \\newcommand{\\bvec}{\\boldsymbol{\\mathsf{b}}}\n",
    "  \\newcommand{\\cvec}{\\boldsymbol{\\mathsf{c}}}\n",
    "  \\newcommand{\\rvec}{\\boldsymbol{\\mathsf{r}}}\n",
    "  \\newcommand{\\mvec}{\\boldsymbol{\\mathsf{m}}}\n",
    "  \\newcommand{\\gvec}{\\boldsymbol{\\mathsf{g}}}\n",
    "  \\newcommand{\\zerovec}{\\boldsymbol{\\mathsf{0}}}\n",
    "  \\newcommand{\\norm}[1]{\\bigl\\lVert{#1}\\bigr\\rVert}\n",
    "  \\newcommand{\\abs}[1]{\\left\\lvert{#1}\\right\\rvert}\n",
    "  \\newcommand{\\transpose}[1]{{#1}^\\top}\n",
    "  \\DeclareMathOperator{\\rank}{rank}\n",
    "  \\DeclareMathOperator{\\gradx}{\\nabla\\!_{\\xvec}}\n",
    "  \\newcommand{\\Kcal}{\\mathcal{K}}\n",
    "$"
   ]
  },
  {
   "cell_type": "markdown",
   "metadata": {},
   "source": [
    "---\n",
    "## Table of Contents<a id=\"toc\"></a>\n",
    "* [Introduction](#intro)\n",
    "* [Algorithm](#algo)\n",
    "* [Input Data 1](#data1)\n",
    " - [Plot Equilibrium Function](#pef1)\n",
    " - [Solve for Equilibrium](#solve1)\n",
    " - [Plot Equilibrium Point](#pep1)\n",
    "* [Input Data 2](#data2)\n",
    " - [Plot Equilibrium Function](#pef2)\n",
    " - [Solve for Equilibrium](#solve2)\n",
    " - [Plot Equilibrium Point](#pep2)\n",
    "* [Input Data 3](#data3)\n",
    " - [Plot Equilibrium Function](#pef3)\n",
    " - [Solve for Equilibrium](#solve3)\n",
    " - [Plot Equilibrium Point](#pep3)\n",
    "---"
   ]
  },
  {
   "cell_type": "markdown",
   "metadata": {},
   "source": [
    "## [Introduction](#toc)<a id=\"intro\"></a>\n",
    "In the previous [notebook](https://nbviewer.jupyter.org/github/dpploy/chen-3170/blob/master/notebooks/13-nonlinear-root-finding.ipynb), an algorithm was developed for finding the equilibrium molar fractions of a single reversible chemical reaction with a fixed stoichiometry and fixed number of chemical species. Here we expand\n",
    "Newton's method for computing roots of a single non-linear equation, $\\Kcal\\bigl(\\xvec(\\widehat{\\varepsilon})\\bigr)=0$, for **variable stoichiometry and variable number of chemical species**, described in the course notes OneNote [ChEn-3170-nonlinalg-b](https://studentuml-my.sharepoint.com/:o:/g/personal/valmor_dealmeida_uml_edu/EgfHUl6FzmlEvwKSCME78fEB00UX8WuGQfp0_MQS2i8TuQ?e=ow4egD).\n",
    "\n",
    "The task at hand is to compute the equilibrium molar fraction of species undergoing a reversible reaction for an arbitrary number of species and an arbitrary stoichiometry, say\n",
    "\n",
    "\\begin{equation*}\n",
    "\\nu_A\\,\\text{A} + \\nu_B\\,\\text{B} \\overset{K_x}{\\longleftrightarrow} \\nu_C\\,\\text{C} + \\nu_D\\,\\text{D}    ,\n",
    "\\end{equation*}\n",
    "\n",
    "that is, compute $x_A$, $x_B$, $x_C$, $x_D$ for the given stoichiometry and molar equilibrium reaction constant $K_x$. Note that this information is not sufficient for computing the equilibrium molar fraction. In addition, it is required that the molar fraction of **any three species is known** at some point in time or as a reference, say $x_{A_0}$, $x_{B_0}$, and $x_{C_0}$; note $x_{A_0} + x_{B_0} + x_{C_0} + x_{D_0}= 1$.\n",
    "\n",
    "In this case we write the equilibrium function as\n",
    "\n",
    "\\begin{equation*}\n",
    "\\Kcal\\bigl(\\xvec\\bigr)= K_x - \\prod\\limits_{j=\\text{A,B,C,D}}\\, x_j^{S_{1,j}} = 0,\n",
    "\\end{equation*}\n",
    "\n",
    "where the molar fraction vector is defined as $\\xvec = (x_A, x_B, x_C, x_c)$, the first row of elements of the stoichiometric matrix is denoted as ${S_{1,j}}$. This form of the equilibrium equation holds for any reversible chemical reaction by extending the product of powers of the molar fractions. Therefore a general solution method will result from adopting this particular form of a reaction equilibrium function."
   ]
  },
  {
   "cell_type": "code",
   "execution_count": 1,
   "metadata": {
    "code_folding": [
     2
    ]
   },
   "outputs": [],
   "source": [
    "'''Equilibrium function'''\n",
    "\n",
    "def keq_function(x_vec, eq_kx_cte, stoic_row):\n",
    "    \n",
    "    value = eq_kx_cte - x_vec[0]**stoic_row[0] * x_vec[1]**stoic_row[1] \\\n",
    "                        * x_vec[2]**stoic_row[2] * x_vec[3]**stoic_row[3]\n",
    "    \n",
    "    return value"
   ]
  },
  {
   "cell_type": "markdown",
   "metadata": {},
   "source": [
    "The molar fractions vector are a function of the normalized extent of reaction\n",
    "\n",
    "\\begin{equation*}\n",
    "\\xvec(\\widehat{\\varepsilon}) = \\frac{\\xvec^{(0)} + \\widehat{\\varepsilon}\\,\\Smtrx_{1,\\bullet}}{1+\\widehat{\\varepsilon}\\sum\\limits_j S_{1,j}} ,\n",
    "\\end{equation*}\n",
    "\n",
    "where $\\xvec^{(0)} = (x_{A_0}, x_{B_0}, x_{C_0}, x_{D_0})$."
   ]
  },
  {
   "cell_type": "code",
   "execution_count": 2,
   "metadata": {
    "code_folding": [
     2
    ]
   },
   "outputs": [],
   "source": [
    "'''Molar fractions function'''\n",
    "\n",
    "def molar_fractions(ext_hat, x_vec_0, stoic_row):\n",
    "    \n",
    "    assert abs(x_vec_0.sum()-1.0) <= 1e-10\n",
    "    assert abs( 1.0 + ext_hat * stoic_row.sum() ) >= 1e-8\n",
    "    \n",
    "    x_vec = ( x_vec_0 + ext_hat * stoic_row ) / \\\n",
    "            ( 1.0 + ext_hat * stoic_row.sum() )\n",
    "    \n",
    "    return x_vec"
   ]
  },
  {
   "cell_type": "markdown",
   "metadata": {},
   "source": [
    "The usage of Newton's method to compute an equilibrium molar fraction solution requires the value of \n",
    "$\\Kcal\\bigl(\\xvec(\\widehat{\\varepsilon})\\bigr)$ at different values of $\\widehat{\\varepsilon}$ and the total derivative\n",
    "\n",
    "\\begin{equation*}\n",
    "d_{\\widehat{\\varepsilon}} \\Kcal\\bigl(\\xvec(\\widehat{\\varepsilon})\\bigr) = \n",
    "                       \\gradx\\Kcal \\cdot d_{\\widehat{\\varepsilon}}\\xvec\n",
    "\\end{equation*}\n",
    "\n",
    "where the molar fraction gradient is \n",
    "\n",
    "\\begin{equation*}\n",
    " \\gradx\\Kcal = - \n",
    "  K_x \\begin{pmatrix} \n",
    "       S_{1,A}\\,x_A^{-1} \\\\ \n",
    "       S_{1,B}\\,x_B^{-1} \\\\\n",
    "       S_{1,C}\\,x_C^{-1} \\\\\n",
    "       S_{1,D}\\,x_D^{-1} \n",
    "       \\end{pmatrix} .\n",
    "\\end{equation*}"
   ]
  },
  {
   "cell_type": "code",
   "execution_count": 3,
   "metadata": {
    "code_folding": [
     2
    ]
   },
   "outputs": [],
   "source": [
    "'''Gradient wrt molar fractions of the equilibrium function'''\n",
    "\n",
    "def grad_x_k_function(x_vec, eq_kx_cte, stoic_row):\n",
    "    \n",
    "    import numpy as np\n",
    "    x_vec_local = np.copy(x_vec)\n",
    "    \n",
    "    # Correct for division by a very small number (null products)\n",
    "    max_x = x_vec_local.max()\n",
    "    \n",
    "    for i in range(x_vec_local.size):\n",
    "        if x_vec_local[i] < 1e-8:\n",
    "            x_vec_local[i] = max_x # some reasonable mole fraction\n",
    "            \n",
    "    x_vec_inv = 1.0/x_vec_local\n",
    "    \n",
    "    grad_vec = -eq_kx_cte * stoic_row*x_vec_inv\n",
    "    \n",
    "    return grad_vec"
   ]
  },
  {
   "cell_type": "markdown",
   "metadata": {},
   "source": [
    "The molar fraction derivative is\n",
    "\n",
    "\\begin{equation*}\n",
    "  d_{\\widehat{\\varepsilon}}\\xvec = \\frac{\\Smtrx_{1,j} - \\xvec^{(0)}\\,\\sum_j S_{1,j}}\n",
    "                                { \\bigl(1 + \\widehat{\\varepsilon}\\,\\sum_j S_{1,j}\\bigr)^2 } .\n",
    "\\end{equation*}\n"
   ]
  },
  {
   "cell_type": "code",
   "execution_count": 4,
   "metadata": {
    "code_folding": [
     2
    ]
   },
   "outputs": [],
   "source": [
    "'''Derivative of the molar fractions function wrt normalized extent of reaction'''\n",
    "\n",
    "def d_ext_molar_fractions(ext_hat, x_vec_0, stoic_row):\n",
    "    \n",
    "    dext_x_vec = ( stoic_row - x_vec_0 * stoic_row.sum() ) / \\\n",
    "                 ( 1.0 + ext_hat * stoic_row.sum() )**2\n",
    "    \n",
    "    return dext_x_vec"
   ]
  },
  {
   "cell_type": "markdown",
   "metadata": {},
   "source": [
    "## [Algorithm](#toc)<a id=\"algo\"></a>\n",
    "\n",
    "Given $\\Kcal\\bigl(\\xvec(\\widehat{\\varepsilon})\\bigr)$, find the root\n",
    "\n",
    "\\begin{equation*}\n",
    "\\Kcal\\bigl(\\xvec(\\widehat{\\varepsilon})\\bigr) = 0 ,\n",
    "\\end{equation*}\n",
    "\n",
    "using an iterative method based on the initial guess $\\widehat{\\varepsilon}_0$. Compute the updates\n",
    "\n",
    "\\begin{equation*}\n",
    "\\delta \\widehat{\\varepsilon}_k = - \\frac{ \\Kcal\\bigl(\\xvec(\\widehat{\\varepsilon}_{k-1})\\bigr)}\n",
    "                                     {d_{\\widehat{\\varepsilon}}\\Kcal\\bigl(\\xvec(\\widehat{\\varepsilon}_{k-1})\\bigr)} \n",
    "                                     \\ \\qquad \\  \\forall \\ \\qquad \\ k = 1,\\ldots,k_\\text{max} , \n",
    "\\end{equation*}\n",
    "\n",
    "then compute the approximation to the root\n",
    "\n",
    "\\begin{equation*}\n",
    " \\widehat{\\varepsilon}_k = \\widehat{\\varepsilon}_{k-1} + \\delta \\widehat{\\varepsilon}_k \\ \\qquad \\  \\forall \\ \\qquad\\ \\ k = 1,\\ldots,k_\\text{max} ,\n",
    "\\end{equation*}\n",
    "\n",
    "until convergence, say, $\\abs{\\delta\\widehat{\\varepsilon}_k} \\le 10^{-8}$ and $\\abs{\\Kcal\\bigl(\\xvec(\\widehat{\\varepsilon}_k)\\bigr)} \\le 10^{-8}$, or no convergence achieved , say $k>k_\\text{max}$. "
   ]
  },
  {
   "cell_type": "code",
   "execution_count": 5,
   "metadata": {
    "code_folding": [
     2
    ]
   },
   "outputs": [],
   "source": [
    "'''Newton's method'''\n",
    "\n",
    "def newton_solve(x_vec_0, eq_kx_cte, stoic_row,\n",
    "                 ext_hat_0=0.0, k_max=30, tolerance=1.0e-10, verbose=True ):\n",
    "\n",
    "    # Other initialization\n",
    "    delta_k = 1e+10\n",
    "    keq_k   = 1e+10     # equilibrium function initial value\n",
    "    ext_hat = ext_hat_0\n",
    "\n",
    "    if verbose is True:\n",
    "        print('\\n')\n",
    "        print('*************************************************************')\n",
    "        print(\"          Newton's Method Iterations                         \")\n",
    "        print('*************************************************************')\n",
    "        print(\"k |  K(e_k)  |  K'(e_k) | |del e_k| |    e_k   |convg|damped|\")\n",
    "        print('-------------------------------------------------------------')\n",
    "\n",
    "    import math\n",
    "    k = 0\n",
    "    \n",
    "    while (abs(delta_k) > tolerance or abs(keq_k) > tolerance) and k <= k_max:\n",
    "        \n",
    "        # Compute the molar fractions\n",
    "        x_vec = molar_fractions(ext_hat, x_vec_0, stoic_row) \n",
    "        \n",
    "        # Compute the equilibrium function\n",
    "        keq_k   = keq_function(x_vec, eq_kx_cte, stoic_row)\n",
    "        \n",
    "        # Compute the molar fraction gradient of the equilibrium function\n",
    "        grad_x_k = grad_x_k_function(x_vec, eq_kx_cte, stoic_row)\n",
    "        \n",
    "        # Compute the extent of reaction derivative of the molar fraction\n",
    "        d_ext_x = d_ext_molar_fractions(ext_hat, x_vec_0, stoic_row)\n",
    "        \n",
    "        # Form the total derivative of the equilibrium function wrt the extent of reaction\n",
    "        d_ext_keq_k = np.dot(grad_x_k, d_ext_x)\n",
    "        \n",
    "        # Compute the Newton update    \n",
    "        delta_k_old = delta_k # save previous Newton update for convergence monitoring\n",
    "        \n",
    "        delta_k = - keq_k / d_ext_keq_k\n",
    "        \n",
    "        # Damped step: make sure iterates are moving towards root\n",
    "        damp_counter_max = 5\n",
    "        damp_counter = 0\n",
    "        keq_k_old = keq_k\n",
    "        damp_factor = 1.0\n",
    "        x_vec = molar_fractions(ext_hat + delta_k, x_vec_0, stoic_row)\n",
    "        keq_k = keq_function(x_vec, eq_kx_cte, stoic_row)\n",
    "        \n",
    "        while (abs(keq_k) > abs(keq_k_old)) and damp_counter <= damp_counter_max:\n",
    "            damp_factor *= 0.5\n",
    "            x_vec = molar_fractions(ext_hat + step_size * delta_k, x_vec_0, stoic_row)\n",
    "            keq_k = keq_function(x_vec, eq_kx_cte, stoic_row)\n",
    "            damp_counter += 1\n",
    "        \n",
    "        # Compute the update to the root candidate\n",
    "        ext_hat += damp_factor * delta_k\n",
    "        \n",
    "        if k > 0:\n",
    "            if delta_k != 0.0 and delta_k_old != 0.0:\n",
    "                convergence_factor = math.log(abs(delta_k),10) / math.log(abs(delta_k_old),10)\n",
    "            else:\n",
    "                convergence_factor = 0.0  \n",
    "        else:\n",
    "            convergence_factor = 0.0\n",
    "            \n",
    "        k = k + 1\n",
    "        \n",
    "        if verbose is True:\n",
    "            print('%2i %+5.3e %+5.3e %+5.3e  %+5.3e %5.2f %6i'%\\\n",
    "                  (k, keq_k, d_ext_keq_k, abs(delta_k), ext_hat, convergence_factor, damp_counter))\n",
    "\n",
    "    if verbose is True:\n",
    "        print('*************************************************************') \n",
    "        print('Root = %8.5e'%ext_hat)\n",
    "    \n",
    "    return ext_hat"
   ]
  },
  {
   "cell_type": "markdown",
   "metadata": {},
   "source": [
    "## [Input Data 1](#toc)<a id=\"data1\"></a>\n",
    "\n",
    "Reversible reaction: \n",
    "$\\nu_A\\,\\text{A} + \\nu_B\\,\\text{B} \\overset{K_x}{\\longleftrightarrow} \\nu_C\\,\\text{C} + \\nu_D\\,\\text{D}$ \n",
    "\n",
    "Name                        | Parameter    | Value | Name     | Parameter | Value |\n",
    "----------------------------|--------------|-------|----------|-----------|-------|\n",
    "initial molar fraction of A  | $x_{A_0}$    | 0.5   | stoic. A | $\\nu_A$   |  0.7  |\n",
    "initial molar fraction of B  | $x_{B_0}$    | 0.5   | stoic. B | $\\nu_B$   |  1.3  |\n",
    "initial molar fraction of C  | $x_{C_0}$    | 0.0   | stoic. C | $\\nu_C$   |  1.7  |\n",
    "initial molar fraction of C  | $x_{D_0}$    | 0.0   | stoic. D | $\\nu_D$   |  0.5  |\n",
    "molar equilibrium constant   | $K_\\text{x}$ | 108   |    .     |    .      |   .   |"
   ]
  },
  {
   "cell_type": "code",
   "execution_count": 6,
   "metadata": {},
   "outputs": [
    {
     "name": "stdout",
     "output_type": "stream",
     "text": [
      "reaction:  0.7 A + 1.3 B  <=> 1.7 C + 0.5 D \n"
     ]
    }
   ],
   "source": [
    "'''Parameters for chemical equilibrium of A + B <-> C + D'''\n",
    "\n",
    "x_a_0 = 0.5\n",
    "x_b_0 = 0.5\n",
    "x_c_0 = 0.0\n",
    "x_d_0 = 0.0\n",
    "\n",
    "species_names = ['A','B','C','D']\n",
    "\n",
    "import numpy as np\n",
    "stoic_row = np.array([-0.7, -1.3, 1.7, 0.5])\n",
    "\n",
    "reaction =  str(-stoic_row[0])+' A + '+str(-stoic_row[1])+' B '\\\n",
    "           +' <=> '\\\n",
    "           +str(stoic_row[2])+' C + '+str(stoic_row[3])+' D '\n",
    "\n",
    "x_vec_0 = np.array([x_a_0, x_b_0, x_c_0, x_d_0])\n",
    "\n",
    "assert abs(np.sum(x_vec_0) - 1.0) <= 1e-12\n",
    "assert np.all(x_vec_0 >=0.0)\n",
    "\n",
    "eq_kx_cte = 108.0\n",
    "\n",
    "print('reaction: ',reaction)"
   ]
  },
  {
   "cell_type": "code",
   "execution_count": 7,
   "metadata": {},
   "outputs": [
    {
     "name": "stdout",
     "output_type": "stream",
     "text": [
      "ext_hat_min = +1.923e-03\n",
      "ext_hat_max = +3.827e-01\n"
     ]
    }
   ],
   "source": [
    "'''Bounds on extent of reaction'''\n",
    "\n",
    "(ids,) = np.where(stoic_row>0)\n",
    "ext_hat_min = np.max(-x_vec_0[ids]/np.abs(stoic_row[ids]))\n",
    "\n",
    "(ids,) = np.where(stoic_row<0)\n",
    "ext_hat_max = np.min(x_vec_0[ids]/np.abs(stoic_row[ids]))\n",
    "\n",
    "# reduce the ends of the interval by 0.5% to avoid infinite values in the equilibrium function\n",
    "dext = (ext_hat_max - ext_hat_min)*.005\n",
    "ext_hat_min += dext\n",
    "ext_hat_max -= dext\n",
    "\n",
    "print('ext_hat_min = %+1.3e'%ext_hat_min)\n",
    "print('ext_hat_max = %+1.3e'%ext_hat_max)"
   ]
  },
  {
   "cell_type": "code",
   "execution_count": 8,
   "metadata": {
    "code_folding": [
     2
    ]
   },
   "outputs": [],
   "source": [
    "'''Function: plot K equilibrium function'''\n",
    "\n",
    "def plot_keq_function(ex_min, ex_max, n_pts,\n",
    "                   x_vec_0, eq_kx_cte, stoic_row,\n",
    "                   ext_hat_root=None  ):\n",
    "    \n",
    "    import matplotlib.pyplot as plt\n",
    "    %matplotlib inline\n",
    "    \n",
    "    plt.figure(1, figsize=(8, 6))\n",
    "    \n",
    "    import numpy as np\n",
    "    ex_vec = np.linspace(ex_min, ex_max, n_pts)\n",
    "    \n",
    "    keq_function_values = list() # space to save equilibrium function values\n",
    "    for e in ex_vec:\n",
    "        x_vec = molar_fractions( e, x_vec_0, stoic_row ) \n",
    "        keq_function_values.append( keq_function( x_vec, eq_kx_cte, stoic_row ) )\n",
    "    \n",
    "    plt.plot(ex_vec, keq_function_values,'b-',label='$K_{eq}$')\n",
    "    \n",
    "    plt.xlabel(r'$\\hat{\\varepsilon}$',fontsize=18)\n",
    "    plt.ylabel(r'$K(\\hat{\\varepsilon})$',fontsize=18)\n",
    "    plt.title(reaction,fontsize=20)\n",
    "    #plt.legend(loc='best',fontsize=12)\n",
    "    plt.xticks(fontsize=16)\n",
    "    plt.yticks(fontsize=16)\n",
    "    \n",
    "    (x_min,x_max) = plt.xlim()\n",
    "    dx = abs(x_max-x_min)\n",
    "    x_text = x_max + dx * .10\n",
    "    \n",
    "    (y_min,y_max) = plt.ylim()\n",
    "    dy = abs(y_max-y_min)\n",
    "    y_text = y_max - dy*0.05\n",
    "    \n",
    "    for x,spc in zip(x_vec_0,species_names):\n",
    "        \n",
    "        plt.text(x_text, y_text, 'x_%s_0=%8.2e'%(spc,x),fontsize=16)\n",
    "        y_text -= dy*0.06\n",
    "    \n",
    "    y_text -= dy*0.06\n",
    "    plt.text(x_text, y_text, r'$K_x=$%8.2e'%eq_kx_cte,fontsize=16)\n",
    "    \n",
    "    \n",
    "    if ext_hat_root is not None:\n",
    "        \n",
    "        plt.plot(ext_hat_root, 0.0,'r*',label='root',markersize=14)\n",
    "               \n",
    "        (x_min,x_max) = plt.xlim()\n",
    "        dx = abs(x_max-x_min)\n",
    "        x_text = ext_hat_root + dx*0.01\n",
    "    \n",
    "        (y_min,y_max) = plt.ylim()\n",
    "        dy = abs(y_max-y_min)\n",
    "        y_text = 0.0 + dy*0.01\n",
    "    \n",
    "        plt.text(x_text, y_text, r'$\\hat{\\varepsilon}^*=$%8.2e'%ext_hat_root,fontsize=16)\n",
    "    \n",
    "    \n",
    "    plt.grid(True)\n",
    "    plt.show()\n",
    "    print('')\n",
    "    \n",
    "    return"
   ]
  },
  {
   "cell_type": "markdown",
   "metadata": {},
   "source": [
    "### [Plot Equilibrium Function 1](#toc)<a id=\"pef1\"></a>"
   ]
  },
  {
   "cell_type": "code",
   "execution_count": 9,
   "metadata": {
    "code_folding": [
     4
    ]
   },
   "outputs": [
    {
     "data": {
      "image/png": "[encoded data removed]",
      "text/plain": [
       "<Figure size 576x432 with 1 Axes>"
      ]
     },
     "metadata": {
      "needs_background": "light"
     },
     "output_type": "display_data"
    },
    {
     "name": "stdout",
     "output_type": "stream",
     "text": [
      "\n"
     ]
    }
   ],
   "source": [
    "'''Plot equilibrium function'''\n",
    "\n",
    "n_pts = 150\n",
    "\n",
    "plot_keq_function(ext_hat_min, ext_hat_max, n_pts, \n",
    "                  x_vec_0, eq_kx_cte, stoic_row)"
   ]
  },
  {
   "cell_type": "markdown",
   "metadata": {},
   "source": [
    "### [Solve for Equilibrium 1](#toc)<a id=\"solve1\"></a>"
   ]
  },
  {
   "cell_type": "code",
   "execution_count": 10,
   "metadata": {},
   "outputs": [
    {
     "name": "stdout",
     "output_type": "stream",
     "text": [
      "\n",
      "\n",
      "*************************************************************\n",
      "          Newton's Method Iterations                         \n",
      "*************************************************************\n",
      "k |  K(e_k)  |  K'(e_k) | |del e_k| |    e_k   |convg|damped|\n",
      "-------------------------------------------------------------\n",
      " 1 +1.065e+02 -2.106e+03 +5.101e-02  +2.433e-01  0.00      0\n",
      " 2 +1.036e+02 -2.127e+03 +5.007e-02  +2.934e-01  1.01      0\n",
      " 3 +9.441e+01 -2.524e+03 +4.105e-02  +3.344e-01  1.07      0\n",
      " 4 +6.588e+01 -3.704e+03 +2.549e-02  +3.599e-01  1.15      0\n",
      " 5 +1.796e+01 -6.558e+03 +1.005e-02  +3.700e-01  1.25      0\n",
      " 6 +6.315e-01 -1.045e+04 +1.719e-03  +3.717e-01  1.38      0\n",
      " 7 +6.313e-04 -1.172e+04 +5.386e-05  +3.718e-01  1.54      0\n",
      " 8 +6.259e-10 -1.177e+04 +5.363e-08  +3.718e-01  1.70      0\n",
      " 9 +5.684e-14 -1.177e+04 +5.318e-14  +3.718e-01  1.83      0\n",
      "*************************************************************\n",
      "Root = 3.71752e-01\n",
      "\n",
      "Equilibrium mole fractions:\n",
      "\n",
      "x_A = 2.232e-01 (22.3%)\n",
      "x_B = 1.557e-02 ( 1.6%)\n",
      "x_C = 5.882e-01 (58.8%)\n",
      "x_D = 1.730e-01 (17.3%)\n"
     ]
    }
   ],
   "source": [
    "'''Find root and equilibrium molar fractions'''\n",
    "\n",
    "ext_hat_0 = (ext_hat_max + ext_hat_min)/2.0\n",
    "\n",
    "k_max = 20\n",
    "tolerance = 1.0e-8\n",
    "\n",
    "ext_hat = newton_solve(x_vec_0, eq_kx_cte, stoic_row,\n",
    "                       ext_hat_0, k_max, tolerance)\n",
    "\n",
    "x_vec = molar_fractions(ext_hat, x_vec_0, stoic_row)\n",
    "\n",
    "print('')\n",
    "print('Equilibrium mole fractions:\\n')\n",
    "for (x,spc) in zip(x_vec,species_names):\n",
    "    print('x_%s = %5.3e (%4.1f%%)'%(spc,x,round(x*100,1)))\n",
    "    \n",
    "assert np.all(x_vec >= 0.0)\n",
    "assert abs(x_vec.sum() - 1.0) <= 1e-10"
   ]
  },
  {
   "cell_type": "markdown",
   "metadata": {},
   "source": [
    "### [Plot Equilibrium Point 1](#toc)<a id=\"pep1\"></a>"
   ]
  },
  {
   "cell_type": "code",
   "execution_count": 11,
   "metadata": {},
   "outputs": [
    {
     "data": {
      "image/png": "[encoded data removed]",
      "text/plain": [
       "<Figure size 576x432 with 1 Axes>"
      ]
     },
     "metadata": {
      "needs_background": "light"
     },
     "output_type": "display_data"
    },
    {
     "name": "stdout",
     "output_type": "stream",
     "text": [
      "\n"
     ]
    }
   ],
   "source": [
    "'''Plot equilibrium function with root'''\n",
    "\n",
    "n_pts = 150\n",
    "\n",
    "plot_keq_function(ext_hat_min, ext_hat, n_pts, \n",
    "                  x_vec_0, eq_kx_cte, stoic_row, ext_hat)"
   ]
  },
  {
   "cell_type": "markdown",
   "metadata": {},
   "source": [
    "## [Input Data 2](#toc)<a id=\"data2\"></a>\n",
    "\n",
    "Reversible reaction: \n",
    "$\\nu_A\\,\\text{A} + \\nu_B\\,\\text{B} \\overset{K_x}{\\longleftrightarrow} \\nu_C\\,\\text{C} + \\nu_D\\,\\text{D}$ \n",
    "\n",
    "Name                        | Parameter    | Value | Name     | Parameter | Value |\n",
    "----------------------------|--------------|-------|----------|-----------|-------|\n",
    "initial mole fraction of A  | $x_{A_0}$    | 0.22  | stoic. A | $\\nu_A$   |  0.7  |\n",
    "initial mole fraction of B  | $x_{B_0}$    | 0.51  | stoic. B | $\\nu_B$   |  1.3  |\n",
    "initial mole fraction of C  | $x_{C_0}$    | 0.17  | stoic. C | $\\nu_C$   |  1.7  |\n",
    "initial mole fraction of C  | $x_{D_0}$    | 0.10  | stoic. D | $\\nu_D$   |  0.5  |\n",
    "mole equilibrium constant   | $K_\\text{x}$ | 108   |    .     |     .     |   .   |"
   ]
  },
  {
   "cell_type": "code",
   "execution_count": 12,
   "metadata": {},
   "outputs": [
    {
     "name": "stdout",
     "output_type": "stream",
     "text": [
      "reaction:  0.7 A + 1.3 B  <=> 1.7 C + 0.5 D \n"
     ]
    }
   ],
   "source": [
    "'''Parameters for chemical equilibrium of A + B <-> C + D'''\n",
    "\n",
    "x_a_0 = 0.22\n",
    "x_b_0 = 0.51\n",
    "x_c_0 = 0.17\n",
    "x_d_0 = 0.10\n",
    "\n",
    "species_names = ['A','B','C','D']\n",
    "\n",
    "import numpy as np\n",
    "stoic_row = np.array([-0.7, -1.3, 1.7, 0.5])\n",
    "\n",
    "reaction =  str(-stoic_row[0])+' A + '+str(-stoic_row[1])+' B '\\\n",
    "           +' <=> '\\\n",
    "           +str(stoic_row[2])+' C + '+str(stoic_row[3])+' D '\n",
    "\n",
    "x_vec_0 = np.array([x_a_0, x_b_0, x_c_0, x_d_0])\n",
    "\n",
    "assert abs(np.sum(x_vec_0) - 1.0) <= 1e-12\n",
    "assert np.all(x_vec_0 >=0.0)\n",
    "\n",
    "eq_kx_cte = 108.0\n",
    "\n",
    "print('reaction: ',reaction)"
   ]
  },
  {
   "cell_type": "code",
   "execution_count": 13,
   "metadata": {},
   "outputs": [
    {
     "name": "stdout",
     "output_type": "stream",
     "text": [
      "ext_hat_min = -9.793e-02\n",
      "ext_hat_max = +3.122e-01\n"
     ]
    }
   ],
   "source": [
    "'''Bounds on extent of reaction'''\n",
    "\n",
    "(ids,) = np.where(stoic_row>0)\n",
    "ext_hat_min = np.max(-x_vec_0[ids]/np.abs(stoic_row[ids]))\n",
    "\n",
    "(ids,) = np.where(stoic_row<0)\n",
    "ext_hat_max = np.min(x_vec_0[ids]/np.abs(stoic_row[ids]))\n",
    "\n",
    "# reduce the ends of the interval by 0.05% to avoid infinite values in the equilibrium function\n",
    "dext = (ext_hat_max - ext_hat_min)*.005\n",
    "ext_hat_min += dext\n",
    "ext_hat_max -= dext\n",
    "\n",
    "print('ext_hat_min = %+1.3e'%ext_hat_min)\n",
    "print('ext_hat_max = %+1.3e'%ext_hat_max)"
   ]
  },
  {
   "cell_type": "markdown",
   "metadata": {},
   "source": [
    "### [Plot Equilibrium Function 2](#toc)<a id=\"pef2\"></a>"
   ]
  },
  {
   "cell_type": "code",
   "execution_count": 14,
   "metadata": {},
   "outputs": [
    {
     "data": {
      "image/png": "[encoded data removed]",
      "text/plain": [
       "<Figure size 576x432 with 1 Axes>"
      ]
     },
     "metadata": {
      "needs_background": "light"
     },
     "output_type": "display_data"
    },
    {
     "name": "stdout",
     "output_type": "stream",
     "text": [
      "\n"
     ]
    }
   ],
   "source": [
    "'''Plot equilibrium function'''\n",
    "\n",
    "n_pts = 150\n",
    "\n",
    "plot_keq_function(ext_hat_min, ext_hat_max, n_pts, \n",
    "                  x_vec_0, eq_kx_cte, stoic_row)"
   ]
  },
  {
   "cell_type": "markdown",
   "metadata": {},
   "source": [
    "### [Solve for Equilibrium 2](#toc)<a id=\"solve2\"></a>"
   ]
  },
  {
   "cell_type": "code",
   "execution_count": 15,
   "metadata": {},
   "outputs": [
    {
     "name": "stdout",
     "output_type": "stream",
     "text": [
      "\n",
      "\n",
      "*************************************************************\n",
      "          Newton's Method Iterations                         \n",
      "*************************************************************\n",
      "k |  K(e_k)  |  K'(e_k) | |del e_k| |    e_k   |convg|damped|\n",
      "-------------------------------------------------------------\n",
      " 1 +1.055e+02 -1.915e+03 +5.590e-02  +1.630e-01  0.00      0\n",
      " 2 +1.009e+02 -1.955e+03 +5.397e-02  +2.170e-01  1.01      0\n",
      " 3 +8.725e+01 -2.283e+03 +4.420e-02  +2.612e-01  1.07      0\n",
      " 4 +5.202e+01 -3.117e+03 +2.799e-02  +2.892e-01  1.15      0\n",
      " 5 +8.533e+00 -4.955e+03 +1.050e-02  +2.997e-01  1.27      0\n",
      " 6 +8.611e-02 -7.266e+03 +1.174e-03  +3.009e-01  1.48      0\n",
      " 7 +7.317e-06 -7.738e+03 +1.113e-05  +3.009e-01  1.69      0\n",
      " 8 +7.105e-14 -7.743e+03 +9.450e-10  +3.009e-01  1.82      0\n",
      "*************************************************************\n",
      "Root = 3.00895e-01\n",
      "\n",
      "Equilibrium mole fractions:\n",
      "\n",
      "x_A = 8.842e-03 ( 0.9%)\n",
      "x_B = 1.121e-01 (11.2%)\n",
      "x_C = 6.428e-01 (64.3%)\n",
      "x_D = 2.362e-01 (23.6%)\n"
     ]
    }
   ],
   "source": [
    "'''Find root and equilibrium molar fractions'''\n",
    "\n",
    "ext_hat_0 = (ext_hat_max + ext_hat_min)/2.0\n",
    "\n",
    "k_max = 20\n",
    "tolerance = 1.0e-8\n",
    "\n",
    "ext_hat = newton_solve(x_vec_0, eq_kx_cte, stoic_row,\n",
    "                       ext_hat_0, k_max, tolerance)\n",
    "\n",
    "x_vec = molar_fractions(ext_hat, x_vec_0, stoic_row)\n",
    "\n",
    "print('')\n",
    "print('Equilibrium mole fractions:\\n')\n",
    "for (x,spc) in zip(x_vec,species_names):\n",
    "    print('x_%s = %5.3e (%4.1f%%)'%(spc,x,round(x*100,1)))\n",
    "    \n",
    "assert np.all(x_vec >= 0.0)\n",
    "assert abs(x_vec.sum() - 1.0) <= 1e-10"
   ]
  },
  {
   "cell_type": "markdown",
   "metadata": {},
   "source": [
    "### [Plot Equilibrium Point 2](#toc)<a id=\"pep2\"></a>"
   ]
  },
  {
   "cell_type": "code",
   "execution_count": 16,
   "metadata": {},
   "outputs": [
    {
     "data": {
      "image/png": "[encoded data removed]",
      "text/plain": [
       "<Figure size 576x432 with 1 Axes>"
      ]
     },
     "metadata": {
      "needs_background": "light"
     },
     "output_type": "display_data"
    },
    {
     "name": "stdout",
     "output_type": "stream",
     "text": [
      "\n"
     ]
    }
   ],
   "source": [
    "'''Plot equilibrium function with root'''\n",
    "\n",
    "n_pts = 150\n",
    "\n",
    "plot_keq_function(ext_hat_min, ext_hat, n_pts, \n",
    "                  x_vec_0, eq_kx_cte, stoic_row, ext_hat)"
   ]
  },
  {
   "cell_type": "markdown",
   "metadata": {},
   "source": [
    "## [Input Data 3](#toc)<a id=\"data3\"></a>\n",
    "\n",
    "Reversible reaction: \n",
    "$\\nu_A\\,\\text{A} + \\nu_B\\,\\text{B} \\overset{K_x}{\\longleftrightarrow} \\nu_C\\,\\text{C} + \\nu_D\\,\\text{D}$ \n",
    "\n",
    "Name                        | Parameter    | Value | Name     | Parameter | Value |\n",
    "----------------------------|--------------|-------|----------|-----------|-------|\n",
    "initial mole fraction of A  | $x_{A_0}$    | 0.07  | stoic. A | $\\nu_A$   |  1.7  |\n",
    "initial mole fraction of B  | $x_{B_0}$    | 0.11  | stoic. B | $\\nu_B$   |  2.3  |\n",
    "initial mole fraction of C  | $x_{C_0}$    | 0.32  | stoic. C | $\\nu_C$   |  0.2  |\n",
    "initial mole fraction of C  | $x_{D_0}$    | 0.50  | stoic. D | $\\nu_D$   |  1.5  |\n",
    "mole equilibrium constant   | $K_\\text{x}$ | 120   |    .     |  .        |  .    |"
   ]
  },
  {
   "cell_type": "code",
   "execution_count": 17,
   "metadata": {},
   "outputs": [
    {
     "name": "stdout",
     "output_type": "stream",
     "text": [
      "reaction:  1.7 A + 2.3 B  <=> 0.2 C + 1.5 D \n"
     ]
    }
   ],
   "source": [
    "'''Parameters for chemical equilibrium of A + B <-> C + D'''\n",
    "\n",
    "x_a_0 = 0.07\n",
    "x_b_0 = 0.11\n",
    "x_c_0 = 0.32\n",
    "x_d_0 = 0.50\n",
    "\n",
    "species_names = ['A','B','C','D']\n",
    "\n",
    "import numpy as np\n",
    "stoic_row = np.array([-1.7, -2.3, 0.2, 1.5])\n",
    "\n",
    "reaction =  str(-stoic_row[0])+' A + '+str(-stoic_row[1])+' B '\\\n",
    "           +' <=> '\\\n",
    "           +str(stoic_row[2])+' C + '+str(stoic_row[3])+' D '\n",
    "\n",
    "x_vec_0 = np.array([x_a_0, x_b_0, x_c_0, x_d_0])\n",
    "\n",
    "assert abs(np.sum(x_vec_0) - 1.0) <= 1e-12\n",
    "assert np.all(x_vec_0 >=0.0)\n",
    "\n",
    "eq_kx_cte = 120.0\n",
    "\n",
    "print('reaction: ',reaction)"
   ]
  },
  {
   "cell_type": "code",
   "execution_count": 18,
   "metadata": {},
   "outputs": [
    {
     "name": "stdout",
     "output_type": "stream",
     "text": [
      "ext_hat_min = -3.315e-01\n",
      "ext_hat_max = +3.930e-02\n"
     ]
    }
   ],
   "source": [
    "'''Bounds on extent of reaction'''\n",
    "\n",
    "(ids,) = np.where(stoic_row>0)\n",
    "ext_hat_min = np.max(-x_vec_0[ids]/np.abs(stoic_row[ids]))\n",
    "\n",
    "(ids,) = np.where(stoic_row<0)\n",
    "ext_hat_max = np.min( x_vec_0[ids]/np.abs(stoic_row[ids]))\n",
    "\n",
    "# Reduce the ends of the interval by 0.5% to avoid infinite values in the equilibrium function\n",
    "dext = (ext_hat_max - ext_hat_min)*.005\n",
    "ext_hat_min += dext\n",
    "ext_hat_max -= dext\n",
    "\n",
    "print('ext_hat_min = %+1.3e'%ext_hat_min)\n",
    "print('ext_hat_max = %+1.3e'%ext_hat_max)"
   ]
  },
  {
   "cell_type": "markdown",
   "metadata": {},
   "source": [
    "### [Plot Equilibrium Function 3](#toc)<a id=\"pef3\"></a>"
   ]
  },
  {
   "cell_type": "code",
   "execution_count": 19,
   "metadata": {},
   "outputs": [
    {
     "data": {
      "image/png": "[encoded data removed]",
      "text/plain": [
       "<Figure size 576x432 with 1 Axes>"
      ]
     },
     "metadata": {
      "needs_background": "light"
     },
     "output_type": "display_data"
    },
    {
     "name": "stdout",
     "output_type": "stream",
     "text": [
      "\n"
     ]
    }
   ],
   "source": [
    "'''Plot equilibrium function'''\n",
    "\n",
    "n_pts = 200\n",
    "\n",
    "plot_keq_function(ext_hat_min, ext_hat_max, n_pts, \n",
    "                  x_vec_0, eq_kx_cte, stoic_row)"
   ]
  },
  {
   "cell_type": "markdown",
   "metadata": {},
   "source": [
    "### [Solve for Equilibrium 3](#toc)<a id=\"solve3\"></a>"
   ]
  },
  {
   "cell_type": "code",
   "execution_count": 20,
   "metadata": {},
   "outputs": [
    {
     "name": "stdout",
     "output_type": "stream",
     "text": [
      "\n",
      "\n",
      "*************************************************************\n",
      "          Newton's Method Iterations                         \n",
      "*************************************************************\n",
      "k |  K(e_k)  |  K'(e_k) | |del e_k| |    e_k   |convg|damped|\n",
      "-------------------------------------------------------------\n",
      " 1 +9.325e+01 -3.015e+03 +3.643e-02  -1.096e-01  0.00      0\n",
      " 2 +5.837e+01 -3.419e+03 +2.727e-02  -8.238e-02  1.09      0\n",
      " 3 +1.717e+01 -3.970e+03 +1.470e-02  -6.767e-02  1.17      0\n",
      " 4 +1.088e+00 -4.408e+03 +3.896e-03  -6.378e-02  1.31      0\n",
      " 5 +3.900e-03 -4.547e+03 +2.393e-04  -6.354e-02  1.50      0\n",
      " 6 +4.971e-08 -4.555e+03 +8.560e-07  -6.354e-02  1.68      0\n",
      " 7 +4.263e-14 -4.555e+03 +1.091e-11  -6.354e-02  1.81      0\n",
      "*************************************************************\n",
      "Root = -6.35380e-02\n",
      "\n",
      "Equilibrium mole fractions:\n",
      "\n",
      "x_A = 1.553e-01 (15.5%)\n",
      "x_B = 2.235e-01 (22.3%)\n",
      "x_C = 2.681e-01 (26.8%)\n",
      "x_D = 3.531e-01 (35.3%)\n"
     ]
    }
   ],
   "source": [
    "'''Find root and equilibrium molar fractions'''\n",
    "\n",
    "ext_hat_0 = (ext_hat_max + ext_hat_min)/2.0\n",
    "\n",
    "k_max = 20\n",
    "tolerance = 1.0e-8\n",
    "\n",
    "ext_hat = newton_solve(x_vec_0, eq_kx_cte, stoic_row,\n",
    "                       ext_hat_0, k_max, tolerance)\n",
    "\n",
    "x_vec = molar_fractions(ext_hat, x_vec_0, stoic_row)\n",
    "\n",
    "print('')\n",
    "print('Equilibrium mole fractions:\\n')\n",
    "for (x,spc) in zip(x_vec,species_names):\n",
    "    print('x_%s = %5.3e (%4.1f%%)'%(spc,x,round(x*100,1)))\n",
    "    \n",
    "assert np.all(x_vec >= 0.0)\n",
    "assert abs(x_vec.sum() - 1.0) <= 1e-10"
   ]
  },
  {
   "cell_type": "markdown",
   "metadata": {},
   "source": [
    "**Note negative extent of reaction at equilibrium. Compare the equilibrium molar fractions to the initial molar fractions.**"
   ]
  },
  {
   "cell_type": "markdown",
   "metadata": {},
   "source": [
    "### [Plot Equilibrium Point 3](#toc)<a id=\"pep3\"></a>"
   ]
  },
  {
   "cell_type": "code",
   "execution_count": 21,
   "metadata": {},
   "outputs": [
    {
     "data": {
      "image/png": "[encoded data removed]",
      "text/plain": [
       "<Figure size 576x432 with 1 Axes>"
      ]
     },
     "metadata": {
      "needs_background": "light"
     },
     "output_type": "display_data"
    },
    {
     "name": "stdout",
     "output_type": "stream",
     "text": [
      "\n"
     ]
    }
   ],
   "source": [
    "'''Plot equilibrium function with root'''\n",
    "\n",
    "n_pts = 100\n",
    "\n",
    "plot_keq_function(ext_hat_min, ext_hat, n_pts, \n",
    "                  x_vec_0, eq_kx_cte, stoic_row, ext_hat)"
   ]
  },
  {
   "cell_type": "code",
   "execution_count": null,
   "metadata": {},
   "outputs": [],
   "source": []
  }
 ],
 "metadata": {
  "kernelspec": {
   "display_name": "Python 3",
   "language": "python",
   "name": "python3"
  },
  "language_info": {
   "codemirror_mode": {
    "name": "ipython",
    "version": 3
   },
   "file_extension": ".py",
   "mimetype": "text/x-python",
   "name": "python",
   "nbconvert_exporter": "python",
   "pygments_lexer": "ipython3",
   "version": "3.8.8"
  },
  "latex_envs": {
   "LaTeX_envs_menu_present": true,
   "autoclose": false,
   "autocomplete": true,
   "bibliofile": "biblio.bib",
   "cite_by": "apalike",
   "current_citInitial": 1,
   "eqLabelWithNumbers": true,
   "eqNumInitial": 1,
   "hotkeys": {
    "equation": "Ctrl-E",
    "itemize": "Ctrl-I"
   },
   "labels_anchors": false,
   "latex_user_defs": false,
   "report_style_numbering": false,
   "user_envs_cfg": false
  }
 },
 "nbformat": 4,
 "nbformat_minor": 2
}
