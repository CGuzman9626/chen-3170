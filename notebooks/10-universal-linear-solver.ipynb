{
 "cells": [
  {
   "cell_type": "markdown",
   "metadata": {},
   "source": [
    "ChEn-3170: Computational Methods in Chemical Engineering Fall 2021 UMass Lowell; Prof. V. F. de Almeida **27Oct20**\n",
    "\n",
    "# 10. Universal Linear Solver\n",
    "$  \n",
    "  \\newcommand{\\Amtrx}{\\boldsymbol{\\mathsf{A}}}\n",
    "  \\newcommand{\\Bmtrx}{\\boldsymbol{\\mathsf{B}}}\n",
    "  \\newcommand{\\Mmtrx}{\\boldsymbol{\\mathsf{M}}}\n",
    "  \\newcommand{\\Imtrx}{\\boldsymbol{\\mathsf{I}}}\n",
    "  \\newcommand{\\Pmtrx}{\\boldsymbol{\\mathsf{P}}}\n",
    "  \\newcommand{\\Lmtrx}{\\boldsymbol{\\mathsf{L}}}\n",
    "  \\newcommand{\\Umtrx}{\\boldsymbol{\\mathsf{U}}}\n",
    "  \\newcommand{\\Smtrx}{\\boldsymbol{\\mathsf{S}}}\n",
    "  \\newcommand{\\xvec}{\\boldsymbol{\\mathsf{x}}}\n",
    "  \\newcommand{\\avec}{\\boldsymbol{\\mathsf{a}}}\n",
    "  \\newcommand{\\bvec}{\\boldsymbol{\\mathsf{b}}}\n",
    "  \\newcommand{\\cvec}{\\boldsymbol{\\mathsf{c}}}\n",
    "  \\newcommand{\\rvec}{\\boldsymbol{\\mathsf{r}}}\n",
    "  \\newcommand{\\mvec}{\\boldsymbol{\\mathsf{m}}}\n",
    "  \\newcommand{\\gvec}{\\boldsymbol{\\mathsf{g}}}\n",
    "  \\newcommand{\\zerovec}{\\boldsymbol{\\mathsf{0}}}\n",
    "  \\newcommand{\\norm}[1]{\\bigl\\lVert{#1}\\bigr\\rVert}\n",
    "  \\newcommand{\\transpose}[1]{{#1}^\\top}\n",
    "  \\DeclareMathOperator{\\rank}{rank}\n",
    "$"
   ]
  },
  {
   "cell_type": "markdown",
   "metadata": {},
   "source": [
    "---\n",
    "## Table of Contents<a id=\"toc\">\n",
    "* [Introduction](#intro)\n",
    "* [Any Linear System (Detailed Algorithm)](#any)\n",
    "* [Universal Solver](#usolver)\n",
    "* [Anomalous Least-Squares Data Fitting](#fit)\n",
    "---"
   ]
  },
  {
   "cell_type": "markdown",
   "metadata": {},
   "source": [
    "## [Introduction](#toc)<a id=\"intro\"></a>\n",
    "\n",
    "Recall course notes OneNote [ChEn-3170-universal-lsolver](https://studentuml-my.sharepoint.com/:o:/g/personal/valmor_dealmeida_uml_edu/EgTyfAiTr59Dk3yAb3eCZEcBeJZj2oWviJeXKpeRIB2YOg?e=YbKTzx) on computational stoichiometry including an introduction to the linear, rank-deficient, least-squares method.\n",
    "\n",
    "Compute the solution vector $\\xvec$ for a given matrix $\\Amtrx$ and right-side vector $\\bvec$:\n",
    "\n",
    "\\begin{equation*}\n",
    "\\Amtrx\\,\\xvec= \\bvec .\n",
    "\\end{equation*}\n",
    "\n",
    "When $\\Amtrx$ is rank deficient, $\\Amtrx^\\top\\Amtrx$ is also rank deficient (or singular). The normal equations \n",
    "\n",
    "\\begin{equation*}\n",
    "\\boxed{\\Amtrx^\\top\\Amtrx\\,\\xvec_\\text{LS}  = \\Amtrx^\\top\\,\\bvec },\n",
    "\\end{equation*}\n",
    "\n",
    "*either have an infinite number of solutions or have no solution*. \n",
    "\n",
    "Since $\\Amtrx$ is rank deficient, a **unique** mininum-norm least squares solution, $\\xvec_\\text{MNLS}$, exists as follows,\n",
    "\n",
    "\\begin{equation*}\n",
    " \\lim\\limits_{\\epsilon\\rightarrow 0}\\,\\min\\limits_\\xvec \\bigl( \\norm{\\bvec - \\Amtrx\\,\\xvec_\\text{MNLS}}^2 + \\epsilon\\norm{\\xvec_\\text{MNLS}}^2 \\bigr) \\quad\\  \\forall \\quad\\ \\xvec.\n",
    "\\end{equation*}\n",
    "\n",
    "This solution is obtained by solving:\n",
    "\n",
    "\\begin{equation*}\n",
    "\\boxed{\n",
    "\\lim\\limits_{\\epsilon\\rightarrow 0}\\,\\bigl(\\Amtrx^\\top\\Amtrx + \\epsilon\\Imtrx\\bigr) \\xvec_\\text{MNLS}  = \\Amtrx^\\top\\,\\bvec },\n",
    "\\end{equation*}\n",
    "\n",
    "where $\\Amtrx^\\top\\Amtrx + \\epsilon\\Imtrx$ is square, symmetric and full rank. This augmented least-squares problem has a unique solution."
   ]
  },
  {
   "cell_type": "markdown",
   "metadata": {},
   "source": [
    "## [Any Linear System (Detailed Algorithm)](#toc)<a id=\"any\"></a>\n",
    "Refer to course Notebooks 08 and 09."
   ]
  },
  {
   "cell_type": "code",
   "execution_count": 1,
   "metadata": {
    "ExecuteTime": {
     "end_time": "2021-11-04T20:18:05.805606Z",
     "start_time": "2021-11-04T20:18:05.261553Z"
    }
   },
   "outputs": [
    {
     "name": "stdout",
     "output_type": "stream",
     "text": [
      "A =\n",
      " [[ 366.893  405.662  536.062  710.727 ...  249.587  -49.871  220.996  256.834]\n",
      " [ 127.86   803.29   237.491  -23.802 ...  133.868  206.467 -109.811   23.096]\n",
      " [ 301.346  449.66   380.251  303.322 ...  722.92   -14.449  505.707  494.179]\n",
      " [ 635.109  428.202  207.169  147.327 ...  543.167  653.334   58.85    46.648]\n",
      " ...\n",
      " [  99.194  523.626   44.999  -43.026 ...  136.379  193.821  603.409  -19.143]\n",
      " [ 237.689  663.478  622.837  657.714 ...  609.014  698.858  448.56   171.924]\n",
      " [ 349.2    496.743  764.496  659.896 ...  569.515  398.809  257.128  240.352]\n",
      " [   0.       0.       0.       0.    ...    0.       0.       0.       0.   ]]\n"
     ]
    }
   ],
   "source": [
    "'''Any A matrix'''\n",
    "\n",
    "import numpy as np\n",
    "\n",
    "nrows = 20\n",
    "ncols = 32\n",
    "\n",
    "a = -120.2\n",
    "b =  808.7\n",
    "\n",
    "set_rank_deficient = True # set to True or False\n",
    "\n",
    "a_mtrx = (b-a)*np.random.random((nrows,ncols)) + a\n",
    "\n",
    "if set_rank_deficient:\n",
    "    if nrows >= ncols:\n",
    "        a_mtrx[:,-1] = 0.0\n",
    "    if nrows < ncols:\n",
    "        a_mtrx[-1,:] = 0.0\n",
    "        \n",
    "np.set_printoptions(precision=3, threshold=500, edgeitems=4, linewidth=100)\n",
    "print('A =\\n',a_mtrx)"
   ]
  },
  {
   "cell_type": "code",
   "execution_count": 2,
   "metadata": {
    "ExecuteTime": {
     "end_time": "2021-11-04T20:18:08.358093Z",
     "start_time": "2021-11-04T20:18:08.342392Z"
    }
   },
   "outputs": [
    {
     "name": "stdout",
     "output_type": "stream",
     "text": [
      "S shape   =  (20, 32)\n",
      "Rank of S =  19\n",
      "Matrix is rank deficient.\n"
     ]
    }
   ],
   "source": [
    "'''Rank of A'''\n",
    "\n",
    "try:    \n",
    "    from chen_3170.toolkit import matrix_rank   \n",
    "except ModuleNotFoundError:\n",
    "    assert False, 'You need to provide your own matrix_rank function here. Bailing out.'\n",
    "\n",
    "a_rank = matrix_rank(a_mtrx)\n",
    "print('S shape   = ',a_mtrx.shape)\n",
    "print('Rank of S = ',a_rank)\n",
    "\n",
    "if a_rank == min(a_mtrx.shape):\n",
    "    print('Matrix is full rank.')\n",
    "else:\n",
    "    print('Matrix is rank deficient.')\n",
    "    \n",
    "assert a_rank == np.linalg.matrix_rank(a_mtrx)"
   ]
  },
  {
   "cell_type": "code",
   "execution_count": 3,
   "metadata": {
    "ExecuteTime": {
     "end_time": "2021-11-04T20:18:08.847526Z",
     "start_time": "2021-11-04T20:18:08.843033Z"
    }
   },
   "outputs": [
    {
     "name": "stdout",
     "output_type": "stream",
     "text": [
      "b_vec =\n",
      " [-37.887   2.192  -9.185 -35.603 -19.94   -7.267 -25.509 -37.957 -17.298 -27.986 -11.514 -38.783\n",
      " -25.643  -3.183 -34.091 -34.605  -5.85  -29.278  -7.36  -14.342]\n"
     ]
    }
   ],
   "source": [
    "'''Any right side vector'''\n",
    "\n",
    "import numpy as np\n",
    "\n",
    "a = -40.2\n",
    "b =  3.7\n",
    "\n",
    "b_vec = (b-a)*np.random.random(nrows) + a # production rates\n",
    "\n",
    "np.set_printoptions(precision=3, threshold=100, edgeitems=3, linewidth=100)\n",
    "print('b_vec =\\n',b_vec)"
   ]
  },
  {
   "cell_type": "code",
   "execution_count": 4,
   "metadata": {
    "ExecuteTime": {
     "end_time": "2021-11-04T20:18:09.914204Z",
     "start_time": "2021-11-04T20:18:09.641659Z"
    },
    "scrolled": false
   },
   "outputs": [
    {
     "name": "stdout",
     "output_type": "stream",
     "text": [
      "\n",
      "epsilon = 1.0e+02\n",
      "\n",
      "||x|| = 4.76495e-02\n",
      "max(abs(x_vec-x_vec_numpy)) = 3.78e-13\n",
      "\n",
      "||b - A x||^2 + eps*||x||^2 = 2.05930e+02\n",
      "||b - A x|| +       ||x||   = 1.43900e+01\n",
      "||b - A x||                 = 1.43424e+01\n",
      "\n",
      "epsilon = 1.3e+01\n",
      "\n",
      "||x|| = 4.76556e-02\n",
      "max(abs(x_vec-x_vec_numpy)) = 1.74e-12\n",
      "\n",
      "||b - A x||^2 + eps*||x||^2 = 2.05732e+02\n",
      "||b - A x|| +       ||x||   = 1.43900e+01\n",
      "||b - A x||                 = 1.43424e+01\n",
      "\n",
      "epsilon = 1.7e+00\n",
      "\n",
      "||x|| = 4.76564e-02\n",
      "max(abs(x_vec-x_vec_numpy)) = 1.97e-11\n",
      "\n",
      "||b - A x||^2 + eps*||x||^2 = 2.05707e+02\n",
      "||b - A x|| +       ||x||   = 1.43900e+01\n",
      "||b - A x||                 = 1.43424e+01\n",
      "\n",
      "epsilon = 2.2e-01\n",
      "\n",
      "||x|| = 4.76565e-02\n",
      "max(abs(x_vec-x_vec_numpy)) = 1.35e-10\n",
      "\n",
      "||b - A x||^2 + eps*||x||^2 = 2.05704e+02\n",
      "||b - A x|| +       ||x||   = 1.43900e+01\n",
      "||b - A x||                 = 1.43424e+01\n",
      "\n",
      "epsilon = 2.8e-02\n",
      "\n",
      "||x|| = 4.76565e-02\n",
      "max(abs(x_vec-x_vec_numpy)) = 9.71e-10\n",
      "\n",
      "||b - A x||^2 + eps*||x||^2 = 2.05703e+02\n",
      "||b - A x|| +       ||x||   = 1.43900e+01\n",
      "||b - A x||                 = 1.43424e+01\n",
      "\n",
      "epsilon = 3.6e-03\n",
      "\n",
      "||x|| = 4.76565e-02\n",
      "max(abs(x_vec-x_vec_numpy)) = 7.02e-09\n",
      "\n",
      "||b - A x||^2 + eps*||x||^2 = 2.05703e+02\n",
      "||b - A x|| +       ||x||   = 1.43900e+01\n",
      "||b - A x||                 = 1.43424e+01\n",
      "\n",
      "epsilon = 4.6e-04\n",
      "\n",
      "||x|| = 4.76565e-02\n",
      "max(abs(x_vec-x_vec_numpy)) = 4.69e-08\n",
      "\n",
      "||b - A x||^2 + eps*||x||^2 = 2.05703e+02\n",
      "||b - A x|| +       ||x||   = 1.43900e+01\n",
      "||b - A x||                 = 1.43424e+01\n",
      "\n",
      "epsilon = 6.0e-05\n",
      "\n",
      "||x|| = 4.76565e-02\n",
      "max(abs(x_vec-x_vec_numpy)) = 4.26e-07\n",
      "\n",
      "||b - A x||^2 + eps*||x||^2 = 2.05703e+02\n",
      "||b - A x|| +       ||x||   = 1.43900e+01\n",
      "||b - A x||                 = 1.43424e+01\n",
      "\n",
      "epsilon = 7.7e-06\n",
      "\n",
      "||x|| = 4.76565e-02\n",
      "max(abs(x_vec-x_vec_numpy)) = 3.16e-06\n",
      "\n",
      "||b - A x||^2 + eps*||x||^2 = 2.05703e+02\n",
      "||b - A x|| +       ||x||   = 1.43900e+01\n",
      "||b - A x||                 = 1.43424e+01\n",
      "\n",
      "epsilon = 1.0e-06\n",
      "\n",
      "||x|| = 4.76567e-02\n",
      "max(abs(x_vec-x_vec_numpy)) = 2.74e-05\n",
      "\n",
      "||b - A x||^2 + eps*||x||^2 = 2.05703e+02\n",
      "||b - A x|| +       ||x||   = 1.43900e+01\n",
      "||b - A x||                 = 1.43424e+01\n"
     ]
    }
   ],
   "source": [
    "'''Compute the MNLS solution'''\n",
    "\n",
    "import numpy as np\n",
    "\n",
    "try:    \n",
    "    from chen_3170.toolkit import solve   \n",
    "except ModuleNotFoundError:\n",
    "    assert False, 'You need to provide your own lu_factorization function here. Bailing out.'\n",
    "\n",
    "# build and solve A x = b MNLS problem\n",
    "\n",
    "epsilon_values = np.logspace(+2,-6,10)\n",
    "\n",
    "np.set_printoptions(precision=3, threshold=100, edgeitems=3, linewidth=100)\n",
    "\n",
    "x_norm_history = list()\n",
    "    \n",
    "for epsilon in epsilon_values:\n",
    "    \n",
    "    print('')\n",
    "    print('epsilon = %1.1e'%epsilon)\n",
    "    print('')\n",
    "\n",
    "    mtrx = a_mtrx.transpose() @ a_mtrx + epsilon * np.eye(a_mtrx.shape[1]) # AT A + epsilon I, AT A is the normal matrix\n",
    "    vec  = a_mtrx.transpose() @ b_vec                            # AT b\n",
    "\n",
    "    # Solve (ATA + epsilon I) x = AT b\n",
    "    x_vec = solve(mtrx, vec, pivot_tol=1e-6, zero_tol=1e-8) # matrix is full rank; partial pivoting works\n",
    "    #x_vec = np.linalg.solve(mtrx, vec)\n",
    "    #print('')\n",
    "    #print('x_vec=\\n',x_vec)\n",
    "    #print('')\n",
    "        \n",
    "    x_norm = np.linalg.norm(x_vec)\n",
    "    print('||x|| = %8.5e'%x_norm)\n",
    "    \n",
    "    x_norm_history.append( x_norm ) # save for plotting\n",
    "    \n",
    "    # test my solution against NumPy solve\n",
    "    print('max(abs(x_vec-x_vec_numpy)) = %2.2e'%np.max(np.abs((x_vec - np.linalg.solve(mtrx, vec)))))\n",
    "    \n",
    "    print('')\n",
    "    residual_vec = b_vec - a_mtrx @ x_vec\n",
    "    print('||b - A x||^2 + eps*||x||^2 = %8.5e'%(np.linalg.norm(residual_vec)**2 + epsilon*x_norm**2))\n",
    "    print('||b - A x|| +       ||x||   = %8.5e'%(np.linalg.norm(residual_vec) + x_norm))\n",
    "    print('||b - A x||                 = %8.5e'%(np.linalg.norm(residual_vec)))"
   ]
  },
  {
   "cell_type": "code",
   "execution_count": 5,
   "metadata": {
    "ExecuteTime": {
     "end_time": "2021-11-04T20:18:14.280511Z",
     "start_time": "2021-11-04T20:18:13.399970Z"
    }
   },
   "outputs": [
    {
     "data": {
      "image/png": "[encoded data removed]",
      "text/plain": [
       "<Figure size 1296x360 with 1 Axes>"
      ]
     },
     "metadata": {},
     "output_type": "display_data"
    }
   ],
   "source": [
    "'''Plot Convergence of the Shortest Least-Square Solution Vector'''\n",
    "\n",
    "from matplotlib import pyplot as plt # import the pyplot function of the matplotlib package\n",
    "%matplotlib inline\n",
    "plt.style.use('dark_background')\n",
    "\n",
    "fig, ax = plt.subplots(figsize=(18,5))\n",
    "ax.semilogx(epsilon_values, x_norm_history,'ro--')\n",
    "ax.set_ylabel('MNLS Solution Norm',fontsize=16)\n",
    "ax.set_xlabel('Epsilon',fontsize=16)\n",
    "plt.xticks(fontsize=14)\n",
    "plt.yticks(fontsize=14)\n",
    "fig.suptitle('Convergence of Minimum Norm LS X (Rank %s)'%str(a_rank),fontsize=20)\n",
    "ax.xaxis.grid(True,linestyle='-',which='major',color='lightgrey',alpha=0.9)\n",
    "plt.show()"
   ]
  },
  {
   "cell_type": "code",
   "execution_count": 6,
   "metadata": {
    "ExecuteTime": {
     "end_time": "2021-11-04T20:18:14.470531Z",
     "start_time": "2021-11-04T20:18:14.283035Z"
    }
   },
   "outputs": [
    {
     "data": {
      "image/png": "[encoded data removed]",
      "text/plain": [
       "<Figure size 1440x432 with 1 Axes>"
      ]
     },
     "metadata": {},
     "output_type": "display_data"
    }
   ],
   "source": [
    "'''Minimum norm least-squares reaction rates'''\n",
    "\n",
    "from matplotlib import pyplot as plt # import the pyplot function of the matplotlib package\n",
    "%matplotlib inline\n",
    "plt.style.use('dark_background')\n",
    "\n",
    "fig, ax = plt.subplots(figsize=(20,6))\n",
    "ax.bar(range(x_vec.size), x_vec, color='orange')\n",
    "\n",
    "ax.set_ylabel('X vector',fontsize=16)\n",
    "ax.set_xlabel('X vector element',fontsize=16)\n",
    "ax.xaxis.grid(True,linestyle='-',which='major',color='lightgrey',alpha=0.9)\n",
    "fig.suptitle('Minimum Norm LS Reaction Rates (Rank %s)'%str(a_rank),fontsize=20)\n",
    "plt.show()"
   ]
  },
  {
   "cell_type": "markdown",
   "metadata": {},
   "source": [
    "## [Universal Solver](#toc)<a id=\"usolver\"></a>"
   ]
  },
  {
   "cell_type": "markdown",
   "metadata": {},
   "source": [
    "Compute the solution vector $\\xvec$, given $\\Amtrx$ and $\\bvec$:\n",
    "\n",
    "\\begin{equation*}\n",
    "\\Amtrx\\,\\xvec= \\bvec .\n",
    "\\end{equation*}"
   ]
  },
  {
   "cell_type": "code",
   "execution_count": 7,
   "metadata": {
    "ExecuteTime": {
     "end_time": "2021-11-04T20:18:20.747855Z",
     "start_time": "2021-11-04T20:18:20.741477Z"
    }
   },
   "outputs": [
    {
     "name": "stdout",
     "output_type": "stream",
     "text": [
      "A =\n",
      " [[ 708.436  461.47   724.449  801.618 ...  118.584    4.165  448.221  571.944]\n",
      " [ -71.489  534.075  -76.713  -15.211 ...  627.316  423.933  239.558  481.042]\n",
      " [ 406.115 -109.865  492.07   248.783 ...  247.235  668.909  200.655   52.443]\n",
      " [ 682.763  318.154  111.832  558.566 ...  788.839  -82.572  407.097  500.705]\n",
      " ...\n",
      " [ 684.103 -111.584  234.161   -8.208 ...  383.604  307.562  182.475  690.947]\n",
      " [ -96.121  628.19    48.544  409.389 ...  550.87   369.348  202.335  250.436]\n",
      " [ 736.085  675.698  332.83   286.68  ...  547.018  -33.948  195.304  635.009]\n",
      " [   0.       0.       0.       0.    ...    0.       0.       0.       0.   ]]\n"
     ]
    }
   ],
   "source": [
    "'''Any A matrix'''\n",
    "\n",
    "import numpy as np\n",
    "\n",
    "nrows = 20\n",
    "ncols = 32\n",
    "\n",
    "a = -120.2\n",
    "b =  808.7\n",
    "\n",
    "set_rank_deficient = True # set to True or False\n",
    "\n",
    "a_mtrx = (b-a)*np.random.random((nrows,ncols)) + a\n",
    "\n",
    "if set_rank_deficient:\n",
    "    if nrows >= ncols:\n",
    "        a_mtrx[:,-1] = 0.0\n",
    "    if nrows < ncols:\n",
    "        a_mtrx[-1,:] = 0.0\n",
    "        \n",
    "np.set_printoptions(precision=3, threshold=100, edgeitems=4, linewidth=100)\n",
    "print('A =\\n',a_mtrx)"
   ]
  },
  {
   "cell_type": "code",
   "execution_count": 8,
   "metadata": {
    "ExecuteTime": {
     "end_time": "2021-11-04T20:18:23.995869Z",
     "start_time": "2021-11-04T20:18:23.985148Z"
    }
   },
   "outputs": [
    {
     "name": "stdout",
     "output_type": "stream",
     "text": [
      "S shape   =  (20, 32)\n",
      "Rank of S =  19\n",
      "Matrix is rank deficient.\n"
     ]
    }
   ],
   "source": [
    "'''Rank of A'''\n",
    "\n",
    "try:    \n",
    "    from chen_3170.toolkit import matrix_rank   \n",
    "except ModuleNotFoundError:\n",
    "    assert False, 'You need to provide your own matrix_rank function here. Bailing out.'\n",
    "\n",
    "a_rank = matrix_rank(a_mtrx)\n",
    "print('S shape   = ',a_mtrx.shape)\n",
    "print('Rank of S = ',a_rank)\n",
    "\n",
    "if a_rank == min(a_mtrx.shape):\n",
    "    print('Matrix is full rank.')\n",
    "else:\n",
    "    print('Matrix is rank deficient.')\n",
    "    \n",
    "assert a_rank == np.linalg.matrix_rank(a_mtrx)"
   ]
  },
  {
   "cell_type": "code",
   "execution_count": 9,
   "metadata": {
    "ExecuteTime": {
     "end_time": "2021-11-04T20:18:27.753016Z",
     "start_time": "2021-11-04T20:18:27.748449Z"
    }
   },
   "outputs": [
    {
     "name": "stdout",
     "output_type": "stream",
     "text": [
      "b_vec =\n",
      " [-30.126 -24.589  -6.008  -7.229 -31.353 -31.921 -38.534  -9.011 -24.725 -21.681 -36.192   2.575\n",
      " -27.605 -24.693  -3.983 -10.827 -23.225 -10.061  -3.2    -9.19 ]\n"
     ]
    }
   ],
   "source": [
    "'''Any right side vector'''\n",
    "\n",
    "import numpy as np\n",
    "\n",
    "a = -40.2\n",
    "b =  3.7\n",
    "\n",
    "b_vec = (b-a)*np.random.random(nrows) + a # production rates\n",
    "\n",
    "np.set_printoptions(precision=3, threshold=100, edgeitems=3, linewidth=100)\n",
    "print('b_vec =\\n',b_vec)"
   ]
  },
  {
   "cell_type": "code",
   "execution_count": 15,
   "metadata": {
    "ExecuteTime": {
     "end_time": "2021-11-04T20:19:33.970368Z",
     "start_time": "2021-11-04T20:19:33.919190Z"
    }
   },
   "outputs": [
    {
     "ename": "AssertionError",
     "evalue": "zero value on diagonal \n diag U = array([4.950e+06, 3.089e+06, 1.982e+06, 1.832e+06, 1.822e+06, 1.456e+06, 1.417e+06, 1.216e+06,\n       1.059e+06, 1.019e+06, 8.783e+05, 8.080e+05, 7.228e+05, 6.021e+05, 4.902e+05, 4.327e+05,\n       3.121e+05, 1.801e+05, 1.324e+05, 1.882e-07, 2.128e-07, 2.036e-07, 9.464e-08, 1.133e-07,\n       1.155e-07, 1.927e-07, 1.953e-07, 2.001e-07, 1.519e-07, 1.213e-07, 1.699e-07, 2.092e-07])",
     "output_type": "error",
     "traceback": [
      "\u001b[0;31m---------------------------------------------------------------------------\u001b[0m",
      "\u001b[0;31mAssertionError\u001b[0m                            Traceback (most recent call last)",
      "\u001b[0;32m/var/folders/qv/wk67wrtn2gg54g85zd7cnr70zgk8rz/T/ipykernel_60051/4066994551.py\u001b[0m in \u001b[0;36m<module>\u001b[0;34m\u001b[0m\n\u001b[1;32m      6\u001b[0m     \u001b[0;32massert\u001b[0m \u001b[0;32mFalse\u001b[0m\u001b[0;34m,\u001b[0m \u001b[0;34m'You need to provide your own lu_factorization function here. Bailing out.'\u001b[0m\u001b[0;34m\u001b[0m\u001b[0;34m\u001b[0m\u001b[0m\n\u001b[1;32m      7\u001b[0m \u001b[0;34m\u001b[0m\u001b[0m\n\u001b[0;32m----> 8\u001b[0;31m \u001b[0mx_vec\u001b[0m \u001b[0;34m=\u001b[0m \u001b[0muniversal_solve\u001b[0m\u001b[0;34m(\u001b[0m\u001b[0ma_mtrx\u001b[0m\u001b[0;34m,\u001b[0m \u001b[0mb_vec\u001b[0m\u001b[0;34m,\u001b[0m \u001b[0mpivot_tol\u001b[0m\u001b[0;34m=\u001b[0m\u001b[0;36m1e-6\u001b[0m\u001b[0;34m,\u001b[0m \u001b[0mzero_tol\u001b[0m\u001b[0;34m=\u001b[0m\u001b[0;36m1e-9\u001b[0m\u001b[0;34m)\u001b[0m\u001b[0;34m\u001b[0m\u001b[0;34m\u001b[0m\u001b[0m\n\u001b[0m\u001b[1;32m      9\u001b[0m \u001b[0;34m\u001b[0m\u001b[0m\n\u001b[1;32m     10\u001b[0m \u001b[0mprint\u001b[0m\u001b[0;34m(\u001b[0m\u001b[0;34m'max(abs(b - Ax)) = %3.3e'\u001b[0m\u001b[0;34m%\u001b[0m\u001b[0mnp\u001b[0m\u001b[0;34m.\u001b[0m\u001b[0mmax\u001b[0m\u001b[0;34m(\u001b[0m\u001b[0mnp\u001b[0m\u001b[0;34m.\u001b[0m\u001b[0mabs\u001b[0m\u001b[0;34m(\u001b[0m\u001b[0mb_vec\u001b[0m\u001b[0;34m-\u001b[0m\u001b[0ma_mtrx\u001b[0m\u001b[0;34m@\u001b[0m\u001b[0mx_vec\u001b[0m\u001b[0;34m)\u001b[0m\u001b[0;34m)\u001b[0m\u001b[0;34m)\u001b[0m\u001b[0;34m\u001b[0m\u001b[0;34m\u001b[0m\u001b[0m\n",
      "\u001b[0;32m~/OneDrive - University of Massachusetts Lowell - UMass Lowell/uml-courses/chen-3170/2021-09-12-fall/jupynb-repo/notebooks/chen_3170/toolkit.py\u001b[0m in \u001b[0;36muniversal_solve\u001b[0;34m(a_mtrx, b_vec, epsilon_min, pivoting_option, pivot_tol, zero_tol)\u001b[0m\n\u001b[1;32m    658\u001b[0m         \u001b[0mvec\u001b[0m  \u001b[0;34m=\u001b[0m \u001b[0ma_mtrx\u001b[0m\u001b[0;34m.\u001b[0m\u001b[0mtranspose\u001b[0m\u001b[0;34m(\u001b[0m\u001b[0;34m)\u001b[0m \u001b[0;34m@\u001b[0m \u001b[0mb_vec\u001b[0m\u001b[0;34m\u001b[0m\u001b[0;34m\u001b[0m\u001b[0m\n\u001b[1;32m    659\u001b[0m \u001b[0;34m\u001b[0m\u001b[0m\n\u001b[0;32m--> 660\u001b[0;31m         x_vec = solve(mtrx, vec, pivoting_option=pivoting_option,\n\u001b[0m\u001b[1;32m    661\u001b[0m                       pivot_tol=pivot_tol, zero_tol=zero_tol)\n\u001b[1;32m    662\u001b[0m \u001b[0;34m\u001b[0m\u001b[0m\n",
      "\u001b[0;32m~/OneDrive - University of Massachusetts Lowell - UMass Lowell/uml-courses/chen-3170/2021-09-12-fall/jupynb-repo/notebooks/chen_3170/toolkit.py\u001b[0m in \u001b[0;36msolve\u001b[0;34m(a_mtrx, b_vec, pivoting_option, pivot_tol, zero_tol)\u001b[0m\n\u001b[1;32m    584\u001b[0m         \u001b[0my\u001b[0m \u001b[0;34m=\u001b[0m \u001b[0mforward_solve\u001b[0m\u001b[0;34m(\u001b[0m\u001b[0ml\u001b[0m\u001b[0;34m,\u001b[0m \u001b[0mp\u001b[0m\u001b[0;34m@\u001b[0m\u001b[0mb_vec\u001b[0m\u001b[0;34m,\u001b[0m \u001b[0mdiag_tol\u001b[0m\u001b[0;34m=\u001b[0m\u001b[0mpivot_tol\u001b[0m\u001b[0;34m,\u001b[0m \u001b[0mzero_tol\u001b[0m\u001b[0;34m=\u001b[0m\u001b[0mzero_tol\u001b[0m\u001b[0;34m)\u001b[0m\u001b[0;34m\u001b[0m\u001b[0;34m\u001b[0m\u001b[0m\n\u001b[1;32m    585\u001b[0m         \u001b[0;31m#Backward solve\u001b[0m\u001b[0;34m\u001b[0m\u001b[0;34m\u001b[0m\u001b[0;34m\u001b[0m\u001b[0m\n\u001b[0;32m--> 586\u001b[0;31m         \u001b[0mz\u001b[0m \u001b[0;34m=\u001b[0m \u001b[0mbackward_solve\u001b[0m\u001b[0;34m(\u001b[0m\u001b[0mu\u001b[0m\u001b[0;34m,\u001b[0m \u001b[0my\u001b[0m\u001b[0;34m,\u001b[0m \u001b[0mdiag_tol\u001b[0m\u001b[0;34m=\u001b[0m\u001b[0mpivot_tol\u001b[0m\u001b[0;34m,\u001b[0m \u001b[0mzero_tol\u001b[0m\u001b[0;34m=\u001b[0m\u001b[0mzero_tol\u001b[0m\u001b[0;34m)\u001b[0m\u001b[0;34m\u001b[0m\u001b[0;34m\u001b[0m\u001b[0m\n\u001b[0m\u001b[1;32m    587\u001b[0m         \u001b[0;31m#Column permutation\u001b[0m\u001b[0;34m\u001b[0m\u001b[0;34m\u001b[0m\u001b[0;34m\u001b[0m\u001b[0m\n\u001b[1;32m    588\u001b[0m         \u001b[0mx\u001b[0m \u001b[0;34m=\u001b[0m \u001b[0mq\u001b[0m \u001b[0;34m@\u001b[0m \u001b[0mz\u001b[0m\u001b[0;34m\u001b[0m\u001b[0;34m\u001b[0m\u001b[0m\n",
      "\u001b[0;32m~/OneDrive - University of Massachusetts Lowell - UMass Lowell/uml-courses/chen-3170/2021-09-12-fall/jupynb-repo/notebooks/chen_3170/toolkit.py\u001b[0m in \u001b[0;36mbackward_solve\u001b[0;34m(u_mtrx, b_vec, loop_option, diag_tol, zero_tol)\u001b[0m\n\u001b[1;32m    490\u001b[0m     \u001b[0;32massert\u001b[0m \u001b[0mu_mtrx\u001b[0m\u001b[0;34m.\u001b[0m\u001b[0mshape\u001b[0m\u001b[0;34m[\u001b[0m\u001b[0;36m0\u001b[0m\u001b[0;34m]\u001b[0m \u001b[0;34m==\u001b[0m \u001b[0mu_mtrx\u001b[0m\u001b[0;34m.\u001b[0m\u001b[0mshape\u001b[0m\u001b[0;34m[\u001b[0m\u001b[0;36m1\u001b[0m\u001b[0;34m]\u001b[0m\u001b[0;34m,\u001b[0m \u001b[0;34m'non-square matrix'\u001b[0m\u001b[0;34m\u001b[0m\u001b[0;34m\u001b[0m\u001b[0m\n\u001b[1;32m    491\u001b[0m \u001b[0;34m\u001b[0m\u001b[0m\n\u001b[0;32m--> 492\u001b[0;31m     \u001b[0;32massert\u001b[0m \u001b[0mnp\u001b[0m\u001b[0;34m.\u001b[0m\u001b[0mall\u001b[0m\u001b[0;34m(\u001b[0m\u001b[0mnp\u001b[0m\u001b[0;34m.\u001b[0m\u001b[0mabs\u001b[0m\u001b[0;34m(\u001b[0m\u001b[0mnp\u001b[0m\u001b[0;34m.\u001b[0m\u001b[0mdiagonal\u001b[0m\u001b[0;34m(\u001b[0m\u001b[0mu_mtrx\u001b[0m\u001b[0;34m)\u001b[0m\u001b[0;34m)\u001b[0m \u001b[0;34m>\u001b[0m \u001b[0mdiag_tol\u001b[0m\u001b[0;34m)\u001b[0m\u001b[0;34m,\u001b[0m\u001b[0;31m\\\u001b[0m\u001b[0;34m\u001b[0m\u001b[0;34m\u001b[0m\u001b[0m\n\u001b[0m\u001b[1;32m    493\u001b[0m             \u001b[0;34m'zero value on diagonal \\n diag U = %r'\u001b[0m\u001b[0;34m%\u001b[0m\u001b[0;34m(\u001b[0m\u001b[0mnp\u001b[0m\u001b[0;34m.\u001b[0m\u001b[0mdiagonal\u001b[0m\u001b[0;34m(\u001b[0m\u001b[0mu_mtrx\u001b[0m\u001b[0;34m)\u001b[0m\u001b[0;34m)\u001b[0m\u001b[0;34m\u001b[0m\u001b[0;34m\u001b[0m\u001b[0m\n\u001b[1;32m    494\u001b[0m \u001b[0;34m\u001b[0m\u001b[0m\n",
      "\u001b[0;31mAssertionError\u001b[0m: zero value on diagonal \n diag U = array([4.950e+06, 3.089e+06, 1.982e+06, 1.832e+06, 1.822e+06, 1.456e+06, 1.417e+06, 1.216e+06,\n       1.059e+06, 1.019e+06, 8.783e+05, 8.080e+05, 7.228e+05, 6.021e+05, 4.902e+05, 4.327e+05,\n       3.121e+05, 1.801e+05, 1.324e+05, 1.882e-07, 2.128e-07, 2.036e-07, 9.464e-08, 1.133e-07,\n       1.155e-07, 1.927e-07, 1.953e-07, 2.001e-07, 1.519e-07, 1.213e-07, 1.699e-07, 2.092e-07])"
     ]
    }
   ],
   "source": [
    "import numpy as np\n",
    "\n",
    "try:    \n",
    "    from chen_3170.toolkit import universal_solve   \n",
    "except ModuleNotFoundError:\n",
    "    assert False, 'You need to provide your own lu_factorization function here. Bailing out.'\n",
    "\n",
    "x_vec = universal_solve(a_mtrx, b_vec, pivot_tol=1e-6, zero_tol=1e-9)\n",
    "\n",
    "print('max(abs(b - Ax)) = %3.3e'%np.max(np.abs(b_vec-a_mtrx@x_vec)))"
   ]
  },
  {
   "cell_type": "code",
   "execution_count": null,
   "metadata": {},
   "outputs": [],
   "source": [
    "'''Minimum norm least-squares reaction rates'''\n",
    "\n",
    "from matplotlib import pyplot as plt # import the pyplot function of the matplotlib package\n",
    "%matplotlib inline\n",
    "plt.style.use('dark_background')\n",
    "\n",
    "fig, ax = plt.subplots(figsize=(20,6))\n",
    "ax.bar(range(x_vec.size), x_vec, color='orange')\n",
    "\n",
    "ax.set_ylabel('X vector',fontsize=16)\n",
    "ax.set_xlabel('X vector element',fontsize=16)\n",
    "ax.xaxis.grid(True,linestyle='-',which='major',color='lightgrey',alpha=0.9)\n",
    "fig.suptitle('Minimum Norm LS Reaction Rates (Rank %s)'%str(a_rank),fontsize=20)\n",
    "plt.show()"
   ]
  },
  {
   "cell_type": "markdown",
   "metadata": {},
   "source": [
    "## [Anomalous Linear Least-Squares Data Fitting](#toc)<a id=\"fit\"></a>\n",
    "\n",
    "Example of data fitting where the universal solver is the only way to find a satisfactory fit."
   ]
  },
  {
   "cell_type": "code",
   "execution_count": 16,
   "metadata": {
    "ExecuteTime": {
     "end_time": "2021-11-04T20:20:21.135626Z",
     "start_time": "2021-11-04T20:20:21.131654Z"
    }
   },
   "outputs": [],
   "source": [
    "import numpy as np\n",
    "\n",
    "m_pts = 7\n",
    "\n",
    "x_values = 1*np.ones(m_pts)\n",
    "y_values = 1.12 * abs(np.random.random(m_pts))\n",
    "\n",
    "a_mtrx = np.zeros((m_pts, 2))\n",
    "a_mtrx[:,0] = np.ones(m_pts)\n",
    "a_mtrx[:,1] = -x_values\n"
   ]
  },
  {
   "cell_type": "code",
   "execution_count": 17,
   "metadata": {
    "ExecuteTime": {
     "end_time": "2021-11-04T20:20:23.574402Z",
     "start_time": "2021-11-04T20:20:23.287148Z"
    }
   },
   "outputs": [
    {
     "data": {
      "image/png": "[encoded data removed]",
      "text/plain": [
       "<Figure size 504x504 with 1 Axes>"
      ]
     },
     "metadata": {},
     "output_type": "display_data"
    }
   ],
   "source": [
    "import matplotlib.pyplot as plt\n",
    "%matplotlib inline\n",
    "plt.style.use('dark_background')\n",
    "    \n",
    "plt.figure(1, figsize=(7, 7))\n",
    "\n",
    "plt.plot(x_values, y_values, 'r*', label='experimental')\n",
    "    \n",
    "plt.xlabel(r'$x$ []',fontsize=14)\n",
    "plt.ylabel(r'$y$ []',fontsize=14)\n",
    "plt.xlim(min(x_values)-.1, max(x_values)+.1)\n",
    "plt.title('Some Arbitrary Data',fontsize=20)\n",
    "plt.legend(loc='best',fontsize=12)\n",
    "plt.grid(True)\n",
    "plt.show()"
   ]
  },
  {
   "cell_type": "code",
   "execution_count": 18,
   "metadata": {
    "ExecuteTime": {
     "end_time": "2021-11-04T20:20:31.913223Z",
     "start_time": "2021-11-04T20:20:31.907911Z"
    }
   },
   "outputs": [
    {
     "name": "stdout",
     "output_type": "stream",
     "text": [
      "Rank-deficient matrix\n",
      "matrix rank =  1\n"
     ]
    }
   ],
   "source": [
    "try:    \n",
    "    from chen_3170.toolkit import matrix_rank   \n",
    "except ModuleNotFoundError:\n",
    "    assert False, 'You need to provide your own lu_factorization function here. Bailing out.'\n",
    "\n",
    "rank = matrix_rank(a_mtrx)\n",
    "\n",
    "if rank == min(np.shape(a_mtrx)):\n",
    "    print('Full-rank matrix')\n",
    "else:\n",
    "    print('Rank-deficient matrix')\n",
    "print('matrix rank = ', rank)"
   ]
  },
  {
   "cell_type": "code",
   "execution_count": 19,
   "metadata": {
    "ExecuteTime": {
     "end_time": "2021-11-04T20:20:35.245289Z",
     "start_time": "2021-11-04T20:20:35.235886Z"
    }
   },
   "outputs": [],
   "source": [
    "try:    \n",
    "    from chen_3170.toolkit import universal_solve   \n",
    "    from chen_3170.toolkit import solve  \n",
    "except ModuleNotFoundError:\n",
    "    assert False, 'You need to provide your own lu_factorization function here. Bailing out.'\n",
    "    \n",
    "x_vec = universal_solve(a_mtrx, y_values, epsilon_min=-6, pivot_tol=1e-9)\n",
    "\n",
    "#this will not work: x_vec = solve(a_mtrx.transpose()@a_mtrx, a_mtrx.transpose()@y_values, pivot_tol=1e-7)"
   ]
  },
  {
   "cell_type": "code",
   "execution_count": 20,
   "metadata": {
    "ExecuteTime": {
     "end_time": "2021-11-04T20:20:49.614826Z",
     "start_time": "2021-11-04T20:20:49.422139Z"
    }
   },
   "outputs": [
    {
     "data": {
      "image/png": "[encoded data removed]",
      "text/plain": [
       "<Figure size 504x504 with 1 Axes>"
      ]
     },
     "metadata": {},
     "output_type": "display_data"
    }
   ],
   "source": [
    "import matplotlib.pyplot as plt\n",
    "%matplotlib inline\n",
    "plt.style.use('dark_background')\n",
    "    \n",
    "plt.figure(1, figsize=(7, 7))\n",
    "\n",
    "n_plot_pts = 15\n",
    "x_plot = np.linspace(min(x_values)-.01, max(x_values)+.01, n_plot_pts)\n",
    "a_mtrx_x = np.ones((n_plot_pts, 2))\n",
    "a_mtrx_x[:,1]= -x_plot\n",
    "\n",
    "plt.plot(x_values, y_values,'r*',label='experimental')\n",
    "plt.plot(x_plot, a_mtrx_x@x_vec,'y*',label='MNLS')\n",
    "    \n",
    "plt.xlabel(r'$x$ []',fontsize=14)\n",
    "plt.xlim(min(x_values)-.01, max(x_values)+.01)\n",
    "plt.ylabel(r'$y$ []',fontsize=14)\n",
    "plt.title('Arrhenius Rxn Rate Constant Data',fontsize=20)\n",
    "plt.legend(loc='best',fontsize=12)\n",
    "plt.grid(True)\n",
    "plt.show()"
   ]
  },
  {
   "cell_type": "code",
   "execution_count": 21,
   "metadata": {
    "ExecuteTime": {
     "end_time": "2021-11-04T20:20:58.996343Z",
     "start_time": "2021-11-04T20:20:58.991497Z"
    }
   },
   "outputs": [
    {
     "data": {
      "text/plain": [
       "array([0.824, 1.113, 1.079, 0.382, 0.157, 0.047, 0.811])"
      ]
     },
     "execution_count": 21,
     "metadata": {},
     "output_type": "execute_result"
    }
   ],
   "source": [
    "y_values"
   ]
  },
  {
   "cell_type": "code",
   "execution_count": 22,
   "metadata": {
    "ExecuteTime": {
     "end_time": "2021-11-04T20:21:00.301796Z",
     "start_time": "2021-11-04T20:21:00.296606Z"
    }
   },
   "outputs": [
    {
     "data": {
      "text/plain": [
       "0.6305004350327662"
      ]
     },
     "execution_count": 22,
     "metadata": {},
     "output_type": "execute_result"
    }
   ],
   "source": [
    "y_values.mean()"
   ]
  },
  {
   "cell_type": "code",
   "execution_count": 23,
   "metadata": {
    "ExecuteTime": {
     "end_time": "2021-11-04T20:21:01.708790Z",
     "start_time": "2021-11-04T20:21:01.704292Z"
    }
   },
   "outputs": [
    {
     "data": {
      "text/plain": [
       "array([0.627, 0.628, 0.628, 0.629, 0.629, 0.63 , 0.63 , 0.631, 0.631, 0.631, 0.632, 0.632, 0.633,\n",
       "       0.633, 0.634])"
      ]
     },
     "execution_count": 23,
     "metadata": {},
     "output_type": "execute_result"
    }
   ],
   "source": [
    "a_mtrx_x@x_vec"
   ]
  },
  {
   "cell_type": "code",
   "execution_count": 24,
   "metadata": {
    "ExecuteTime": {
     "end_time": "2021-11-04T20:21:03.231683Z",
     "start_time": "2021-11-04T20:21:03.227610Z"
    }
   },
   "outputs": [
    {
     "data": {
      "text/plain": [
       "0.6305003899970243"
      ]
     },
     "execution_count": 24,
     "metadata": {},
     "output_type": "execute_result"
    }
   ],
   "source": [
    "(a_mtrx_x@x_vec).mean()"
   ]
  },
  {
   "cell_type": "code",
   "execution_count": null,
   "metadata": {},
   "outputs": [],
   "source": []
  }
 ],
 "metadata": {
  "kernelspec": {
   "display_name": "Python 3 (ipykernel)",
   "language": "python",
   "name": "python3"
  },
  "language_info": {
   "codemirror_mode": {
    "name": "ipython",
    "version": 3
   },
   "file_extension": ".py",
   "mimetype": "text/x-python",
   "name": "python",
   "nbconvert_exporter": "python",
   "pygments_lexer": "ipython3",
   "version": "3.8.11"
  },
  "latex_envs": {
   "LaTeX_envs_menu_present": true,
   "autoclose": false,
   "autocomplete": true,
   "bibliofile": "biblio.bib",
   "cite_by": "apalike",
   "current_citInitial": 1,
   "eqLabelWithNumbers": true,
   "eqNumInitial": 1,
   "hotkeys": {
    "equation": "Ctrl-E",
    "itemize": "Ctrl-I"
   },
   "labels_anchors": false,
   "latex_user_defs": false,
   "report_style_numbering": false,
   "user_envs_cfg": false
  }
 },
 "nbformat": 4,
 "nbformat_minor": 2
}
