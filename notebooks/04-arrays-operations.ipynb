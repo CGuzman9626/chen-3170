{
 "cells": [
  {
   "cell_type": "markdown",
   "metadata": {},
   "source": [
    "ChEn-3170: Computational Methods in Chemical Engineering Fall 2021 UMass Lowell; Prof. V. F. de Almeida **07Sep21**\n",
    "\n",
    "# 04. Array Operations\n",
    "$  \n",
    "  \\newcommand{\\Amtrx}{\\boldsymbol{\\mathsf{A}}}\n",
    "  \\newcommand{\\Bmtrx}{\\boldsymbol{\\mathsf{B}}}\n",
    "  \\newcommand{\\Cmtrx}{\\boldsymbol{\\mathsf{C}}}\n",
    "  \\newcommand{\\Dmtrx}{\\boldsymbol{\\mathsf{D}}}\n",
    "  \\newcommand{\\Mmtrx}{\\boldsymbol{\\mathsf{M}}}\n",
    "  \\newcommand{\\Imtrx}{\\boldsymbol{\\mathsf{I}}}\n",
    "  \\newcommand{\\Pmtrx}{\\boldsymbol{\\mathsf{P}}}\n",
    "  \\newcommand{\\Qmtrx}{\\boldsymbol{\\mathsf{Q}}}\n",
    "  \\newcommand{\\Lmtrx}{\\boldsymbol{\\mathsf{L}}}\n",
    "  \\newcommand{\\Umtrx}{\\boldsymbol{\\mathsf{U}}}\n",
    "  \\newcommand{\\xvec}{\\boldsymbol{\\mathsf{x}}}\n",
    "  \\newcommand{\\avec}{\\boldsymbol{\\mathsf{a}}}\n",
    "  \\newcommand{\\bvec}{\\boldsymbol{\\mathsf{b}}}\n",
    "  \\newcommand{\\vvec}{\\boldsymbol{\\mathsf{v}}}\n",
    "  \\newcommand{\\cvec}{\\boldsymbol{\\mathsf{c}}}\n",
    "  \\newcommand{\\rvec}{\\boldsymbol{\\mathsf{r}}}\n",
    "  \\newcommand{\\norm}[1]{\\bigl\\lVert{#1}\\bigr\\rVert}\n",
    "  \\DeclareMathOperator{\\rank}{rank}\n",
    "$"
   ]
  },
  {
   "cell_type": "markdown",
   "metadata": {},
   "source": [
    "---\n",
    "## Table of Contents<a id=\"toc\">\n",
    "* [Objectives](#obj)\n",
    "* [Formatting Output](#format)\n",
    "* [Vectors](#vectors)\n",
    "   + [Element-by-element addition/subtraction](#vecaddsub)\n",
    "   + [Element-by-element product/division](#vecproddiv)\n",
    "   + [Self product](#vecselfprod)\n",
    "   + [Inner product (dot product)](#vecinnerprod)\n",
    "   + [Scaling (element-by-element multiplication/division by scalar)](#vecscale)\n",
    "   + [Element-by-element mathematical operations](#vecops)\n",
    "   + [Element-by-element search](#vecsearch)\n",
    "   + [Zip vectors](#veczip)\n",
    "* [Matrices](#matrices)\n",
    "   + [Element-by-element addition/subtraction](#mataddsub)\n",
    "   + [Element-by-element product/division](#matproddiv)\n",
    "   + [Scaling (element-by-element multiplication/division by scalar)](#matscale)\n",
    "   + [Element-by-element mathematical operations](#matops)\n",
    "   + [Transposition](#mattransp)\n",
    "     - `Numpy` `set_printoptions()` method\n",
    "   + [Element-by-element search](#matsearch)\n",
    "---"
   ]
  },
  {
   "cell_type": "markdown",
   "metadata": {},
   "source": [
    "## [Objectives](#toc)<a id=\"obj\"></a>\n",
    "\n",
    " + Cover basic array operations in 1-D (vectors) and 2-D (matrices) needed throughout the course."
   ]
  },
  {
   "cell_type": "code",
   "execution_count": 1,
   "metadata": {},
   "outputs": [],
   "source": [
    "'''Python packages are accessed with an import directive as such:'''\n",
    "\n",
    "import numpy as np  # import the package and create the alias: np"
   ]
  },
  {
   "cell_type": "markdown",
   "metadata": {},
   "source": [
    "## [Formatting Output](#toc)<a id=\"format\"></a>"
   ]
  },
  {
   "cell_type": "markdown",
   "metadata": {},
   "source": [
    "* Scientific notation"
   ]
  },
  {
   "cell_type": "code",
   "execution_count": 2,
   "metadata": {},
   "outputs": [
    {
     "name": "stdout",
     "output_type": "stream",
     "text": [
      "pi =     3.14159e+00\n"
     ]
    }
   ],
   "source": [
    "import math\n",
    "\n",
    "pi = math.pi\n",
    "\n",
    "print('pi = %15.5e'%pi) # formatting numeric output: scientific notation"
   ]
  },
  {
   "cell_type": "code",
   "execution_count": 3,
   "metadata": {},
   "outputs": [
    {
     "name": "stdout",
     "output_type": "stream",
     "text": [
      "pi =    3.14159\n"
     ]
    }
   ],
   "source": [
    "print('pi = %10.5f'%pi) # formatting numeric output: float"
   ]
  },
  {
   "cell_type": "code",
   "execution_count": 4,
   "metadata": {},
   "outputs": [
    {
     "name": "stdout",
     "output_type": "stream",
     "text": [
      "pi = 3.14159e+00 and e =    2.718\n"
     ]
    }
   ],
   "source": [
    "print('pi = %10.5e and e = %8.3f'%(pi, math.e)) # formatting numeric output: sci. notation and float"
   ]
  },
  {
   "cell_type": "markdown",
   "metadata": {},
   "source": [
    "* `Numpy` arrays"
   ]
  },
  {
   "cell_type": "code",
   "execution_count": 8,
   "metadata": {},
   "outputs": [
    {
     "name": "stdout",
     "output_type": "stream",
     "text": [
      "[[0.9215 0.9218 0.7109 0.4418 0.9413 0.8651 ... 0.5199 0.5011 0.5848 0.9507 0.1476 0.979 ]\n",
      " [0.0376 0.0666 0.8694 0.1449 0.3423 0.8301 ... 0.2515 0.997  0.3298 0.6762 0.9248 0.9762]\n",
      " [0.0071 0.5879 0.5378 0.6471 0.6322 0.163  ... 0.4565 0.9912 0.3902 0.1685 0.099  0.3509]\n",
      " [0.6045 0.1973 0.0101 0.5103 0.3824 0.8464 ... 0.2924 0.8902 0.3819 0.5871 0.5313 0.5782]\n",
      " [0.8055 0.7514 0.7962 0.8436 0.9439 0.7194 ... 0.1047 0.1044 0.1089 0.0221 0.7562 0.6254]\n",
      " [0.2605 0.2035 0.457  0.3711 0.2247 0.9766 ... 0.4028 0.7215 0.9177 0.8254 0.221  0.1166]\n",
      " [0.1695 0.0125 0.386  0.7931 0.9483 0.8453 ... 0.2989 0.7226 0.6534 0.4342 0.7322 0.3836]\n",
      " [0.0733 0.0361 0.6943 0.5707 0.5822 0.4915 ... 0.4477 0.9527 0.2062 0.83   0.735  0.9048]\n",
      " [0.6323 0.3215 0.3455 0.5195 0.97   0.114  ... 0.4645 0.4024 0.4912 0.8287 0.368  0.4807]\n",
      " [0.2051 0.2612 0.0541 0.8466 0.1075 0.6887 ... 0.9908 0.5424 0.1062 0.1758 0.8317 0.1861]]\n"
     ]
    }
   ],
   "source": [
    "'''Use set print options in Numpy'''\n",
    "\n",
    "np.set_printoptions(precision=4, threshold=800, edgeitems=6, linewidth=105)\n",
    "\n",
    "mtrx = np.random.random((10,100))\n",
    "\n",
    "print(mtrx)"
   ]
  },
  {
   "cell_type": "code",
   "execution_count": null,
   "metadata": {},
   "outputs": [],
   "source": [
    "#help(np.set_printoptions)"
   ]
  },
  {
   "cell_type": "markdown",
   "metadata": {},
   "source": [
    "## [Vectors](#toc)<a id=\"vectors\"></a>"
   ]
  },
  {
   "cell_type": "markdown",
   "metadata": {},
   "source": [
    "**In all of engineering calculations use double-precision floating point numeric**"
   ]
  },
  {
   "cell_type": "code",
   "execution_count": 9,
   "metadata": {},
   "outputs": [
    {
     "name": "stdout",
     "output_type": "stream",
     "text": [
      "<class 'numpy.ndarray'>\n",
      "float64\n"
     ]
    }
   ],
   "source": [
    "'''Set double precision at creation time'''\n",
    "\n",
    "x_vec = np.empty(10, dtype=np.float64)\n",
    "\n",
    "print(type(x_vec))\n",
    "print(x_vec.dtype)"
   ]
  },
  {
   "cell_type": "code",
   "execution_count": 10,
   "metadata": {},
   "outputs": [
    {
     "name": "stdout",
     "output_type": "stream",
     "text": [
      "<class 'numpy.ndarray'>\n",
      "float64\n"
     ]
    }
   ],
   "source": [
    "'''Set double precision after creation'''\n",
    "\n",
    "x_vec = x_vec.astype(float)\n",
    "print(type(x_vec))\n",
    "print(x_vec.dtype)"
   ]
  },
  {
   "cell_type": "markdown",
   "metadata": {},
   "source": [
    "#### [Element-by-element addition/subtraction](#toc)<a id=\"vecaddsub\"></a>"
   ]
  },
  {
   "cell_type": "code",
   "execution_count": 11,
   "metadata": {},
   "outputs": [
    {
     "name": "stdout",
     "output_type": "stream",
     "text": [
      "vec1     = [0.7803 0.3296 0.6576 0.3031 0.425 ]\n",
      "vec2     = [0.7695 0.4493 0.3633 0.5821 0.6555]\n",
      "addition   = [1.5498 0.7789 1.021  0.8853 1.0805]\n",
      "difference = [ 0.0108 -0.1197  0.2943 -0.279  -0.2305]\n"
     ]
    }
   ],
   "source": [
    "'''Element-by-element addition or subtraction'''\n",
    "\n",
    "vec1 = np.array(np.random.random(5))\n",
    "print('vec1     =',vec1)\n",
    "\n",
    "vec2 = np.array(np.random.random(5))\n",
    "print('vec2     =',vec2)\n",
    "\n",
    "result = vec1 + vec2         # element-by-element sum\n",
    "print('addition   =',result)\n",
    "\n",
    "result = vec1 - vec2         # element-by-element subtraction\n",
    "print('difference =',result)"
   ]
  },
  {
   "cell_type": "markdown",
   "metadata": {},
   "source": [
    "#### [Element-by-element product/division](#toc)<a id=\"vecproddiv\"></a>"
   ]
  },
  {
   "cell_type": "code",
   "execution_count": 12,
   "metadata": {},
   "outputs": [
    {
     "name": "stdout",
     "output_type": "stream",
     "text": [
      "vec1    = [0.7546 0.5069 0.7965 0.0492 0.8305]\n",
      "vec2    = [0.1704 0.1345 0.2311 0.2581 0.9795]\n",
      "product  = [0.1286 0.0682 0.1841 0.0127 0.8135]\n",
      "division = [4.4296 3.7694 3.4471 0.1905 0.8478]\n"
     ]
    }
   ],
   "source": [
    "'''Element-by-element product or division'''\n",
    "\n",
    "vec1 = np.array(np.random.random(5))\n",
    "print('vec1    =',vec1)\n",
    "\n",
    "vec2 = np.array(np.random.random(5))\n",
    "print('vec2    =',vec2)\n",
    "\n",
    "result = vec1 * vec2        # element-by-element product\n",
    "print('product  =',result)\n",
    "\n",
    "result = vec1 / vec2        # element-by-element division\n",
    "print('division =',result)"
   ]
  },
  {
   "cell_type": "markdown",
   "metadata": {},
   "source": [
    "#### [Self product](#toc)<a id=\"vecselfprod\"></a>"
   ]
  },
  {
   "cell_type": "code",
   "execution_count": 13,
   "metadata": {},
   "outputs": [
    {
     "name": "stdout",
     "output_type": "stream",
     "text": [
      "vec1         = [0.7546 0.5069 0.7965 0.0492 0.8305]\n",
      "vec1 product = 0.012438104953125705\n"
     ]
    }
   ],
   "source": [
    "'''Product of all elements of a vector'''\n",
    "\n",
    "vec1_prod = np.prod(vec1)\n",
    "\n",
    "print('vec1         =', vec1)\n",
    "print('vec1 product =', vec1_prod)"
   ]
  },
  {
   "cell_type": "markdown",
   "metadata": {},
   "source": [
    "#### [Inner product (dot product)](#toc)<a id=\"vecinnerprod\"></a>"
   ]
  },
  {
   "cell_type": "markdown",
   "metadata": {},
   "source": [
    "The result of the inner product of two vectors: $\\vvec_1 \\cdot \\vvec_2$ is a scalar."
   ]
  },
  {
   "cell_type": "code",
   "execution_count": 14,
   "metadata": {},
   "outputs": [
    {
     "name": "stdout",
     "output_type": "stream",
     "text": [
      "vec1           = [0.8281 0.1662 0.8479 0.5177 0.5513]\n",
      "vec2           = [0.52   0.5915 0.0327 0.1878 0.5023]\n",
      "dot product = 0.9308175368384498\n"
     ]
    }
   ],
   "source": [
    "'''Vector inner product or dot product'''\n",
    "\n",
    "vec1 = np.array(np.random.random(5))\n",
    "print('vec1           =',vec1)\n",
    "\n",
    "vec2 = np.array(np.random.random(5))\n",
    "print('vec2           =',vec2)\n",
    "\n",
    "result = np.dot(vec1, vec2)     # inner or dot product\n",
    "print('dot product =',result)"
   ]
  },
  {
   "cell_type": "code",
   "execution_count": 15,
   "metadata": {
    "scrolled": true
   },
   "outputs": [
    {
     "name": "stdout",
     "output_type": "stream",
     "text": [
      "vec1 . vec2 =  0.9308175368384499\n"
     ]
    }
   ],
   "source": [
    "'''More on vector inner product or dot product'''\n",
    "'''Another way to compute the inner product'''\n",
    "\n",
    "ele_by_ele_product = vec1 * vec2\n",
    "\n",
    "inner_product = ele_by_ele_product.sum()\n",
    "\n",
    "print('vec1 . vec2 = ', inner_product)"
   ]
  },
  {
   "cell_type": "markdown",
   "metadata": {},
   "source": [
    "#### [Scaling (element-by-element multiplication/division by a scalar)](#toc)<a id=\"vecscale\"></a>"
   ]
  },
  {
   "cell_type": "code",
   "execution_count": 16,
   "metadata": {},
   "outputs": [
    {
     "name": "stdout",
     "output_type": "stream",
     "text": [
      "vec    = [0.8841 0.6296 0.928  0.475  0.0811]\n",
      "scaled = [0.305  0.2172 0.3202 0.1639 0.028 ]\n",
      "vec    = [0.305  0.2172 0.3202 0.1639 0.028 ]\n"
     ]
    }
   ],
   "source": [
    "'''Scaling of a vector'''\n",
    "\n",
    "vec = np.array(np.random.random(5))\n",
    "print('vec    =',vec)\n",
    "\n",
    "factor = 0.345\n",
    "scaled = factor * vec     # scaling of vec element-by-element product\n",
    "print('scaled =', scaled) # assigned to new variable `scaled`\n",
    "\n",
    "vec *= factor          # in-place scaling\n",
    "print('vec    =',vec)"
   ]
  },
  {
   "cell_type": "markdown",
   "metadata": {},
   "source": [
    "#### [Element-by-element mathematical operations](#toc)<a id=\"vecops\"></a>"
   ]
  },
  {
   "cell_type": "code",
   "execution_count": 17,
   "metadata": {},
   "outputs": [
    {
     "name": "stdout",
     "output_type": "stream",
     "text": [
      "vec      = [0.9718 0.5388 0.0355 0.2574 0.4081]\n",
      "log(vec) = [-0.0286 -0.6185 -3.3369 -1.3573 -0.8961]\n",
      "exp(vec) = [0.9718 0.5388 0.0355 0.2574 0.4081]\n",
      "sin(vec) = [0.8259 0.5131 0.0355 0.2545 0.3969]\n",
      "vec^3    = [9.1783e-01 1.5639e-01 4.4911e-05 1.7047e-02 6.7990e-02]\n",
      "mean(vec) = 0.44233045763697654\n",
      "std(vec) = 0.3132146291074491\n"
     ]
    }
   ],
   "source": [
    "'''Mathematical Operations on a Vector'''\n",
    "\n",
    "vec = np.array(np.random.random(5))\n",
    "print('vec      =',vec)\n",
    "\n",
    "log_vec = np.log(vec)         # natural log element-by-element\n",
    "print('log(vec) =',log_vec)\n",
    "\n",
    "exp_vec = np.exp(log_vec)     # exponential\n",
    "print('exp(vec) =',exp_vec)\n",
    "\n",
    "sin_vec = np.sin(vec)         # sine\n",
    "print('sin(vec) =',sin_vec)\n",
    "\n",
    "vec_cubed = vec**3            # powers\n",
    "print('vec^3    =',vec_cubed)\n",
    "\n",
    "vec_mean = vec.mean()         # arithmetic mean\n",
    "print('mean(vec) =',vec_mean)\n",
    "\n",
    "vec_std = vec.std()           # standard deviation\n",
    "print('std(vec) =',vec_std)"
   ]
  },
  {
   "cell_type": "markdown",
   "metadata": {},
   "source": [
    "#### [Element-by-element search](#toc)<a id=\"vecsearch\"></a>"
   ]
  },
  {
   "cell_type": "code",
   "execution_count": 18,
   "metadata": {},
   "outputs": [
    {
     "name": "stdout",
     "output_type": "stream",
     "text": [
      "vec = [0.9718 0.5388 0.0355 0.2574 0.4081]\n",
      "indices =  [0 1 4]\n"
     ]
    }
   ],
   "source": [
    "'''Searching a vector for entries matching a test'''\n",
    "\n",
    "# what are the indices of the values in \"vec\" that satisfy: vec[] >= 0.3\n",
    "(idx_ids, ) = np.where(vec >= 0.3) \n",
    "\n",
    "print('vec =', vec)\n",
    "print('indices = ', idx_ids)"
   ]
  },
  {
   "cell_type": "code",
   "execution_count": 19,
   "metadata": {},
   "outputs": [
    {
     "name": "stdout",
     "output_type": "stream",
     "text": [
      "vec = [0.9718 0.5388 0.0355 0.2574 0.4081]\n",
      "indices =  []\n"
     ]
    }
   ],
   "source": [
    "'''Searching a vector for entries matching a test'''\n",
    "\n",
    "# what are the indices of the values in \"vec\" that satisfy: vec[] == 0.3\n",
    "(idx_ids, ) = np.where(vec == 0.3) \n",
    "\n",
    "print('vec =', vec)\n",
    "print('indices = ', idx_ids)"
   ]
  },
  {
   "cell_type": "markdown",
   "metadata": {},
   "source": [
    "#### [Zip vectors](#toc)<a id=\"veczip\"></a>"
   ]
  },
  {
   "cell_type": "code",
   "execution_count": 20,
   "metadata": {},
   "outputs": [
    {
     "name": "stdout",
     "output_type": "stream",
     "text": [
      "[(0.8280746383285155, 0.5199899618527384), (0.166219088045082, 0.5914651714365978), (0.8479341351663676, 0.03270298172977504), (0.5177128132871368, 0.18778090168107842), (0.5513442954808506, 0.5023497743334875)]\n"
     ]
    }
   ],
   "source": [
    "'''Zip creates tuples on the fly'''\n",
    "\n",
    "print(list(zip(vec1, vec2)))"
   ]
  },
  {
   "cell_type": "code",
   "execution_count": 21,
   "metadata": {},
   "outputs": [
    {
     "data": {
      "text/plain": [
       "<zip at 0x7fcd483a9d40>"
      ]
     },
     "execution_count": 21,
     "metadata": {},
     "output_type": "execute_result"
    }
   ],
   "source": [
    "zip(vec1,vec2)"
   ]
  },
  {
   "cell_type": "markdown",
   "metadata": {},
   "source": [
    "## [Matrices](#toc)<a id=\"matrices\"></a>"
   ]
  },
  {
   "cell_type": "markdown",
   "metadata": {},
   "source": [
    "**In all of engineering calculations use double-precision floating point numeric**"
   ]
  },
  {
   "cell_type": "code",
   "execution_count": null,
   "metadata": {},
   "outputs": [],
   "source": [
    "'''Set double precision at creation time'''\n",
    "\n",
    "mtrx = np.empty((5,5), dtype=np.float64)\n",
    "\n",
    "print(type(mtrx))\n",
    "print(mtrx.dtype)"
   ]
  },
  {
   "cell_type": "code",
   "execution_count": null,
   "metadata": {},
   "outputs": [],
   "source": [
    "'''Set double precision after creation'''\n",
    "\n",
    "mtrx = mtrx.astype(float)\n",
    "print(type(mtrx))\n",
    "print(mtrx.dtype)"
   ]
  },
  {
   "cell_type": "markdown",
   "metadata": {},
   "source": [
    "#### [Element-by-element addition/subtraction](#toc)<a id=\"mataddsub\"></a>"
   ]
  },
  {
   "cell_type": "code",
   "execution_count": null,
   "metadata": {},
   "outputs": [],
   "source": [
    "'''Element-by-element addition or subtraction'''\n",
    "\n",
    "mat1 = np.random.random((3,3))\n",
    "print('mat1       =\\n', mat1)\n",
    "\n",
    "mat2 = np.random.random((3,3))\n",
    "print('mat2       =\\n', mat2)\n",
    "\n",
    "result = mat1 + mat2              # element-by-element sum\n",
    "print('addition   =\\n', result)\n",
    "\n",
    "result = mat1 - mat2              # element-by-element subtraction\n",
    "print('difference =\\n', result)"
   ]
  },
  {
   "cell_type": "markdown",
   "metadata": {},
   "source": [
    "#### [Element-by-element product/division](#toc)<a id=\"matproddiv\"></a>"
   ]
  },
  {
   "cell_type": "code",
   "execution_count": null,
   "metadata": {},
   "outputs": [],
   "source": [
    "'''Element-by-element product or division'''\n",
    "\n",
    "mat1 = np.random.random((3,3))\n",
    "print('mat1     =\\n', mat1)\n",
    "\n",
    "mat2 = np.random.random((3,3))\n",
    "print('mat2     =\\n', mat2)\n",
    "\n",
    "result = mat1 * mat2          # element-by-element product\n",
    "print('product  =\\n', result)\n",
    "\n",
    "result = mat1 / mat2          # element-by-element division (cross your fingers)\n",
    "print('division =\\n', result)"
   ]
  },
  {
   "cell_type": "code",
   "execution_count": null,
   "metadata": {},
   "outputs": [],
   "source": [
    "'''Produce Noise on a Matrix Image (brick data)'''\n",
    "\n",
    "from matplotlib import pyplot as plt     # import the pyplot function of the matplotlib package\n",
    "#%matplotlib inline\n",
    "plt.rcParams['figure.figsize'] = [20, 4] # extend the figure size on screen output\n",
    "\n",
    "# Read image from the images/ directory in the chen-3170 repo\n",
    "block = plt.imread('images/glacier.png', format='png')\n",
    "\n",
    "plt.figure(1)\n",
    "plt.imshow(block)\n",
    "plt.title('Matrix Reloaded', fontsize=14)\n",
    "plt.show()\n",
    "print('block shape =', block.shape)  # inspect the array shape"
   ]
  },
  {
   "cell_type": "code",
   "execution_count": null,
   "metadata": {},
   "outputs": [],
   "source": [
    "'''Use Matrix Element-by-Element Multiplication'''\n",
    "\n",
    "mtrx_shape = block.shape[0:2]                 # use the shape to automate noise_mtrx generation\n",
    "\n",
    "noise_mtrx = np.random.random(mtrx_shape)   # generate random matrix\n",
    "\n",
    "block_noise = block[:,:,2] * noise_mtrx   # apply noise to the blue channel\n",
    "\n",
    "plt.figure(2)\n",
    "plt.imshow(block_noise)\n",
    "plt.title('Noisy Block',fontsize=14)\n",
    "plt.show()"
   ]
  },
  {
   "cell_type": "code",
   "execution_count": null,
   "metadata": {},
   "outputs": [],
   "source": [
    "'''Matrix Scaling (matrix product or division by a scalar)'''\n",
    "\n",
    "mat1 = np.random.random((3,3))\n",
    "print('mat1      =\\n',mat1)\n",
    "\n",
    "factor = 3.21\n",
    "result = factor * mat1        # scaling of mat1 element-by-element; product with factor\n",
    "print('scaled   =\\n',result)"
   ]
  },
  {
   "cell_type": "markdown",
   "metadata": {},
   "source": [
    "#### [Scaling (element-by-element multiplication/division by a scalar)](#toc)<a id=\"matscale\"></a>"
   ]
  },
  {
   "cell_type": "code",
   "execution_count": null,
   "metadata": {},
   "outputs": [],
   "source": [
    "'''Matrix Scaling of an Image'''\n",
    "\n",
    "color_channel = np.copy(block[:,:,0])   # copy the red channel\n",
    "\n",
    "color_channel /= color_channel.max()    # scale to gray, 0-255 values\n",
    "color_channel *= 255\n",
    "gray_channel  = color_channel.astype(int) # truncate all float data type to int\n",
    "\n",
    "plt.figure(3)\n",
    "plt.imshow(gray_channel, cmap='gray')\n",
    "\n",
    "plt.title('Matrix Gray Scaling',fontsize=14)\n",
    "plt.show()"
   ]
  },
  {
   "cell_type": "markdown",
   "metadata": {},
   "source": [
    "#### [Element-by-element mathematical operations](#toc)<a id=\"matops\"></a>"
   ]
  },
  {
   "cell_type": "code",
   "execution_count": null,
   "metadata": {},
   "outputs": [],
   "source": [
    "'''Other Mathematical Operations on a Matrix'''\n",
    "\n",
    "mtrx = np.copy(block[:,:,0])    # copy the red channel\n",
    "\n",
    "plt.figure(4)\n",
    "plt.imshow(mtrx)              # show channel as a flat image with default colormap\n",
    "plt.title('Original', fontsize=14)\n",
    "plt.show()\n",
    "\n",
    "mtrx_mean = mtrx.mean()         # arithmetic mean\n",
    "print('mean(mtrx) =', mtrx_mean)\n",
    "\n",
    "mtrx_std = mtrx.std()           # standard deviation\n",
    "print('std(mtrx) =', mtrx_std)"
   ]
  },
  {
   "cell_type": "code",
   "execution_count": null,
   "metadata": {},
   "outputs": [],
   "source": [
    "'''Other Mathematical Operations on a Matrix'''\n",
    "\n",
    "log_mtrx = np.log(mtrx + .001)  # natural log element-by-element\n",
    "\n",
    "plt.figure(5)\n",
    "plt.imshow(log_mtrx)\n",
    "plt.title('Log Transform', fontsize=14)\n",
    "plt.show()\n",
    "\n",
    "mtrx_mean = log_mtrx.mean()         # arithmetic mean\n",
    "print('mean(mtrx) =', mtrx_mean)\n",
    "\n",
    "mtrx_std = log_mtrx.std()           # standard deviation\n",
    "print('std(mtrx) =', mtrx_std)"
   ]
  },
  {
   "cell_type": "code",
   "execution_count": null,
   "metadata": {},
   "outputs": [],
   "source": [
    "'''Other Mathematical Operations on a Matrix'''\n",
    "\n",
    "exp_mtrx = np.exp(log_mtrx)     # exponential\n",
    "\n",
    "plt.figure(6)\n",
    "plt.imshow(exp_mtrx)\n",
    "plt.title('Exp of Log Transform', fontsize=14)\n",
    "plt.show()\n",
    "\n",
    "mtrx_mean = exp_mtrx.mean()         # arithmetic mean\n",
    "print('mean(mtrx) =', mtrx_mean)\n",
    "\n",
    "mtrx_std = exp_mtrx.std()           # standard deviation\n",
    "print('std(mtrx) =', mtrx_std)"
   ]
  },
  {
   "cell_type": "code",
   "execution_count": null,
   "metadata": {},
   "outputs": [],
   "source": [
    "'''Other Mathematical Operations on a Matrix'''\n",
    "\n",
    "sin_mtrx = np.sin(mtrx + np.pi/2)  # sine\n",
    "\n",
    "plt.figure(7)\n",
    "plt.imshow(sin_mtrx)\n",
    "plt.title('Sine Transform', fontsize=14)\n",
    "plt.show()\n",
    "\n",
    "mtrx_mean = sin_mtrx.mean()         # arithmetic mean\n",
    "print('mean(mtrx) =', mtrx_mean)\n",
    "\n",
    "mtrx_std = sin_mtrx.std()           # standard deviation\n",
    "print('std(mtrx) =', mtrx_std)"
   ]
  },
  {
   "cell_type": "code",
   "execution_count": null,
   "metadata": {},
   "outputs": [],
   "source": [
    "'''Other Mathematical Operations on a Matrix'''\n",
    "\n",
    "mtrx_cubed = mtrx**3  # powers\n",
    "\n",
    "plt.figure(8)\n",
    "plt.imshow(mtrx_cubed)\n",
    "plt.title('Cube Transform', fontsize=14)\n",
    "plt.show()\n",
    "\n",
    "mtrx_mean = mtrx_cubed.mean()         # arithmetic mean\n",
    "print('mean(mtrx) =', mtrx_mean)\n",
    "\n",
    "mtrx_std = mtrx_cubed.std()           # standard deviation\n",
    "print('std(mtrx) =', mtrx_std)"
   ]
  },
  {
   "cell_type": "markdown",
   "metadata": {},
   "source": [
    "#### [Transposition](#toc)<a id=\"mattransp\"></a>"
   ]
  },
  {
   "cell_type": "code",
   "execution_count": null,
   "metadata": {},
   "outputs": [],
   "source": [
    "'''Matrix Transposition'''\n",
    "'''clockwise rotation followed by horizontal right to left flip'''\n",
    "\n",
    "mtrx = np.random.random((5,7))\n",
    "\n",
    "np.set_printoptions(precision=3,threshold=20,edgeitems=12,linewidth=100) # one way to control printing of numpy arrays\n",
    "\n",
    "print('mtrx =\\n',mtrx)\n",
    "\n",
    "mtrx_T = mtrx.transpose()       # transpose of a mtrx: M[i,j] -> M[j,i]\n",
    "\n",
    "print('mtrx^T =\\n',mtrx_T)"
   ]
  },
  {
   "cell_type": "code",
   "execution_count": null,
   "metadata": {},
   "outputs": [],
   "source": [
    "'''Matrix Transposition'''\n",
    "'''Example of adding a transformed matrix to another transform transposed'''\n",
    "\n",
    "'''note: to add a matrix to its transpose, a matrix must be square'''\n",
    "\n",
    "n_rows = block.shape[0]\n",
    "n_columns = n_rows\n",
    "\n",
    "mtrx = np.copy(block[:n_rows,:n_columns,0])   # select a square block; red channel\n",
    "\n",
    "sin_mtrx = np.sin(mtrx + np.pi/2)  # sine\n",
    "\n",
    "sin_mtrx /= sin_mtrx.max()\n",
    "plt.figure(9)\n",
    "plt.imshow(sin_mtrx)\n",
    "plt.title('Sine Transform', fontsize=14)\n",
    "plt.show()\n",
    "\n",
    "mtrx_cubed = mtrx**3                # powers\n",
    "\n",
    "plt.figure(10)\n",
    "plt.imshow(mtrx_cubed)\n",
    "plt.title('Cube Transform', fontsize=14)\n",
    "plt.show()\n",
    "\n",
    "plt.figure(11)\n",
    "plt.imshow(sin_mtrx + mtrx_cubed.transpose())    # sine + cubed transposed\n",
    "plt.title('Sine + Cube Transpose Transform', fontsize=14)\n",
    "plt.show()"
   ]
  },
  {
   "cell_type": "markdown",
   "metadata": {},
   "source": [
    "#### [Element-by-element search](#toc)<a id=\"matsearch\"></a>"
   ]
  },
  {
   "cell_type": "code",
   "execution_count": null,
   "metadata": {},
   "outputs": [],
   "source": [
    "'''Searching a matrix for entries matching a test'''\n",
    "\n",
    "# what are the indices of the values in \"mtrx\" that satisfy: mtrx >= 0.3\n",
    "(idx_ids, jdx_ids) = np.where(mtrx >= 0.3) \n",
    "\n",
    "np.set_printoptions(precision=3, threshold=20, edgeitems=5, linewidth=100) \n",
    "\n",
    "print('matrix =\\n', mtrx)\n",
    "print('ith indices = ',idx_ids)\n",
    "print('jth indices = ',jdx_ids)"
   ]
  },
  {
   "cell_type": "code",
   "execution_count": null,
   "metadata": {},
   "outputs": [],
   "source": [
    "'''Verify the searched elements'''\n",
    "\n",
    "mtrx[idx_ids, jdx_ids].min()"
   ]
  }
 ],
 "metadata": {
  "kernelspec": {
   "display_name": "Python 3",
   "language": "python",
   "name": "python3"
  },
  "language_info": {
   "codemirror_mode": {
    "name": "ipython",
    "version": 3
   },
   "file_extension": ".py",
   "mimetype": "text/x-python",
   "name": "python",
   "nbconvert_exporter": "python",
   "pygments_lexer": "ipython3",
   "version": "3.8.8"
  },
  "latex_envs": {
   "LaTeX_envs_menu_present": true,
   "autoclose": false,
   "autocomplete": true,
   "bibliofile": "biblio.bib",
   "cite_by": "apalike",
   "current_citInitial": 1,
   "eqLabelWithNumbers": true,
   "eqNumInitial": 1,
   "hotkeys": {
    "equation": "Ctrl-E",
    "itemize": "Ctrl-I"
   },
   "labels_anchors": false,
   "latex_user_defs": false,
   "report_style_numbering": false,
   "user_envs_cfg": false
  }
 },
 "nbformat": 4,
 "nbformat_minor": 2
}
