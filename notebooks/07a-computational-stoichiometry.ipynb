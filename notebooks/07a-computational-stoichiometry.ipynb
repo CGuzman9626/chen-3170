{
 "cells": [
  {
   "cell_type": "markdown",
   "metadata": {},
   "source": [
    "ChEn-3170: Computational Methods in Chemical Engineering Spring 2020 UMass Lowell; Prof. V. F. de Almeida **20Jan2018**\n",
    "\n",
    "# 07a. Computational Stoichiometry\n",
    "$  \n",
    "  \\newcommand{\\Amtrx}{\\boldsymbol{\\mathsf{A}}}\n",
    "  \\newcommand{\\Bmtrx}{\\boldsymbol{\\mathsf{B}}}\n",
    "  \\newcommand{\\Mmtrx}{\\boldsymbol{\\mathsf{M}}}\n",
    "  \\newcommand{\\Imtrx}{\\boldsymbol{\\mathsf{I}}}\n",
    "  \\newcommand{\\Pmtrx}{\\boldsymbol{\\mathsf{P}}}\n",
    "  \\newcommand{\\Lmtrx}{\\boldsymbol{\\mathsf{L}}}\n",
    "  \\newcommand{\\Umtrx}{\\boldsymbol{\\mathsf{U}}}\n",
    "  \\newcommand{\\Smtrx}{\\boldsymbol{\\mathsf{S}}}\n",
    "  \\newcommand{\\xvec}{\\boldsymbol{\\mathsf{x}}}\n",
    "  \\newcommand{\\avec}{\\boldsymbol{\\mathsf{a}}}\n",
    "  \\newcommand{\\bvec}{\\boldsymbol{\\mathsf{b}}}\n",
    "  \\newcommand{\\cvec}{\\boldsymbol{\\mathsf{c}}}\n",
    "  \\newcommand{\\rvec}{\\boldsymbol{\\mathsf{r}}}\n",
    "  \\newcommand{\\mvec}{\\boldsymbol{\\mathsf{m}}}\n",
    "  \\newcommand{\\gvec}{\\boldsymbol{\\mathsf{g}}}\n",
    "  \\newcommand{\\zerovec}{\\boldsymbol{\\mathsf{0}}}\n",
    "  \\newcommand{\\norm}[1]{\\bigl\\lVert{#1}\\bigr\\rVert}\n",
    "  \\DeclareMathOperator{\\rank}{rank}\n",
    "$"
   ]
  },
  {
   "cell_type": "markdown",
   "metadata": {},
   "source": [
    "---\n",
    "## Table of Contents<a id=\"toc\">\n",
    "* [Introduction](#intro)\n",
    "* [Stoichiometric Matrix](#stoicmtrx)\n",
    "* [Linear Independent Reactions](#indepen)\n",
    "* [Principal Reaction Sub-Mechanisms](#subreact)\n",
    "---"
   ]
  },
  {
   "cell_type": "markdown",
   "metadata": {},
   "source": [
    "## Introduction<a id=\"intro\"></a>\n",
    "Refer to Notebook 7."
   ]
  },
  {
   "cell_type": "markdown",
   "metadata": {},
   "source": [
    "## [Stoichiometric matrix](#toc)<a id=\"stoicmtrx\"></a>\n",
    "After reading a reaction mechanism from file, and storing the input data into data types, construct the stoichiometric coefficient matrix, $\\Smtrx$."
   ]
  },
  {
   "cell_type": "code",
   "execution_count": 3,
   "metadata": {},
   "outputs": [],
   "source": [
    "'''Read and process a NOx decomposition reaction mechanism'''\n",
    "try:\n",
    "    from chen_3170.toolkit import reaction_mechanism\n",
    "except ModuleNotFoundError:\n",
    "    assert False, 'You need to provide your own reaction_mechanism function here. Bailing out.'\n",
    "\n",
    "(species, reactions, s_mtrx, _, _) = reaction_mechanism('data/nox-rxn.txt')"
   ]
  },
  {
   "cell_type": "code",
   "execution_count": 4,
   "metadata": {},
   "outputs": [
    {
     "name": "stdout",
     "output_type": "stream",
     "text": [
      "r0 :  2 N2O5       <=> 2 N2O4 + O2\n",
      "r1 :  N2O5       <=>   NO2 + NO3\n",
      "r2 :  NO2 + NO3  <=>   N2O5\n",
      "r3 :  NO3        <=>   O2 + NO\n",
      "r4 :  NO + N2O5  <=> 3 NO2\n",
      "r5 :  2 NO2        <=>   N2O4\n",
      "n_reactions = 6\n",
      "['O2', 'NO3', 'NO', 'N2O4', 'N2O5', 'NO2']\n",
      "# species = 6\n",
      "\n",
      "s_mtrx =\n",
      " [[ 1.  0.  0.  2. -2.  0.]\n",
      " [ 0.  1.  0.  0. -1.  1.]\n",
      " [ 0. -1.  0.  0.  1. -1.]\n",
      " [ 1. -1.  1.  0.  0.  0.]\n",
      " [ 0.  0. -1.  0. -1.  3.]\n",
      " [ 0.  0.  0.  1.  0. -2.]]\n",
      "m x n = (6, 6)\n",
      "matrix shape = (6, 6)\n"
     ]
    },
    {
     "data": {
      "image/png": "[encoded data removed]",
      "text/plain": [
       "<Figure size 1440x288 with 1 Axes>"
      ]
     },
     "metadata": {
      "needs_background": "light"
     },
     "output_type": "display_data"
    }
   ],
   "source": [
    "'''Summary'''\n",
    "\n",
    "from chen_3170.help import print_reactions\n",
    "\n",
    "print_reactions(reactions)\n",
    "\n",
    "print(species)  \n",
    "print('# species =',len(species))\n",
    "print('')\n",
    "print('s_mtrx =\\n',s_mtrx)\n",
    "print('m x n =',s_mtrx.shape)\n",
    "\n",
    "from chen_3170.help import plot_matrix\n",
    "\n",
    "import numpy as np\n",
    "np.set_printoptions(precision=3, threshold=300, edgeitems=8, linewidth=100)\n",
    "\n",
    "plot_matrix(s_mtrx, title='Stoichiometric Matrix')"
   ]
  },
  {
   "cell_type": "markdown",
   "metadata": {},
   "source": [
    "## [Linearly independent reactions](#toc)<a id=\"indepen\"></a>\n",
    "The stoichiometric matrix represents a linear system of equations in two different instances. \n",
    "+ First, a mass balance set of equations for the chemical reactions when the molar masses of the species involved are used as a vector. The product of the stoichiometric matrix and this vector must result in the zero vector, *i.e.* $\\Smtrx\\,\\mvec = \\zerovec$. \n",
    "+ Second, the reaction rates are related to the species production rates in a similar way, *i.e.*, $\\Smtrx^\\top\\,\\rvec = \\gvec$. In both cases the system of equations lead to a rectangular system. Here we compute the rank of the stoichiometric matrix to discover how many of the reactions are linearly independent."
   ]
  },
  {
   "cell_type": "markdown",
   "metadata": {},
   "source": [
    "## [Principal Reaction Sub-Mechanisms](#toc)<a id=\"subreact\"></a>\n",
    "Here we form all possible combination of full-rank reaction sub-mechanisms."
   ]
  },
  {
   "cell_type": "code",
   "execution_count": 5,
   "metadata": {},
   "outputs": [
    {
     "name": "stdout",
     "output_type": "stream",
     "text": [
      "# reactions =  6\n",
      "# species   =  6\n",
      "rank of S =  4\n",
      "# of all possible sub_mechanisms = 15\n",
      "# of full-rank sub_mechanisms = 9\n"
     ]
    },
    {
     "data": {
      "image/png": "[encoded data removed]",
      "text/plain": [
       "<Figure size 1440x432 with 1 Axes>"
      ]
     },
     "metadata": {
      "needs_background": "light"
     },
     "output_type": "display_data"
    },
    {
     "name": "stdout",
     "output_type": "stream",
     "text": [
      "r0 :  2 N2O5       <=> 2 N2O4 + O2\n",
      "r1 :  N2O5       <=>   NO2 + NO3\n",
      "r2 :  NO2 + NO3  <=>   N2O5\n",
      "r3 :  NO3        <=>   O2 + NO\n",
      "r4 :  NO + N2O5  <=> 3 NO2\n",
      "r5 :  2 NO2        <=>   N2O4\n",
      "n_reactions = 6\n",
      "\n",
      "Reaction Sub Mechanism: 0 (score 10.00)\n",
      "r0 2 N2O5       <=> 2 N2O4 + O2\n",
      "r3 NO3        <=>   O2 + NO\n",
      "r4 NO + N2O5  <=> 3 NO2\n",
      "r5 2 NO2        <=>   N2O4\n"
     ]
    }
   ],
   "source": [
    "'''2.4 Most relevant reaction sub-mechanisms'''\n",
    "try:\n",
    "    from chen_3170.toolkit import sub_mechanisms\n",
    "    from chen_3170.toolkit import plot_reaction_sub_mechanisms\n",
    "except ModuleNotFoundError:\n",
    "    assert False, 'You need to provide your own reaction_mechanism function here. Bailing out.'\n",
    "\n",
    "sub_mech = sub_mechanisms(species, reactions, s_mtrx)\n",
    "\n",
    "plot_reaction_sub_mechanisms(sub_mech, mode='all')\n",
    "\n",
    "print_reactions(reactions)\n",
    "print('')\n",
    "\n",
    "from chen_3170.help import print_reaction_sub_mechanisms\n",
    "\n",
    "print_reaction_sub_mechanisms(sub_mech, mode='top')"
   ]
  }
 ],
 "metadata": {
  "kernelspec": {
   "display_name": "Python 3",
   "language": "python",
   "name": "python3"
  },
  "language_info": {
   "codemirror_mode": {
    "name": "ipython",
    "version": 3
   },
   "file_extension": ".py",
   "mimetype": "text/x-python",
   "name": "python",
   "nbconvert_exporter": "python",
   "pygments_lexer": "ipython3",
   "version": "3.8.8"
  },
  "latex_envs": {
   "LaTeX_envs_menu_present": true,
   "autoclose": false,
   "autocomplete": true,
   "bibliofile": "biblio.bib",
   "cite_by": "apalike",
   "current_citInitial": 1,
   "eqLabelWithNumbers": true,
   "eqNumInitial": 1,
   "hotkeys": {
    "equation": "Ctrl-E",
    "itemize": "Ctrl-I"
   },
   "labels_anchors": false,
   "latex_user_defs": false,
   "report_style_numbering": false,
   "user_envs_cfg": false
  }
 },
 "nbformat": 4,
 "nbformat_minor": 2
}
