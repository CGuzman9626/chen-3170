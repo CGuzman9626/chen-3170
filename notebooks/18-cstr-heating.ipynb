{
 "cells": [
  {
   "cell_type": "markdown",
   "metadata": {},
   "source": [
    "ChEn-3170: Computational Methods in Chemical Engineering Fall 2020 UMass Lowell; Prof. V. F. de Almeida **10Dec20**\n",
    "\n",
    "# 18. Continuous Stirred-Tank Reactor w/ Heating \n",
    "$  \n",
    "  \\newcommand{\\Amtrx}{\\boldsymbol{\\mathsf{A}}}\n",
    "  \\newcommand{\\Bmtrx}{\\boldsymbol{\\mathsf{B}}}\n",
    "  \\newcommand{\\Mmtrx}{\\boldsymbol{\\mathsf{M}}}\n",
    "  \\newcommand{\\Imtrx}{\\boldsymbol{\\mathsf{I}}}\n",
    "  \\newcommand{\\Pmtrx}{\\boldsymbol{\\mathsf{P}}}\n",
    "  \\newcommand{\\Lmtrx}{\\boldsymbol{\\mathsf{L}}}\n",
    "  \\newcommand{\\Umtrx}{\\boldsymbol{\\mathsf{U}}}\n",
    "  \\newcommand{\\Smtrx}{\\boldsymbol{\\mathsf{S}}}\n",
    "  \\newcommand{\\xvec}{\\boldsymbol{\\mathsf{x}}}\n",
    "  \\newcommand{\\uvar}{\\boldsymbol{u}}\n",
    "  \\newcommand{\\fvar}{\\boldsymbol{f}}\n",
    "  \\newcommand{\\avec}{\\boldsymbol{\\mathsf{a}}}\n",
    "  \\newcommand{\\bvec}{\\boldsymbol{\\mathsf{b}}}\n",
    "  \\newcommand{\\cvec}{\\boldsymbol{\\mathsf{c}}}\n",
    "  \\newcommand{\\rvec}{\\boldsymbol{\\mathsf{r}}}\n",
    "  \\newcommand{\\mvec}{\\boldsymbol{\\mathsf{m}}}\n",
    "  \\newcommand{\\gvec}{\\boldsymbol{\\mathsf{g}}}\n",
    "  \\newcommand{\\zerovec}{\\boldsymbol{\\mathsf{0}}}\n",
    "  \\newcommand{\\norm}[1]{\\bigl\\lVert{#1}\\bigr\\rVert}\n",
    "  \\newcommand{\\transpose}[1]{{#1}^\\top}\n",
    "  \\DeclareMathOperator{\\rank}{rank}\n",
    "$"
   ]
  },
  {
   "cell_type": "markdown",
   "metadata": {},
   "source": [
    "---\n",
    "## Table of Contents <a id=\"toc\"></a>\n",
    "* [Objectives](#obj)\n",
    "* [Problem Statement](#ps)\n",
    "* [Input Data](#data)\n",
    "* [Total Mass Balance](#mb)\n",
    "* [Species Mole Balance](#smb)\n",
    "* [Energy Balance](#eb)\n",
    "* [Vector ODE System](#vodes)\n",
    "* [Degrees of Freedom](#dof)\n",
    "* [Steady-State Concentration of A](#ssa)\n",
    "* [Steady-State Concentration of B](#ssb)\n",
    "* [Steady-State Heating Power](#sst)\n",
    "* [Time Integration Function](#cstrrun)\n",
    "* [New Inflow Condition Change](#nicc)\n",
    "* [Final Comments](#fc)\n",
    "* [Interactive Results](#ires)\n",
    "---"
   ]
  },
  {
   "cell_type": "markdown",
   "metadata": {},
   "source": [
    "## [Objectives](#toc)<a id=\"obj\"></a>\n",
    "+ Introduce the computational notebook approach to problem solving.\n",
    "+ Combine content, problem setup, computational methods, calculations, and interactive analysis in one *live*, exchangeable, portable (web-based) document.\n",
    "+ Use chemical reaction engineering methods applied to a chemical reactor problem example: open system, time-dependent, non-isothermal, single, endothermic chemical reaction, and two species."
   ]
  },
  {
   "cell_type": "markdown",
   "metadata": {},
   "source": [
    "## [Problem Statement](#toc)<a id=\"ps\"></a>\n",
    "\n",
    "This problem was provided by Prof. Donatelli (**2018**) while teaching the **Fall ChEn-4130 Process Control** class.\n",
    "\n",
    "An irreversible first-order **endothermic reaction** \n",
    "\n",
    "\\begin{equation*}\n",
    "\\text{A} \\overset{k}{\\longrightarrow} 2\\,\\text{B}  ,\n",
    "\\end{equation*}\n",
    "\n",
    "is performed in a continuous-stirred-tank reactor (CSTR; sketch below). A feed stream containing reactant A enters the constant volume CSTR at a mass flow rate $w$, temperature $T_\\text{in}$ and molar concentration $c_\\text{Ain}$. The product stream leaves the reactor at a mass flow rate $w$, temperature $T$, and molar concentration $c_\\text{A}$ for the reactant and $c_\\text{B}$ for the product. The heat power addition rate to the CSTR is $\\dot{Q}$, and the experimental rate of reaction per unit volume is \n",
    "\n",
    "\\begin{equation*}\n",
    "r_1 = k\\,c_\\text{A}\\,c_\\text{B}^0  ,\n",
    "\\end{equation*}\n",
    "\n",
    "where the rate constant is equal to an Arrhenius equation: $k = k_0\\,\\exp(\\frac{-E}{R\\,T})$.\n",
    "\n",
    "   [1.](#smb) Derive a dynamic model for the CSTR to determine the concentrations of reactant A and product B and the CSTR temperature as a function of time.\n",
    "   \n",
    "   [2.](#dof) Perform a degrees of freedom analysis. Identify all input and output variables.\n",
    "   \n",
    "   [3.](#ssa) Determine (analytically using pencil and paper) the steady-state effluent concentrations for reactant A and product B and the required heating rate in kW for the above conditions and a given steady state temperature, $T_\\text{ss}$ (see value below). The heating rate is not given directly. It is to be calculated analytically from the the steady state condition.\n",
    "   \n",
    "   [4.](#nicc) Suppose a switch is made to a new feed stream with $c_\\text{Ain}$ = 1.0 kgmol/m$^3$ and $T_\\text{in}$ = 440 K, and the heat addition rate $\\dot{Q}$ remains unchanged. Determine the reactant and product concentrations and the CSTR temperature as a function of time. Tabulate and plot the dynamic results. Analyze the results, providing a plausible explanation based on your engineering knowledge.\n",
    "   \n",
    "   [5.](#ires) Added calculation. Compute, interactively, the effect of simultaneous changes in $c_\\text{Ain}$ and $T_\\text{in}$ for a range of values in the interval 0.5 to 1.5 kgmol/L, and 400 to 450 K, respectively.\n",
    " \n",
    " ![](images/cstr.png)"
   ]
  },
  {
   "cell_type": "markdown",
   "metadata": {},
   "source": [
    "## [Input Data](#toc)<a id=\"data\"></a>\n",
    "\n",
    "\n",
    "|Name                      | Parameter          | Value                | Unit              |\n",
    "|------------------------- | ------------------ | -------------------- | ----------------- | \n",
    "|mass flow rate            | $w$                | 10                   | kg/s              | \n",
    "|inflow concentration of A | $c_\\text{Ain}$     | 1.2                  | kgmol/$\\text{m}^3$| \n",
    "|inflow concentration of B | $c_\\text{Bin}$     | 0.0                  | kgmol/$\\text{m}^3$| \n",
    "|inflow temperature        | $T_\\text{in}$      | 425                  | K                 | \n",
    "|holdup volume             | $V$                | 0.2                  | $\\text{m}^3$      | \n",
    "|mass density              | $\\rho$             | 1000                 | kg/$\\text{m}^3$   |\n",
    "|heat capacity             | $C$                | 4184                 | J/(kg K)          |\n",
    "|heat of reaction          | $\\Delta H_\\text{R}$| 6.69 10$^8$          | J/kgmol           |\n",
    "|Arrhenius frequency       | $k_0$              | $1.97\\times 10^{24}$ | $\\text{s}^{-1}$   |\n",
    "|activation temperature    | $E/R$              | 20000                | K                 |\n",
    "|S.S. reactor temperature  | $T_\\text{ss}$      | 350                  | K                 |\n",
    "\n",
    "\n",
    "Note that this is an endothermic reaction (A → 2B) and the reactor temperature at steady state is lower than the temperature of the inflow stream."
   ]
  },
  {
   "cell_type": "code",
   "execution_count": 1,
   "metadata": {},
   "outputs": [],
   "source": [
    "'''Parameters input'''\n",
    "\n",
    "w_flow          =   10.0      # kg/s\n",
    "c_a_in          =   1.2       # kgmol/m^3\n",
    "c_b_in          =   0.0       # kgmol/m^3\n",
    "temp_in         =   425.0     # K\n",
    "volume          =   0.2       # m^3\n",
    "rho             =   1000.0    # kg/m^3\n",
    "heat_capacity   =   4184.0    # J/kg/K\n",
    "enthalpy_rxn    =   6.69e8    # J/kgmol\n",
    "k_0             =   1.97e24   # 1/s\n",
    "energy_a_over_r =   20000.0   # K\n",
    "temp_ss         =   350.0     # K"
   ]
  },
  {
   "cell_type": "code",
   "execution_count": 2,
   "metadata": {},
   "outputs": [],
   "source": [
    "'''Parameters input dictionary'''\n",
    "\n",
    "params = dict()\n",
    "\n",
    "params['w_flow']          =   w_flow\n",
    "params['c_a_in']          =   c_a_in\n",
    "params['c_b_in']          =   c_b_in\n",
    "params['temp_in']         =   temp_in\n",
    "params['volume']          =   volume\n",
    "params['rho']             =   rho\n",
    "params['heat_capacity']   =   heat_capacity\n",
    "params['enthalpy_rxn']    =   enthalpy_rxn\n",
    "params['k_0']             =   k_0\n",
    "params['energy_a_over_r'] =   energy_a_over_r\n",
    "params['temp_ss']         =   temp_ss"
   ]
  },
  {
   "cell_type": "markdown",
   "metadata": {},
   "source": [
    "## [Total Mass Balance](#toc)<a id=\"mb\"></a>\n",
    "\n",
    "The volumetric flow rate is a constant because the fluid is incompressible \n",
    "\n",
    "\\begin{equation*}\n",
    "q = q_\\text{in} = \\text{constant} \n",
    "\\end{equation*}\n",
    "\n",
    "where $q = \\frac{w}{\\rho}$.\n"
   ]
  },
  {
   "cell_type": "markdown",
   "metadata": {},
   "source": [
    "## [Species Mole Balance](#toc)<a id=\"smb\"></a>\n",
    "\n",
    "\\begin{equation*}\n",
    "\\frac{dc_\\text{A}}{dt} = -\\frac{1}{\\tau}\\bigl(c_\\text{A}-c_\\text{Ain}\\bigr) + g_\\text{A}(t) ,\\\\\n",
    "\\frac{dc_\\text{B}}{dt} = -\\frac{1}{\\tau}\\bigl(c_\\text{B}-c_\\text{Bin}\\bigr) + g_\\text{B}(t) ,\n",
    "\\end{equation*}\n",
    "\n",
    "where $\\tau = \\frac{V}{q}$ is the flow residence time in the reactor, $g_\\text{A}(t)$ is the species A production rate; similarly for species B, $g_\\text{B}(t)$. Note that these equations are the classical relaxation process with a generation term where the relaxation time is the flow residence time $\\tau$.\n",
    "\n",
    "The species production rates are obtained from the stoichiometric relation \n",
    "\n",
    "\\begin{equation*}\n",
    " \\gvec = \\Smtrx^\\top\\,\\rvec ,\n",
    "\\end{equation*}\n",
    "\n",
    "for this problem \n",
    "\n",
    "\\begin{equation*}\n",
    "\\text{A} \\overset{k}{\\longrightarrow} 2\\,\\text{B}  ,\n",
    "\\end{equation*}\n",
    "\n",
    "the stoichiometric relation gives\n",
    "\n",
    "\\begin{equation*}\n",
    " \\begin{pmatrix}\n",
    "  -1 & 2 \n",
    " \\end{pmatrix}^\\top\n",
    " \\,\n",
    " \\begin{pmatrix}\n",
    "  k\\,c_\\text{A}   \n",
    " \\end{pmatrix} =\n",
    "  \\begin{pmatrix}\n",
    "  -1 \\\\ \n",
    "  2 \n",
    " \\end{pmatrix} \n",
    "  \\begin{pmatrix}\n",
    "  k\\,c_\\text{A}   \n",
    " \\end{pmatrix} = \n",
    " \\begin{pmatrix}\n",
    " -k\\,c_\\text{A}  \\\\ \n",
    "  2\\,k\\,c_\\text{A}\n",
    "\\end{pmatrix} =\n",
    "\\begin{pmatrix}\n",
    " g_\\text{A} \\\\\n",
    " g_\\text{B} \n",
    "\\end{pmatrix}\n",
    "\\end{equation*}\n",
    "\n",
    "where the reaction rate constant is expressed in the Arrhenius form $k = k_0\\,e^{\\frac{-E}{R\\,T}}$."
   ]
  },
  {
   "cell_type": "code",
   "execution_count": 3,
   "metadata": {},
   "outputs": [],
   "source": [
    "'''Stoichiometric matrix'''\n",
    "\n",
    "# (A → 2B)\n",
    "import numpy as np\n",
    "\n",
    "stoic_mtrx = np.zeros((1,2)) # stoichiometric matrix\n",
    "stoic_mtrx[0,0] = -1.0\n",
    "stoic_mtrx[0,1] =  2.0\n",
    "\n",
    "params['stoic_mtrx'] = stoic_mtrx\n",
    "\n",
    "# verify mass conservation\n",
    "import numpy.linalg\n",
    "assert numpy.linalg.matrix_rank(stoic_mtrx) < stoic_mtrx.shape[1]"
   ]
  },
  {
   "cell_type": "markdown",
   "metadata": {},
   "source": [
    "## [Energy Balance](#toc)<a id=\"eb\"></a>\n",
    "\n",
    "\\begin{equation*}\n",
    "\\frac{dT}{dt} = -\\frac{1}{\\tau}\\,\\bigl(T-T_\\text{in}\\bigr) \n",
    "                + \\frac{1}{\\rho C} \\Bigl(\\frac{\\dot{Q}}{V} - \\Delta H_\\text{R}\\,r_1 \\Bigr)\n",
    "\\end{equation*}\n",
    "\n",
    "where $r_1 = k\\,c_\\text{A}$ is the reaction rate. Note that $\\frac{\\dot{Q}}{V}$ is the power density of heating or cooling. Likewise $\\Delta H_\\text{R}\\,r_1$ is the power density of chemical reaction heating or cooling. Here again, this is a classical relaxation model with relaxation time equal to the residence time $\\tau$ in the presence of a generation term which is a combination of the external heating/cooling power and the chemical reaction heating/cooling power."
   ]
  },
  {
   "cell_type": "markdown",
   "metadata": {},
   "source": [
    "## [Degrees of Freedom](#toc)<a id=\"dof\"></a>\n",
    "There exists three equations (below), the total mass balance forces the volumetric flow rate to be a constant because the flow is incompressible, therefore $q$ must be specified. There exists three unknowns, namely the molarity of species A, $c_\\text{A}(t)$, and B, $c_\\text{B}(t)$, and the temperature of the reactor, $T(t)$. Therefore there are as many unknowns as there are equations and the problem is potentially solvable given the initial conditions for the unknowns, and all the values of the parameters in the foregoing input data table."
   ]
  },
  {
   "cell_type": "markdown",
   "metadata": {},
   "source": [
    "## [Vector ODE System](#toc)<a id=\"vodes\"></a>\n",
    "\n",
    "A vector notation for the foregoing system of equations greatly improves the generality of the derived computer code. First, the usage of the stoichiometric matrix is instrumental for the case with multiple chemical reactions, where the reaction rates can be related to the species production rates that appear as sources in the species mass balances\n",
    "\n",
    "Towards this goal define\n",
    "\n",
    "\\begin{equation*}\n",
    "\\frac{d\\uvar}{dt} = \\fvar( \\uvar, t )\n",
    "\\end{equation*}\n",
    "\n",
    "where $\\uvar(t) = (u_1,u_2,u_3)$ and assign \n",
    "\n",
    "\\begin{align*}\n",
    " u_1(t)&=c_\\text{A}(t),\\\\\n",
    " u_2(t)&=c_\\text{B}(t),\\\\\n",
    " u_3(t)&=T .\n",
    "\\end{align*}\n",
    "\n",
    "Also for $\\fvar(\\uvar,t) = \\bigl(f_1(\\uvar,t), f_2(\\uvar,t), f_3(\\uvar,t)\\bigr)$ assign \n",
    "\n",
    "\\begin{align*}\n",
    " f_1 & = - \\frac{1}{\\tau}\\,(u_1-c_\\text{Ain}) + g_\\text{A}, \\\\\n",
    " f_2 & = - \\frac{1}{\\tau}\\,(u_2-c_\\text{Bin}) + g_\\text{B}, \\\\\n",
    " f_3 & = - \\frac{1}{\\tau}\\,(u_3-T_\\text{in}) \n",
    "         + \\frac{1}{\\rho C} \\Bigl( \\frac{\\dot{Q}}{V} - \\Delta H_\\text{R}\\,r_1 \\Bigr) .\n",
    "\\end{align*}\n",
    "\n",
    "Finally, the initial conditions given are as follows:\n",
    "\n",
    "\\begin{align*}\n",
    " u_1(0)&=c_\\text{A}(0) &=c_{A_\\text{ss}} ,\\\\\n",
    " u_2(0)&=c_\\text{B}(0) &=c_{B_\\text{ss}},\\\\\n",
    " u_3(0)&=T(0)          &=T_\\text{ss}&.\n",
    "\\end{align*}\n"
   ]
  },
  {
   "cell_type": "code",
   "execution_count": 4,
   "metadata": {
    "code_folding": []
   },
   "outputs": [],
   "source": [
    "'''ODE RHS function for integrator'''\n",
    "\n",
    "def f_vec(u_vec, t, params):\n",
    "    \n",
    "    c_a  = u_vec[0]\n",
    "    c_b  = u_vec[1]\n",
    "    temp = u_vec[2]\n",
    "    \n",
    "    # sanity check\n",
    "    assert c_a  >= 0.0\n",
    "    assert c_b  >= 0.0\n",
    "    assert temp >= 0.0\n",
    "      \n",
    "    c_a_in          = params['c_a_in'] \n",
    "    c_b_in          = params['c_b_in']\n",
    "    temp_in         = params['temp_in']\n",
    "    volume          = params['volume']\n",
    "    rho             = params['rho']\n",
    "    heat_capacity   = params['heat_capacity']\n",
    "    enthalpy_rxn    = params['enthalpy_rxn']\n",
    "    k_0             = params['k_0']\n",
    "    energy_a_over_r = params['energy_a_over_r']\n",
    "    \n",
    "    stoic_mtrx      = params['stoic_mtrx']\n",
    "    q_flow          = params['q_flow']\n",
    "    q_dot           = params['q_dot']\n",
    "    \n",
    "    import math \n",
    "    k = k_0 * math.exp(-energy_a_over_r/temp) # reaction rate constant\n",
    "    \n",
    "    import numpy as np\n",
    "    r_vec = np.zeros(1)\n",
    "    r_vec[0] = k * c_a   # reaction rate vector\n",
    "    \n",
    "    g_vec = stoic_mtrx.transpose() @ r_vec  # species production rates S^T r = g\n",
    "    \n",
    "    tau = volume/q_flow # flow residence time\n",
    "    \n",
    "    f_0 = - 1/tau*(c_a - c_a_in) + g_vec[0]\n",
    "    \n",
    "    f_1 = - 1/tau*(c_b - c_b_in) + g_vec[1]\n",
    "    \n",
    "    f_2 = - 1/tau*(temp - temp_in) \\\n",
    "          + 1/rho/heat_capacity*( q_dot/volume - enthalpy_rxn * r_vec[0] )\n",
    "    \n",
    "    return np.array([f_0, f_1, f_2])"
   ]
  },
  {
   "cell_type": "markdown",
   "metadata": {},
   "source": [
    "## [Steady-State Concentration of A](#toc)<a id=\"ssa\"></a>\n",
    "\n",
    "From the species mole balance for A, set the rate of change of $d_{t=\\infty}c_\\text{A}$ to zero \n",
    "\n",
    "\\begin{equation*}\n",
    "0= -\\frac{1}{\\tau}\\bigl(c_\\text{A}(\\infty)-c_\\text{Ain}\\bigr)  -k\\,c_\\text{A}(\\infty)\n",
    "\\end{equation*}\n",
    "\n",
    "to get \n",
    "\n",
    "\\begin{equation*}\n",
    "  c_\\text{A}(\\infty) = c_{\\text{A}_\\text{ss}} = \\frac{c_\\text{Ain}}{\\tau\\,k + 1} .\n",
    "\\end{equation*}"
   ]
  },
  {
   "cell_type": "code",
   "execution_count": 5,
   "metadata": {},
   "outputs": [
    {
     "name": "stdout",
     "output_type": "stream",
     "text": [
      "q (vol. flowrate)         = 1.00e-02 [m^3/s] = 1.00e+01 [L/s]\n",
      "\n",
      "c_A(S.S.)                 = 1.71e-01 [kgmol/m^3]\n",
      "flow residence time (tau) = 2.00e+01 [s]\n"
     ]
    }
   ],
   "source": [
    "'''Steady state concentration of A'''\n",
    "\n",
    "import math\n",
    "\n",
    "q_flow = w_flow/rho\n",
    "\n",
    "tau = volume / q_flow\n",
    "\n",
    "k_cte = k_0 * math.exp( -energy_a_over_r/temp_ss )\n",
    "\n",
    "c_a_ss = c_a_in / (tau*k_cte + 1)\n",
    "\n",
    "params['c_a_ss'] = c_a_ss  # save s.s. value in params\n",
    "params['q_flow'] = q_flow  # save s.s. value in params\n",
    "\n",
    "print('q (vol. flowrate)         = %5.2e [m^3/s] = %5.2e [L/s]'%(q_flow,q_flow*1000))\n",
    "print('')\n",
    "print('c_A(S.S.)                 = %5.2e [kgmol/m^3]'%c_a_ss)\n",
    "print('flow residence time (tau) = %5.2e [s]'%(tau))"
   ]
  },
  {
   "cell_type": "markdown",
   "metadata": {},
   "source": [
    "## [Steady-State Concentration of B](#toc)<a id=\"ssb\"></a>\n",
    "\n",
    "From the species mole balance for B, set the rate of change of $d_{t=\\infty}\\,c_\\text{B}$ to zero\n",
    "\n",
    "\n",
    "\\begin{equation*}\n",
    "0= -\\frac{1}{\\tau}\\bigl(c_\\text{B}(\\infty)-c_\\text{Bin}\\bigr) + 2k\\,c_\\text{A}(\\infty)  \\\\\n",
    "\\end{equation*}\n",
    "\n",
    "to get\n",
    "\n",
    "\\begin{equation*}\n",
    " c_\\text{B}(\\infty) = c_{\\text{B}_\\text{ss}}  = c_\\text{Bin} + \\tau\\,2\\,k\\,c_\\text{A}(\\infty) .\n",
    "\\end{equation*}"
   ]
  },
  {
   "cell_type": "code",
   "execution_count": 6,
   "metadata": {},
   "outputs": [
    {
     "name": "stdout",
     "output_type": "stream",
     "text": [
      "c_B(S.S.) = 2.06e+00 [kgmol/m^3]\n"
     ]
    }
   ],
   "source": [
    "'''Steady state concentration of B'''\n",
    "\n",
    "c_b_ss = c_b_in + tau * 2 * k_cte * c_a_ss\n",
    "\n",
    "params['c_b_ss'] = c_b_ss # save s.s. value in params\n",
    "\n",
    "print('c_B(S.S.) = %5.2e [kgmol/m^3]'%c_b_ss)"
   ]
  },
  {
   "cell_type": "markdown",
   "metadata": {},
   "source": [
    "## [Steady-State Heating Power](#toc)<a id=\"sst\"></a>\n",
    "\n",
    "From the energy balance and $d_{t=\\infty}T = 0$, $T_\\text{ss} = T(\\infty)$ \n",
    "\n",
    "\\begin{equation*}\n",
    "0 = -\\frac{1}{\\tau}\\,\\bigl(T_\\text{ss} -T_\\text{in}\\bigr) \n",
    "                + \\frac{1}{\\rho C} \\Bigl(\\frac{\\dot{Q}}{V} - \\Delta H_\\text{R}\\,r_1 \\Bigr)\n",
    "\\end{equation*}\n",
    "\n",
    "or\n",
    "\n",
    "\\begin{equation*}\n",
    "\\frac{\\dot{Q}_\\text{ss} }{V} = \\frac{\\rho C}{\\tau} \\bigl(T_\\text{ss} - T_\\text{in}\\bigr) + \\Delta H_\\text{R}\\,k\\,c_\\text{A}(\\infty) .\n",
    "\\end{equation*}"
   ]
  },
  {
   "cell_type": "code",
   "execution_count": 7,
   "metadata": {},
   "outputs": [
    {
     "name": "stdout",
     "output_type": "stream",
     "text": [
      "Q(S.S.) = 3.744e+03 [kW] = 3.744e+00 [MW]\n"
     ]
    }
   ],
   "source": [
    "'''Steady state heating power'''\n",
    "\n",
    "q_heat_power_dens_ss = rho*heat_capacity/tau * (temp_ss - temp_in) + enthalpy_rxn * k_cte * c_a_ss\n",
    "\n",
    "params['q_dot'] = q_heat_power_dens_ss * volume # save s.s. value in params\n",
    "\n",
    "print('Q(S.S.) = %5.3e [kW] = %5.3e [MW]'%(q_heat_power_dens_ss*volume/1000, q_heat_power_dens_ss*volume/1000000))"
   ]
  },
  {
   "cell_type": "markdown",
   "metadata": {},
   "source": [
    "**This is a lot of heat!** Since the heat source is positive, heat is provided to the system to keep the reactor temperature from dropping too far below the inflow temperature. \n",
    "\n",
    "<span style=\"color:red\">\n",
    "If the cost of electricity is US $\\$$0.3/kWh, to run this chemical reactor for 1 hour will cost: US $1,123 dollars.\n",
    "</span>"
   ]
  },
  {
   "cell_type": "code",
   "execution_count": 8,
   "metadata": {},
   "outputs": [
    {
     "name": "stdout",
     "output_type": "stream",
     "text": [
      "deltaHrxn_r1 = -6.882e+00 [MW]\n"
     ]
    }
   ],
   "source": [
    "'''Steady state endothermic power'''\n",
    "\n",
    "print('deltaHrxn_r1 = %5.3e [MW]'%(-enthalpy_rxn * k_cte * c_a_ss * volume/1000000))"
   ]
  },
  {
   "cell_type": "code",
   "execution_count": 9,
   "metadata": {},
   "outputs": [
    {
     "name": "stdout",
     "output_type": "stream",
     "text": [
      "-rhoC/tau*(Tss-Tin) = 1.569e+01 [MW]\n"
     ]
    }
   ],
   "source": [
    "'''Steady state flow-through energy'''\n",
    "\n",
    "print('-rhoC/tau*(Tss-Tin) = %5.3e [MW]'%(-rho*heat_capacity/tau * (temp_ss - temp_in)/1000000))"
   ]
  },
  {
   "cell_type": "markdown",
   "metadata": {},
   "source": [
    "## [Time Integration Function](#toc)<a id=\"cstrrun\"></a>"
   ]
  },
  {
   "cell_type": "code",
   "execution_count": 10,
   "metadata": {
    "code_folding": []
   },
   "outputs": [],
   "source": [
    "'''Create the CSTR run function'''\n",
    "\n",
    "def run_cstr(f_vec, time_stamps, params):\n",
    "    \n",
    "    # ODE integrator\n",
    "    from scipy.integrate import odeint\n",
    "    \n",
    "    max_n_steps_per_time_step = 100 # max number of nonlinear algebraic solver iterations per time step\n",
    "\n",
    "    u_vec_0 = np.zeros(3,dtype=np.float64)\n",
    "    \n",
    "    u_vec_0[0] = params['c_a_ss']\n",
    "    u_vec_0[1] = params['c_b_ss']\n",
    "    u_vec_0[2] = params['temp_ss']\n",
    "\n",
    "    # ODE integrator call\n",
    "    (u_vec_history, info_dict) = odeint(f_vec, u_vec_0, time_stamps,\n",
    "                                        args=( params, ),\n",
    "                                        rtol=1e-7, atol=1e-7, mxstep=max_n_steps_per_time_step,\n",
    "                                        full_output=True, tfirst=False )\n",
    "\n",
    "    assert info_dict['message']=='Integration successful.',\\\n",
    "               'Fatal: scipy.integrate.odeint failed %r'%info_dict['message']\n",
    "    \n",
    "    return u_vec_history"
   ]
  },
  {
   "cell_type": "markdown",
   "metadata": {},
   "source": [
    "## [New Inflow Condition Change](#toc) <a id=\"nicc\"></a>"
   ]
  },
  {
   "cell_type": "code",
   "execution_count": 11,
   "metadata": {},
   "outputs": [
    {
     "name": "stdout",
     "output_type": "stream",
     "text": [
      "       Time [s]    c_A [kgmol/m^3]  c_B [kgmol/m^3]     T [K]\n",
      "      0.000e+00       1.713e-01       2.057e+00       3.500e+02\n",
      "      5.025e+00       1.205e-01       2.070e+00       3.523e+02\n",
      "      1.005e+01       8.347e-02       2.075e+00       3.545e+02\n",
      "      1.508e+01       5.791e-02       2.072e+00       3.567e+02\n",
      "      2.010e+01       4.079e-02       2.065e+00       3.589e+02\n",
      "      2.513e+01       2.958e-02       2.055e+00       3.610e+02\n",
      "      3.015e+01       2.232e-02       2.044e+00       3.628e+02\n",
      "      3.518e+01       1.758e-02       2.034e+00       3.643e+02\n",
      "      4.020e+01       1.445e-02       2.025e+00       3.656e+02\n",
      "      4.523e+01       1.232e-02       2.017e+00       3.667e+02\n",
      "      5.025e+01       1.085e-02       2.011e+00       3.675e+02\n",
      "      5.528e+01       9.811e-03       2.006e+00       3.682e+02\n",
      "      6.030e+01       9.061e-03       2.001e+00       3.687e+02\n",
      "      6.533e+01       8.512e-03       1.998e+00       3.692e+02\n",
      "      7.035e+01       8.106e-03       1.996e+00       3.695e+02\n",
      "      7.538e+01       7.802e-03       1.994e+00       3.698e+02\n",
      "      8.040e+01       7.572e-03       1.992e+00       3.700e+02\n",
      "      8.543e+01       7.398e-03       1.991e+00       3.701e+02\n",
      "      9.045e+01       7.265e-03       1.990e+00       3.702e+02\n",
      "      9.548e+01       7.162e-03       1.989e+00       3.703e+02\n",
      "      1.005e+02       7.084e-03       1.988e+00       3.704e+02\n",
      "      1.055e+02       7.023e-03       1.988e+00       3.705e+02\n",
      "      1.106e+02       6.977e-03       1.988e+00       3.705e+02\n",
      "      1.156e+02       6.940e-03       1.987e+00       3.706e+02\n",
      "      1.206e+02       6.912e-03       1.987e+00       3.706e+02\n",
      "      1.256e+02       6.891e-03       1.987e+00       3.706e+02\n",
      "      1.307e+02       6.874e-03       1.987e+00       3.706e+02\n",
      "      1.357e+02       6.861e-03       1.987e+00       3.706e+02\n",
      "      1.407e+02       6.850e-03       1.987e+00       3.707e+02\n",
      "      1.457e+02       6.843e-03       1.987e+00       3.707e+02\n",
      "      1.508e+02       6.836e-03       1.987e+00       3.707e+02\n",
      "      1.558e+02       6.832e-03       1.987e+00       3.707e+02\n",
      "      1.608e+02       6.828e-03       1.986e+00       3.707e+02\n",
      "      1.658e+02       6.825e-03       1.986e+00       3.707e+02\n",
      "      1.709e+02       6.823e-03       1.986e+00       3.707e+02\n",
      "      1.759e+02       6.821e-03       1.986e+00       3.707e+02\n",
      "      1.809e+02       6.820e-03       1.986e+00       3.707e+02\n",
      "      1.859e+02       6.819e-03       1.986e+00       3.707e+02\n",
      "      1.910e+02       6.818e-03       1.986e+00       3.707e+02\n",
      "      1.960e+02       6.817e-03       1.986e+00       3.707e+02\n"
     ]
    }
   ],
   "source": [
    "'''Evolve the CSTR'''\n",
    "\n",
    "# inflow condition change\n",
    "\n",
    "params['c_a_in']  = 1.0    # 1 mol/L\n",
    "params['temp_in'] = 440.0  # K\n",
    "\n",
    "# run the reactor\n",
    "\n",
    "time_final   = 10 * tau # number of residence flow times to evolve\n",
    "n_time_steps = 200      # number of solution values in time\n",
    "\n",
    "import numpy as np\n",
    "time_stamps = np.linspace(0.0, time_final, num=n_time_steps) # create time stamps\n",
    "\n",
    "u_vec_history = run_cstr(f_vec, time_stamps, params)\n",
    "\n",
    "# print the solution in a tabular form\n",
    "print('       Time [s]    c_A [kgmol/m^3]  c_B [kgmol/m^3]     T [K]' )\n",
    "idx = 0\n",
    "for (t,u) in zip(time_stamps,u_vec_history):\n",
    "    if idx%5 == 0: # print only every 5 time stamp\n",
    "        print('%15.3e %15.3e %15.3e %15.3e'%(t,u[0],u[1],u[2]))\n",
    "    idx += 1"
   ]
  },
  {
   "cell_type": "code",
   "execution_count": 12,
   "metadata": {},
   "outputs": [
    {
     "data": {
      "image/png": "[encoded data removed]",
      "text/plain": [
       "<Figure size 720x504 with 3 Axes>"
      ]
     },
     "metadata": {
      "needs_background": "light"
     },
     "output_type": "display_data"
    },
    {
     "name": "stdout",
     "output_type": "stream",
     "text": [
      "\n"
     ]
    }
   ],
   "source": [
    "'''Plot Concentration versus Time'''\n",
    "\n",
    "import matplotlib.pyplot as plt\n",
    "    \n",
    "(fig, ax1) = plt.subplots(1, figsize=(10, 7))\n",
    "\n",
    "ax1.plot(time_stamps/tau, u_vec_history[:,0],'b-',label='$T_{in}=$ '+str(params['temp_in']) )\n",
    "\n",
    "ax1.set_xlabel(r'Time [$\\tau$] ($\\tau=$%5.1f s)'%tau,fontsize=16)\n",
    "ax1.set_ylabel(r'$c_A$ [mol/L]',fontsize=16,color='blue')\n",
    "ax1.tick_params(axis='y', labelcolor='blue', labelsize=14)\n",
    "ax1.tick_params(axis='x', labelsize=14)\n",
    "#ax1.legend(loc='best',fontsize=12)\n",
    "#ax1.set_ylim(0,1)\n",
    "ax1.grid(True)\n",
    "\n",
    "# create a twin x axis to be shared\n",
    "ax2 = ax1.twinx() \n",
    "\n",
    "ax2.plot(time_stamps/tau , u_vec_history[:,1],'g-.',label='$T_{in}=$ '+str(params['temp_in']))\n",
    "\n",
    "ax2.set_ylabel(r'$c_B$ [mol/L]',fontsize=16,color='green')\n",
    "ax2.tick_params(axis='y', labelcolor='green', labelsize=14)\n",
    "#ax2.legend(loc='best',fontsize=12)\n",
    "#ax2.set_ylim(0,2)\n",
    "#ax2.grid(True)\n",
    "\n",
    "ax3 = ax1.twinx() \n",
    "ax3.plot(time_stamps/tau, u_vec_history[:,1]/u_vec_history[:,0],'--',color='red',label='$T_{in}=$ '+str(params['temp_in']) )\n",
    "ax3.set_ylabel(r'$c_B/c_A$',fontsize=16,color='red')\n",
    "ax3.tick_params(axis='y', labelcolor='red', labelsize=14)\n",
    "#ax3.legend(loc='best',fontsize=14)\n",
    "#ax2.grid(True)\n",
    "ax3.spines[\"right\"].set_position((\"axes\", 1.25))\n",
    "\n",
    "plt.title('CSTR w/ Heating (endothermic rxn)',fontsize=20)\n",
    "fig.tight_layout()  # otherwise the right y-label is slightly clipped\n",
    "plt.show()\n",
    "print('')"
   ]
  },
  {
   "cell_type": "markdown",
   "metadata": {},
   "source": [
    "With the switch to new inflow conditions, *i.e* lower $c_{A_\\text{in}}$ and higher $T_\\text{in}$ relative the the steady state condition, A is consumed immediately and drops to a new lower value in about 8$\\,\\tau$. The concentration of B has an initial peak and at steady state is reduced as compared to the initial value."
   ]
  },
  {
   "cell_type": "code",
   "execution_count": 13,
   "metadata": {},
   "outputs": [
    {
     "data": {
      "image/png": "[encoded data removed]",
      "text/plain": [
       "<Figure size 720x504 with 3 Axes>"
      ]
     },
     "metadata": {
      "needs_background": "light"
     },
     "output_type": "display_data"
    },
    {
     "name": "stdout",
     "output_type": "stream",
     "text": [
      "\n"
     ]
    }
   ],
   "source": [
    "import matplotlib.pyplot as plt\n",
    "    \n",
    "(fig, ax1) = plt.subplots(1, figsize=(10, 7))\n",
    "\n",
    "ax1.plot(time_stamps/tau,u_vec_history[:,2],'r-',label='$T_{in}=$ '+str(params['temp_in']) )\n",
    "\n",
    "ax1.set_xlabel(r'Time [$\\tau$] ($\\tau=$%5.1f s)'%tau,fontsize=16)\n",
    "ax1.set_ylabel(r'$T$ [K]',fontsize=16,color='red')\n",
    "ax1.tick_params(axis='y', labelcolor='red', labelsize=14)\n",
    "ax1.tick_params(axis='x', labelsize=14)\n",
    "ax1.legend(loc='upper left',fontsize=12)\n",
    "ax1.grid(True)\n",
    "\n",
    "ax2 = ax1.twinx() \n",
    "k_cte = params['k_0']*np.exp(-params['energy_a_over_r']/u_vec_history[:,2])\n",
    "ax2.plot(time_stamps/tau,k_cte,'-',color='navy',label='$T_{in}=$ '+str(params['temp_in']) )\n",
    "ax2.set_ylabel(r'$k$ [s$^{-1}$]',fontsize=16,color='navy')\n",
    "ax2.tick_params(axis='y', labelcolor='navy', labelsize=14)\n",
    "#ax2.legend(loc='best',fontsize=14)\n",
    "#ax2.grid(True)\n",
    "\n",
    "ax3 = ax1.twinx() \n",
    "ax3.plot(time_stamps/tau, q_heat_power_dens_ss/1000/1000*np.ones(time_stamps.size),'-',color='green',label='$T_{in}=$ '+str(params['temp_in']) )\n",
    "ax3.set_ylabel(r'$\\dot{Q}/V$ [kW/L]',fontsize=16,color='green')\n",
    "ax3.tick_params(axis='y', labelcolor='green', labelsize=14)\n",
    "#ax3.legend(loc='best',fontsize=14)\n",
    "#ax2.grid(True)\n",
    "ax3.spines[\"right\"].set_position((\"axes\", 1.2))\n",
    "\n",
    "plt.title('CSTR w/ Heating (endothermic rxn)',fontsize=20)\n",
    "fig.tight_layout()  # otherwise the right y-label is slightly clipped\n",
    "plt.show()\n",
    "print('')"
   ]
  },
  {
   "cell_type": "markdown",
   "metadata": {},
   "source": [
    "The temperature of the reactor rises to a new higher value but lower than the inflow temperature because of the endothermic reaction taking place."
   ]
  },
  {
   "cell_type": "markdown",
   "metadata": {},
   "source": [
    "## [Final Comments](#toc)<a id=\"fc\"></a>\n",
    "After the change in feed conditions the reactor reaches another steady state after 160 seconds as shown in the table and plots above.\n",
    "\n",
    "<span style=\"color:red\">\n",
    "If the cost of electricity is US $\\$$0.3/kWh, to run this chemical reactor for 160 seconds will cost: US $50.\n",
    "</span>"
   ]
  },
  {
   "cell_type": "code",
   "execution_count": 14,
   "metadata": {},
   "outputs": [
    {
     "ename": "ModuleNotFoundError",
     "evalue": "No module named 'plotly'",
     "output_type": "error",
     "traceback": [
      "\u001b[0;31m---------------------------------------------------------------------------\u001b[0m",
      "\u001b[0;31mModuleNotFoundError\u001b[0m                       Traceback (most recent call last)",
      "\u001b[0;32m<ipython-input-14-0bd7152d23b3>\u001b[0m in \u001b[0;36m<module>\u001b[0;34m\u001b[0m\n\u001b[0;32m----> 1\u001b[0;31m \u001b[0;32mimport\u001b[0m \u001b[0mplotly\u001b[0m\u001b[0;34m.\u001b[0m\u001b[0moffline\u001b[0m \u001b[0;32mas\u001b[0m \u001b[0mpy\u001b[0m \u001b[0;31m# check plotly website\u001b[0m\u001b[0;34m\u001b[0m\u001b[0;34m\u001b[0m\u001b[0m\n\u001b[0m\u001b[1;32m      2\u001b[0m \u001b[0mpy\u001b[0m\u001b[0;34m.\u001b[0m\u001b[0minit_notebook_mode\u001b[0m\u001b[0;34m(\u001b[0m\u001b[0;34m)\u001b[0m\u001b[0;34m\u001b[0m\u001b[0;34m\u001b[0m\u001b[0m\n\u001b[1;32m      3\u001b[0m \u001b[0;32mimport\u001b[0m \u001b[0mplotly\u001b[0m\u001b[0;34m.\u001b[0m\u001b[0mgraph_objs\u001b[0m \u001b[0;32mas\u001b[0m \u001b[0mgo\u001b[0m\u001b[0;34m\u001b[0m\u001b[0;34m\u001b[0m\u001b[0m\n\u001b[1;32m      4\u001b[0m \u001b[0;34m\u001b[0m\u001b[0m\n\u001b[1;32m      5\u001b[0m \u001b[0;32mfrom\u001b[0m \u001b[0mipywidgets\u001b[0m \u001b[0;32mimport\u001b[0m \u001b[0minteract\u001b[0m \u001b[0;31m# ipython notebook\u001b[0m\u001b[0;34m\u001b[0m\u001b[0;34m\u001b[0m\u001b[0m\n",
      "\u001b[0;31mModuleNotFoundError\u001b[0m: No module named 'plotly'"
     ]
    }
   ],
   "source": [
    "import plotly.offline as py # check plotly website\n",
    "py.init_notebook_mode()\n",
    "import plotly.graph_objs as go\n",
    "\n",
    "from ipywidgets import interact # ipython notebook\n",
    "\n",
    "layout = go.Layout(title=\"CSTR w/ Heating (endothermic rxn)\", \n",
    "                   xaxis={'title':'Time [min]'}, \n",
    "                   yaxis=dict(side='left',title='HELLO'), \n",
    "                   yaxis2=dict(overlaying='y',anchor='x',side='right',title='HELLO')\n",
    "                  )\n",
    "\n",
    "fig = go.FigureWidget(layout=layout)\n",
    "\n",
    "scatt = fig.add_scatter()\n",
    "\n",
    "fig.layout.titlefont.size = 22\n",
    "fig.layout.titlefont.family = 'Rockwell'\n",
    "fig.layout.xaxis.title = 'Time [tau]'\n",
    "fig.layout.yaxis.title = 'c_A [kgmol/L]'\n",
    "fig.layout.yaxis2.title = 'T [K]'"
   ]
  },
  {
   "cell_type": "markdown",
   "metadata": {},
   "source": [
    "## [Interactive Results](#toc) <a id=\"ires\"></a>"
   ]
  },
  {
   "cell_type": "code",
   "execution_count": null,
   "metadata": {},
   "outputs": [],
   "source": [
    "'''Create interactive plot'''\n",
    "\n",
    "import plotly\n",
    "plotly.offline.init_notebook_mode(connected=True)\n",
    "import plotly.graph_objs as go\n",
    "from plotly import subplots\n",
    "\n",
    "fig = go.FigureWidget()\n",
    "fig = subplots.make_subplots(rows=3, cols=1, print_grid=False)\n",
    "\n",
    "layout = go.Layout(title='CSTR w/ Heating (endothermic rxn)', \n",
    "         xaxis={'title':'Time [min]'}, \n",
    "         yaxis=dict(side='left',title='$\\\\text{NO}_2 [\\\\mu \\\\text{g}/ \\\\text{m}^3]$',anchor='x'),\n",
    "         xaxis2={'title':'Time [min]'}, \n",
    "         yaxis2=dict(side='left',title='$\\\\text{NO}_2 [\\\\mu \\\\text{g}/ \\\\text{m}^3]$',anchor='x2'),\n",
    "         xaxis3={'title':'Time [min]'}, \n",
    "         yaxis3=dict(side='left',title='$\\\\text{Power} [\\\\mu \\\\text{g}/ \\\\text{m}^3]$',anchor='x3')\n",
    "                )\n",
    "\n",
    "fig.layout.titlefont.size = 22\n",
    "fig.layout.titlefont.family = 'Rockwell'"
   ]
  },
  {
   "cell_type": "code",
   "execution_count": null,
   "metadata": {
    "code_folding": []
   },
   "outputs": [],
   "source": [
    "'''Vary inflow temperature and molarity of A'''\n",
    "\n",
    "@interact(inflow_T=(400.0, 450.0, 1.0), inflow_A=(0.7, 1.5, 0.05), \n",
    "          select=['Temperature', 'Molarity_A', 'Molarity_B', 'All'])\n",
    "def update(inflow_T=425.0, inflow_A=1.2, select='Molarity_A'):\n",
    "    with fig.batch_update():\n",
    "        #scatt.x=time_stamps/tau\n",
    "        params['c_a_in']  = inflow_A\n",
    "        params['temp_in'] = inflow_T\n",
    "        \n",
    "        history = run_cstr(f_vec, time_stamps, params)\n",
    "        \n",
    "        def plot_molarity_a(fig):\n",
    "            if row==1:\n",
    "                xaxis = 'xaxis'\n",
    "                yaxis = 'yaxis'\n",
    "            elif row==2:\n",
    "                xaxis = 'xaxis2'\n",
    "                yaxis = 'yaxis2'\n",
    "            else:\n",
    "                assert False, 'not available.'\n",
    "        \n",
    "        if select == 'Molarity_A':\n",
    "            scatt_xaxis='x'\n",
    "            scatt_yaxis='y'\n",
    "            fig.add_scatter(name='Molarity A',mode='lines',\n",
    "                            x=time_stamps/tau, y=history[:,0],\n",
    "                            xaxis=scatt_xaxis , yaxis=scatt_yaxis,\n",
    "                            line=dict(color='blue'))\n",
    "            #scatt.y=history[:,0]\n",
    "            #scatt.line.color='blue'\n",
    "            fig.layout.yaxis.title = 'c_A [mol/L]'\n",
    "        elif select == 'Molarity_B':\n",
    "            scatt_xaxis='x'\n",
    "            scatt_yaxis='y'\n",
    "            fig.add_scatter(name='Molarity B',mode='lines',\n",
    "                            x=time_stamps/tau, y=history[:,1],\n",
    "                            xaxis=scatt_xaxis , yaxis=scatt_yaxis,\n",
    "                            line=dict(color='green'))\n",
    "            #scatt.y=history[:,1]\n",
    "            #scatt.line.color='green'\n",
    "            fig.layout.yaxis.title = 'c_B [mol/L]'\n",
    "        else:\n",
    "            scatt_xaxis='x'\n",
    "            scatt_yaxis='y'\n",
    "            fig.add_scatter(name='Temperature',mode='lines',\n",
    "                            x=time_stamps/tau, y=history[:,2],\n",
    "                            xaxis=scatt_xaxis , yaxis=scatt_yaxis,\n",
    "                            line=dict(color='red'))\n",
    "            #scatt.y=history[:,2]\n",
    "            #scatt.line.color='red'\n",
    "            fig.layout.yaxis.title = 'T [K]'\n",
    "\n",
    "fig"
   ]
  },
  {
   "cell_type": "code",
   "execution_count": null,
   "metadata": {},
   "outputs": [],
   "source": []
  }
 ],
 "metadata": {
  "kernelspec": {
   "display_name": "Python 3",
   "language": "python",
   "name": "python3"
  },
  "language_info": {
   "codemirror_mode": {
    "name": "ipython",
    "version": 3
   },
   "file_extension": ".py",
   "mimetype": "text/x-python",
   "name": "python",
   "nbconvert_exporter": "python",
   "pygments_lexer": "ipython3",
   "version": "3.9.6"
  },
  "latex_envs": {
   "LaTeX_envs_menu_present": true,
   "autoclose": false,
   "autocomplete": true,
   "bibliofile": "biblio.bib",
   "cite_by": "apalike",
   "current_citInitial": 1,
   "eqLabelWithNumbers": true,
   "eqNumInitial": 1,
   "hotkeys": {
    "equation": "Ctrl-E",
    "itemize": "Ctrl-I"
   },
   "labels_anchors": false,
   "latex_user_defs": false,
   "report_style_numbering": false,
   "user_envs_cfg": false
  }
 },
 "nbformat": 4,
 "nbformat_minor": 2
}
